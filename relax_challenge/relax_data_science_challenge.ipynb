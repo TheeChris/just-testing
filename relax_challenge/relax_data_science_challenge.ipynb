{
 "cells": [
  {
   "cell_type": "markdown",
   "metadata": {},
   "source": [
    "# Relax, Inc. Data Science Challenge\n",
    "### Table 1: takehome_users\n",
    "A user table with data on 12,000 users who signed up for the product in the last two years. This table includes:\n",
    "* `name`: the user's name\n",
    "* `object_id`: the user's id\n",
    "* `email`: email address\n",
    "* `creation_source`: how their account was created. This takes on one of 5 values:\n",
    "    * *PERSONAL_PROJECTS*: invited to join another user's personal workspace\n",
    "    * *GUEST_INVITE*: invited to an organization as a guest (limited permissions)\n",
    "    * *ORG_INVITE*: invited to an organization (as a full member)\n",
    "    * *SIGNUP*: signed up via the website\n",
    "    * *SIGNUP_GOOGLE_AUTH*: signed up using Google Authentication (using a Google email account for their login\n",
    "id)\n",
    "* `creation_time`: when they created their account\n",
    "* `last_session_creation_time`: unix timestamp of last login\n",
    "* `opted_in_to_mailing_list`: whether they have opted into receiving marketing emails\n",
    "* `enabled_for_marketing_drip`: whether they are on the regular marketing email drip\n",
    "* `org_id`: the organization (group of users) they belong to\n",
    "* `invited_by_user_id`: which user invited them to join (if applicable).\n",
    "\n",
    "### Table 2: takehome_user_engagement\n",
    "A usage summary table that has a row for each day that a user logged into the product. \n",
    "\n",
    "## Challenge\n",
    "Defining an \"adopted user\" as a user who has logged into the product on three separate days in at least one seven-day period, identify which factors predict future user adoption.\n",
    "\n",
    "We suggest spending 1-2 hours on this, but you're welcome to spend more or less. Please send us a brief writeup of your findings (the more concise, the better no more than one page), along with any summary tables, graphs, code, or queries that can help us understand your approach. Please note any factors you considered or investigation you did, even if they did not pan out. Feel free to identify any further research or data you think would be valuable."
   ]
  },
  {
   "cell_type": "code",
   "execution_count": 1,
   "metadata": {},
   "outputs": [],
   "source": [
    "# import libraries\n",
    "import matplotlib.pyplot as plt\n",
    "import pandas as pd\n",
    "import seaborn as sns"
   ]
  },
  {
   "cell_type": "code",
   "execution_count": 2,
   "metadata": {},
   "outputs": [
    {
     "data": {
      "text/html": [
       "<div>\n",
       "<style scoped>\n",
       "    .dataframe tbody tr th:only-of-type {\n",
       "        vertical-align: middle;\n",
       "    }\n",
       "\n",
       "    .dataframe tbody tr th {\n",
       "        vertical-align: top;\n",
       "    }\n",
       "\n",
       "    .dataframe thead th {\n",
       "        text-align: right;\n",
       "    }\n",
       "</style>\n",
       "<table border=\"1\" class=\"dataframe\">\n",
       "  <thead>\n",
       "    <tr style=\"text-align: right;\">\n",
       "      <th></th>\n",
       "      <th>time_stamp</th>\n",
       "      <th>user_id</th>\n",
       "      <th>visited</th>\n",
       "    </tr>\n",
       "  </thead>\n",
       "  <tbody>\n",
       "    <tr>\n",
       "      <th>0</th>\n",
       "      <td>2014-04-22 03:53:30</td>\n",
       "      <td>1</td>\n",
       "      <td>1</td>\n",
       "    </tr>\n",
       "    <tr>\n",
       "      <th>1</th>\n",
       "      <td>2013-11-15 03:45:04</td>\n",
       "      <td>2</td>\n",
       "      <td>1</td>\n",
       "    </tr>\n",
       "    <tr>\n",
       "      <th>2</th>\n",
       "      <td>2013-11-29 03:45:04</td>\n",
       "      <td>2</td>\n",
       "      <td>1</td>\n",
       "    </tr>\n",
       "    <tr>\n",
       "      <th>3</th>\n",
       "      <td>2013-12-09 03:45:04</td>\n",
       "      <td>2</td>\n",
       "      <td>1</td>\n",
       "    </tr>\n",
       "    <tr>\n",
       "      <th>4</th>\n",
       "      <td>2013-12-25 03:45:04</td>\n",
       "      <td>2</td>\n",
       "      <td>1</td>\n",
       "    </tr>\n",
       "  </tbody>\n",
       "</table>\n",
       "</div>"
      ],
      "text/plain": [
       "           time_stamp  user_id  visited\n",
       "0 2014-04-22 03:53:30        1        1\n",
       "1 2013-11-15 03:45:04        2        1\n",
       "2 2013-11-29 03:45:04        2        1\n",
       "3 2013-12-09 03:45:04        2        1\n",
       "4 2013-12-25 03:45:04        2        1"
      ]
     },
     "execution_count": 2,
     "metadata": {},
     "output_type": "execute_result"
    }
   ],
   "source": [
    "# create user engagement dataframe\n",
    "engagement_df = pd.read_csv('takehome_user_engagement.csv', \n",
    "                            parse_dates=['time_stamp'], \n",
    "                            infer_datetime_format=True)\n",
    "engagement_df.head()"
   ]
  },
  {
   "cell_type": "code",
   "execution_count": 3,
   "metadata": {},
   "outputs": [],
   "source": [
    "def identify_adopted(df, group_col='user_id', time_col='time_stamp', count_col='visited', min_count=3):\n",
    "    '''\n",
    "    A function to identify adopted users by minimum weekly activity.\n",
    "    group_col = column name by which to group the dataframe\n",
    "    time_col = datetime column\n",
    "    count_col = column containing data to count\n",
    "    min_count = minimum number of in count_col to identify as adopted\n",
    "    '''\n",
    "    week_count = df.groupby([group_col, df[time_col].dt.strftime('%W')])[count_col].sum()\n",
    "    adopted_df= week_count.where(week_count >= min_count).dropna().unstack().fillna(0).reset_index()\n",
    "    adopted = adopted_df[group_col].tolist()\n",
    "    return adopted"
   ]
  },
  {
   "cell_type": "code",
   "execution_count": 4,
   "metadata": {},
   "outputs": [],
   "source": [
    "# create list of adopted users\n",
    "adopted = identify_adopted(engagement_df)"
   ]
  },
  {
   "cell_type": "code",
   "execution_count": 5,
   "metadata": {},
   "outputs": [],
   "source": [
    "# compute a Series of the total number of visits from each user\n",
    "visit_count = engagement_df.groupby('user_id')['visited'].count().to_frame()"
   ]
  },
  {
   "cell_type": "code",
   "execution_count": 6,
   "metadata": {},
   "outputs": [],
   "source": [
    "# load user info into dataframe\n",
    "users_df = pd.read_csv('takehome_users.csv', \n",
    "                       index_col=0, encoding='Latin-1', \n",
    "                       parse_dates=['creation_time','last_session_creation_time']\n",
    "                      )"
   ]
  },
  {
   "cell_type": "code",
   "execution_count": 7,
   "metadata": {},
   "outputs": [],
   "source": [
    "# add visit count Series to users_df\n",
    "users_df = users_df.merge(visit_count, left_index=True, right_index=True)"
   ]
  },
  {
   "cell_type": "code",
   "execution_count": 8,
   "metadata": {},
   "outputs": [
    {
     "data": {
      "text/html": [
       "<div>\n",
       "<style scoped>\n",
       "    .dataframe tbody tr th:only-of-type {\n",
       "        vertical-align: middle;\n",
       "    }\n",
       "\n",
       "    .dataframe tbody tr th {\n",
       "        vertical-align: top;\n",
       "    }\n",
       "\n",
       "    .dataframe thead th {\n",
       "        text-align: right;\n",
       "    }\n",
       "</style>\n",
       "<table border=\"1\" class=\"dataframe\">\n",
       "  <thead>\n",
       "    <tr style=\"text-align: right;\">\n",
       "      <th></th>\n",
       "      <th>creation_time</th>\n",
       "      <th>name</th>\n",
       "      <th>email</th>\n",
       "      <th>creation_source</th>\n",
       "      <th>last_session_creation_time</th>\n",
       "      <th>opted_in_to_mailing_list</th>\n",
       "      <th>enabled_for_marketing_drip</th>\n",
       "      <th>org_id</th>\n",
       "      <th>invited_by_user_id</th>\n",
       "      <th>visited</th>\n",
       "      <th>adopted_user</th>\n",
       "    </tr>\n",
       "  </thead>\n",
       "  <tbody>\n",
       "    <tr>\n",
       "      <th>1</th>\n",
       "      <td>2014-04-22 03:53:30</td>\n",
       "      <td>Clausen August</td>\n",
       "      <td>AugustCClausen@yahoo.com</td>\n",
       "      <td>GUEST_INVITE</td>\n",
       "      <td>1398138810</td>\n",
       "      <td>1</td>\n",
       "      <td>0</td>\n",
       "      <td>11</td>\n",
       "      <td>10803.0</td>\n",
       "      <td>1</td>\n",
       "      <td>0</td>\n",
       "    </tr>\n",
       "    <tr>\n",
       "      <th>2</th>\n",
       "      <td>2013-11-15 03:45:04</td>\n",
       "      <td>Poole Matthew</td>\n",
       "      <td>MatthewPoole@gustr.com</td>\n",
       "      <td>ORG_INVITE</td>\n",
       "      <td>1396237504</td>\n",
       "      <td>0</td>\n",
       "      <td>0</td>\n",
       "      <td>1</td>\n",
       "      <td>316.0</td>\n",
       "      <td>14</td>\n",
       "      <td>1</td>\n",
       "    </tr>\n",
       "    <tr>\n",
       "      <th>3</th>\n",
       "      <td>2013-03-19 23:14:52</td>\n",
       "      <td>Bottrill Mitchell</td>\n",
       "      <td>MitchellBottrill@gustr.com</td>\n",
       "      <td>ORG_INVITE</td>\n",
       "      <td>1363734892</td>\n",
       "      <td>0</td>\n",
       "      <td>0</td>\n",
       "      <td>94</td>\n",
       "      <td>1525.0</td>\n",
       "      <td>1</td>\n",
       "      <td>0</td>\n",
       "    </tr>\n",
       "    <tr>\n",
       "      <th>4</th>\n",
       "      <td>2013-05-21 08:09:28</td>\n",
       "      <td>Clausen Nicklas</td>\n",
       "      <td>NicklasSClausen@yahoo.com</td>\n",
       "      <td>GUEST_INVITE</td>\n",
       "      <td>1369210168</td>\n",
       "      <td>0</td>\n",
       "      <td>0</td>\n",
       "      <td>1</td>\n",
       "      <td>5151.0</td>\n",
       "      <td>1</td>\n",
       "      <td>0</td>\n",
       "    </tr>\n",
       "    <tr>\n",
       "      <th>5</th>\n",
       "      <td>2013-01-17 10:14:20</td>\n",
       "      <td>Raw Grace</td>\n",
       "      <td>GraceRaw@yahoo.com</td>\n",
       "      <td>GUEST_INVITE</td>\n",
       "      <td>1358849660</td>\n",
       "      <td>0</td>\n",
       "      <td>0</td>\n",
       "      <td>193</td>\n",
       "      <td>5240.0</td>\n",
       "      <td>1</td>\n",
       "      <td>0</td>\n",
       "    </tr>\n",
       "  </tbody>\n",
       "</table>\n",
       "</div>"
      ],
      "text/plain": [
       "        creation_time               name                       email  \\\n",
       "1 2014-04-22 03:53:30     Clausen August    AugustCClausen@yahoo.com   \n",
       "2 2013-11-15 03:45:04      Poole Matthew      MatthewPoole@gustr.com   \n",
       "3 2013-03-19 23:14:52  Bottrill Mitchell  MitchellBottrill@gustr.com   \n",
       "4 2013-05-21 08:09:28    Clausen Nicklas   NicklasSClausen@yahoo.com   \n",
       "5 2013-01-17 10:14:20          Raw Grace          GraceRaw@yahoo.com   \n",
       "\n",
       "  creation_source last_session_creation_time  opted_in_to_mailing_list  \\\n",
       "1    GUEST_INVITE                 1398138810                         1   \n",
       "2      ORG_INVITE                 1396237504                         0   \n",
       "3      ORG_INVITE                 1363734892                         0   \n",
       "4    GUEST_INVITE                 1369210168                         0   \n",
       "5    GUEST_INVITE                 1358849660                         0   \n",
       "\n",
       "   enabled_for_marketing_drip  org_id  invited_by_user_id  visited  \\\n",
       "1                           0      11             10803.0        1   \n",
       "2                           0       1               316.0       14   \n",
       "3                           0      94              1525.0        1   \n",
       "4                           0       1              5151.0        1   \n",
       "5                           0     193              5240.0        1   \n",
       "\n",
       "   adopted_user  \n",
       "1             0  \n",
       "2             1  \n",
       "3             0  \n",
       "4             0  \n",
       "5             0  "
      ]
     },
     "execution_count": 8,
     "metadata": {},
     "output_type": "execute_result"
    }
   ],
   "source": [
    "# add adopted_user column\n",
    "users_df['adopted_user'] = users_df.index.isin(adopted).astype(int)\n",
    "users_df.head()"
   ]
  },
  {
   "cell_type": "code",
   "execution_count": 9,
   "metadata": {},
   "outputs": [
    {
     "name": "stdout",
     "output_type": "stream",
     "text": [
      "<class 'pandas.core.frame.DataFrame'>\n",
      "Int64Index: 8823 entries, 1 to 12000\n",
      "Data columns (total 11 columns):\n",
      "creation_time                 8823 non-null datetime64[ns]\n",
      "name                          8823 non-null object\n",
      "email                         8823 non-null object\n",
      "creation_source               8823 non-null object\n",
      "last_session_creation_time    8823 non-null object\n",
      "opted_in_to_mailing_list      8823 non-null int64\n",
      "enabled_for_marketing_drip    8823 non-null int64\n",
      "org_id                        8823 non-null int64\n",
      "invited_by_user_id            4776 non-null float64\n",
      "visited                       8823 non-null int64\n",
      "adopted_user                  8823 non-null int32\n",
      "dtypes: datetime64[ns](1), float64(1), int32(1), int64(4), object(4)\n",
      "memory usage: 792.7+ KB\n"
     ]
    }
   ],
   "source": [
    "users_df.info()"
   ]
  },
  {
   "cell_type": "code",
   "execution_count": 10,
   "metadata": {},
   "outputs": [],
   "source": [
    "# convert last_session to datetime\n",
    "users_df['last_session_creation_time'] = pd.to_datetime(users_df['last_session_creation_time'].astype(int), unit='s')\n",
    "\n",
    "# convert creation source to categorical\n",
    "users_df.creation_source = users_df.creation_source.astype('category')"
   ]
  },
  {
   "cell_type": "code",
   "execution_count": 11,
   "metadata": {},
   "outputs": [
    {
     "name": "stdout",
     "output_type": "stream",
     "text": [
      "Unadopted User Stats\n",
      "Min Logins: 1\n",
      "Max Logins: 34\n",
      "Mean Logins: 2\n",
      "Median Logins: 1\n",
      "\n",
      "Adopted User Stats\n",
      "Min Logins: 3\n",
      "Max Logins: 606\n",
      "Mean Logins: 136\n",
      "Median Logins: 83\n"
     ]
    }
   ],
   "source": [
    "# compute login stats for each unadopted users\n",
    "unadopted_min = users_df[users_df.adopted_user == False]['visited'].min()\n",
    "unadopted_max = users_df[users_df.adopted_user == False]['visited'].max()\n",
    "unadopted_mean = users_df[users_df.adopted_user == False]['visited'].mean()\n",
    "unadopted_median = users_df[users_df.adopted_user == False]['visited'].median()\n",
    "\n",
    "print('Unadopted User Stats')\n",
    "print('Min Logins: {0}\\nMax Logins: {1}\\nMean Logins: {2:.0f}\\nMedian Logins: {3:.0f}'.format(unadopted_min, \n",
    "                                                                    unadopted_max,\n",
    "                                                                    unadopted_mean,\n",
    "                                                                    unadopted_median))\n",
    "\n",
    "print()\n",
    "# compute login stats for each adopted users\n",
    "adopted_min = users_df[users_df.adopted_user == True]['visited'].min()\n",
    "adopted_max = users_df[users_df.adopted_user == True]['visited'].max()\n",
    "adopted_mean = users_df[users_df.adopted_user == True]['visited'].mean()\n",
    "adopted_median = users_df[users_df.adopted_user == True]['visited'].median()\n",
    "\n",
    "print('Adopted User Stats')\n",
    "print('Min Logins: {0}\\nMax Logins: {1}\\nMean Logins: {2:.0f}\\nMedian Logins: {3:.0f}'.format(adopted_min, \n",
    "                                                                                     adopted_max, \n",
    "                                                                                     adopted_mean,\n",
    "                                                                                     adopted_median))"
   ]
  },
  {
   "cell_type": "code",
   "execution_count": 12,
   "metadata": {},
   "outputs": [
    {
     "data": {
      "text/plain": [
       "<matplotlib.axes._subplots.AxesSubplot at 0x2c08cbebf60>"
      ]
     },
     "execution_count": 12,
     "metadata": {},
     "output_type": "execute_result"
    },
    {
     "data": {
      "image/png": "[encoded data removed]",
      "text/plain": [
       "<Figure size 1152x288 with 1 Axes>"
      ]
     },
     "metadata": {
      "needs_background": "light"
     },
     "output_type": "display_data"
    }
   ],
   "source": [
    "# plot the distribution of visits between adopted and non-adopted users\n",
    "plt.figure(figsize=(16,4))\n",
    "sns.boxplot(x='visited', y='adopted_user', data=users_df, orient='h')"
   ]
  },
  {
   "cell_type": "markdown",
   "metadata": {},
   "source": [
    "### Identify which factors predict future user adoption."
   ]
  },
  {
   "cell_type": "code",
   "execution_count": 13,
   "metadata": {},
   "outputs": [
    {
     "name": "stdout",
     "output_type": "stream",
     "text": [
      "creation_source\n",
      "GUEST_INVITE          0.205290\n",
      "ORG_INVITE            0.154015\n",
      "PERSONAL_PROJECTS     0.191099\n",
      "SIGNUP                0.144889\n",
      "SIGNUP_GOOGLE_AUTH    0.148736\n",
      "Name: adopted_user, dtype: float64\n"
     ]
    },
    {
     "data": {
      "text/plain": [
       "<matplotlib.axes._subplots.AxesSubplot at 0x2c08cdc5828>"
      ]
     },
     "execution_count": 13,
     "metadata": {},
     "output_type": "execute_result"
    },
    {
     "data": {
      "image/png": "[encoded data removed]",
      "text/plain": [
       "<Figure size 432x288 with 1 Axes>"
      ]
     },
     "metadata": {
      "needs_background": "light"
     },
     "output_type": "display_data"
    }
   ],
   "source": [
    "print(users_df.groupby('creation_source')['adopted_user'].sum() / users_df.groupby('creation_source')['adopted_user'].count())\n",
    "\n",
    "(users_df.groupby('creation_source')['adopted_user'].sum() / users_df.groupby('creation_source')['adopted_user'].count()).plot(kind='bar', \n",
    "                                                               title='No. of Adopted Users by Creation Source')"
   ]
  },
  {
   "cell_type": "markdown",
   "metadata": {},
   "source": [
    "Regardless of account creation type, all users had less than a 21% adoption rate. However, those that were invited as guests of an organization or invited to join another member's personal project appear to be slightly more likely to adopt the platform. This may indicate that users are more likely to adopt the platform if their is a social component to their participation. Further testing would be needed to confirm this assumption."
   ]
  },
  {
   "cell_type": "code",
   "execution_count": 14,
   "metadata": {},
   "outputs": [
    {
     "name": "stdout",
     "output_type": "stream",
     "text": [
      "opted_in_to_mailing_list  adopted_user\n",
      "0                         0               5531\n",
      "                          1               1066\n",
      "1                         0               1848\n",
      "                          1                378\n",
      "Name: adopted_user, dtype: int64\n"
     ]
    },
    {
     "data": {
      "text/plain": [
       "<matplotlib.axes._subplots.AxesSubplot at 0x2c08cbb70f0>"
      ]
     },
     "execution_count": 14,
     "metadata": {},
     "output_type": "execute_result"
    },
    {
     "data": {
      "image/png": "[encoded data removed]",
      "text/plain": [
       "<Figure size 432x288 with 1 Axes>"
      ]
     },
     "metadata": {
      "needs_background": "light"
     },
     "output_type": "display_data"
    }
   ],
   "source": [
    "mail_list = users_df.groupby(['opted_in_to_mailing_list','adopted_user'])['adopted_user'].count()\n",
    "print(mail_list)\n",
    "mail_list.unstack().plot(kind='bar', stacked=True)"
   ]
  },
  {
   "cell_type": "code",
   "execution_count": 15,
   "metadata": {},
   "outputs": [
    {
     "data": {
      "text/html": [
       "<div>\n",
       "<style scoped>\n",
       "    .dataframe tbody tr th:only-of-type {\n",
       "        vertical-align: middle;\n",
       "    }\n",
       "\n",
       "    .dataframe tbody tr th {\n",
       "        vertical-align: top;\n",
       "    }\n",
       "\n",
       "    .dataframe thead th {\n",
       "        text-align: right;\n",
       "    }\n",
       "</style>\n",
       "<table border=\"1\" class=\"dataframe\">\n",
       "  <thead>\n",
       "    <tr style=\"text-align: right;\">\n",
       "      <th>adopted_user</th>\n",
       "      <th>0</th>\n",
       "      <th>1</th>\n",
       "      <th>pct</th>\n",
       "    </tr>\n",
       "    <tr>\n",
       "      <th>opted_in_to_mailing_list</th>\n",
       "      <th></th>\n",
       "      <th></th>\n",
       "      <th></th>\n",
       "    </tr>\n",
       "  </thead>\n",
       "  <tbody>\n",
       "    <tr>\n",
       "      <th>0</th>\n",
       "      <td>5531</td>\n",
       "      <td>1066</td>\n",
       "      <td>0.280127</td>\n",
       "    </tr>\n",
       "    <tr>\n",
       "      <th>1</th>\n",
       "      <td>1848</td>\n",
       "      <td>378</td>\n",
       "      <td>0.169811</td>\n",
       "    </tr>\n",
       "  </tbody>\n",
       "</table>\n",
       "</div>"
      ],
      "text/plain": [
       "adopted_user                 0     1       pct\n",
       "opted_in_to_mailing_list                      \n",
       "0                         5531  1066  0.280127\n",
       "1                         1848   378  0.169811"
      ]
     },
     "execution_count": 15,
     "metadata": {},
     "output_type": "execute_result"
    }
   ],
   "source": [
    "mail_list_unstack = mail_list.unstack()\n",
    "\n",
    "# compute the percent of adopted users based on mailing list status\n",
    "mail_list_unstack['pct'] = mail_list_unstack.iloc[1] / mail_list_unstack.sum(axis=1)\n",
    "mail_list_unstack"
   ]
  },
  {
   "cell_type": "markdown",
   "metadata": {},
   "source": [
    "Interestingly, users appear to be more likely to adopt the platform if they *did not* opt in to the mailing list."
   ]
  },
  {
   "cell_type": "code",
   "execution_count": 16,
   "metadata": {},
   "outputs": [
    {
     "data": {
      "text/plain": [
       "417"
      ]
     },
     "execution_count": 16,
     "metadata": {},
     "output_type": "execute_result"
    }
   ],
   "source": [
    "# compute number of unique organizations\n",
    "len(users_df.org_id.unique())"
   ]
  },
  {
   "cell_type": "code",
   "execution_count": 17,
   "metadata": {},
   "outputs": [
    {
     "data": {
      "text/plain": [
       "<matplotlib.axes._subplots.AxesSubplot at 0x2c08bdb0550>"
      ]
     },
     "execution_count": 17,
     "metadata": {},
     "output_type": "execute_result"
    },
    {
     "data": {
      "image/png": "[encoded data removed]",
      "text/plain": [
       "<Figure size 1152x432 with 1 Axes>"
      ]
     },
     "metadata": {
      "needs_background": "light"
     },
     "output_type": "display_data"
    }
   ],
   "source": [
    "# compute the percent of adopted users by organization\n",
    "org_adoption_pct = (users_df.groupby('org_id')['adopted_user'].sum() / users_df.groupby('org_id')['adopted_user'].count()).sort_values(ascending=False)\n",
    "\n",
    "# the the 100 orgs with the highest adoption rate\n",
    "org_adoption_pct[:100].plot(kind='bar', title='Pct of Adoption by Organization',figsize=(16,6))"
   ]
  },
  {
   "cell_type": "markdown",
   "metadata": {},
   "source": [
    "We can see that there are only 3 organizations with an adoption rate above 50% and about 50 organizations with adoption above 33%. Out of 417 organizations, this leaves a small percentage of organizations that are converting users to adoption.\n",
    "\n",
    "Next, we will compute the feature importances using a Gradient Boosting model to get a sense of what the model deems are important factors in predicting adoption."
   ]
  },
  {
   "cell_type": "code",
   "execution_count": 18,
   "metadata": {},
   "outputs": [],
   "source": [
    "# convert creation source categories to numerical codes\n",
    "users_df['creation_source'] = pd.Categorical(users_df.creation_source).codes"
   ]
  },
  {
   "cell_type": "code",
   "execution_count": 19,
   "metadata": {},
   "outputs": [],
   "source": [
    "# define features for gradient boosting model\n",
    "features = users_df[['creation_source','opted_in_to_mailing_list','enabled_for_marketing_drip','org_id','invited_by_user_id','visited']].copy()\n",
    "\n",
    "# convert missing data\n",
    "features.invited_by_user_id.fillna(-1, inplace=True)"
   ]
  },
  {
   "cell_type": "code",
   "execution_count": 20,
   "metadata": {},
   "outputs": [
    {
     "data": {
      "image/png": "[encoded data removed]",
      "text/plain": [
       "<Figure size 576x432 with 1 Axes>"
      ]
     },
     "metadata": {},
     "output_type": "display_data"
    }
   ],
   "source": [
    "# plot feature importances using gradient boosting model\n",
    "from sklearn.ensemble import GradientBoostingClassifier\n",
    "from yellowbrick.features.importances import FeatureImportances\n",
    "\n",
    "X = features\n",
    "y = users_df.adopted_user\n",
    "\n",
    "# Create a new matplotlib figure\n",
    "fig = plt.figure(figsize=(8,6))\n",
    "ax = fig.add_subplot()\n",
    "\n",
    "viz = FeatureImportances(GradientBoostingClassifier(random_state=42), ax=ax)\n",
    "viz.fit(X, y)\n",
    "viz.poof()"
   ]
  },
  {
   "cell_type": "code",
   "execution_count": 21,
   "metadata": {},
   "outputs": [
    {
     "data": {
      "text/plain": [
       "0.978021978021978"
      ]
     },
     "execution_count": 21,
     "metadata": {},
     "output_type": "execute_result"
    }
   ],
   "source": [
    "# see how well the baseline GB model performs\n",
    "from sklearn.model_selection import train_test_split\n",
    "X_train, X_test, y_train, y_test = train_test_split(X, y, test_size=0.33, random_state=42)\n",
    "\n",
    "clf = GradientBoostingClassifier(random_state=42).fit(X_train, y_train)\n",
    "clf.score(X_test, y_test)  "
   ]
  },
  {
   "cell_type": "markdown",
   "metadata": {},
   "source": [
    "## Conclusion\n",
    "Based on the data provided, we can conclude that the most important factor in predicting whether a user will adopt the platform is the number of visits. Descriptive statistics point to this insight when we see that the mean number of logins for an unadopted user is 2 (with a max of 34) and the mean for an adopted user is 136 (with a max of 606). The gradient boosting algorithm seems to gain all of its information from the number of visits while creating a model with 97.8% accuracy. While a users number of visits gives us good predictive power, a more important questions might be why are certain users visiting more than others and how can we increase the number of visits from those users who are currently unlikely to adopt the platform. \n",
    "\n",
    "Some information can be gained in the descriptive statistcs produced above. For example, we saw that users are more likely to adopt who were invited to the platform through an organizational guest pass or a private project pass. It is advised to look more into this social aspect of the platform and see what the users and organizations who are inviting adopted users are doing differently. We also saw that users that signed up for the newsletter were less likely to adopt the service. Is the newsletter not driving traffic back to the website? Is it actively driving users away? These are questions that require more in-depth analysis. In addition, the gradient boosting feature importance indicates that the organization to which the user belongs (org_id) plays an important role in predicting adoption. The bar plot above shows that only 3 organizations have more than 50% of their users convert to adoption (and only about 50 of the 417 organizations convert more than 33%). It might be worth examining the difference between organizations that convert users to adopted versus those that don't."
   ]
  },
  {
   "cell_type": "code",
   "execution_count": null,
   "metadata": {},
   "outputs": [],
   "source": []
  }
 ],
 "metadata": {
  "kernelspec": {
   "display_name": "ultimate",
   "language": "python",
   "name": "ultimate"
  },
  "language_info": {
   "codemirror_mode": {
    "name": "ipython",
    "version": 3
   },
   "file_extension": ".py",
   "mimetype": "text/x-python",
   "name": "python",
   "nbconvert_exporter": "python",
   "pygments_lexer": "ipython3",
   "version": "3.7.1"
  }
 },
 "nbformat": 4,
 "nbformat_minor": 2
}
