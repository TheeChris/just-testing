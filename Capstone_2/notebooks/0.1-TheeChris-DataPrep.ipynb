{
 "cells": [
  {
   "cell_type": "markdown",
   "metadata": {},
   "source": [
    "# Preparing Data from the MIMIC-III Database\n",
    "In preparation of predicting hospital readmissions, data from the NOTEVENTS and ADMISSIONS tables of the MIMIC-III database will be pulled into a pandas DataFrame and cleaned."
   ]
  },
  {
   "cell_type": "code",
   "execution_count": 1,
   "metadata": {},
   "outputs": [],
   "source": [
    "# import libraries\n",
    "import os\n",
    "from dotenv import load_dotenv, find_dotenv\n",
    "import matplotlib.pyplot as plt\n",
    "import numpy as np\n",
    "import pandas as pd\n",
    "import seaborn as sns\n",
    "from sqlalchemy import create_engine, MetaData, Table\n",
    "\n",
    "%matplotlib inline\n",
    "%load_ext watermark\n",
    "\n",
    "PROJ_ROOT = os.path.join(os.pardir)"
   ]
  },
  {
   "cell_type": "code",
   "execution_count": 2,
   "metadata": {},
   "outputs": [
    {
     "name": "stdout",
     "output_type": "stream",
     "text": [
      "E. Chris Lynch 2018-12-19 21:11:28 \n",
      "\n",
      "CPython 3.7.1\n",
      "IPython 7.2.0\n",
      "\n",
      "numpy 1.15.4\n",
      "pandas 0.23.4\n",
      "matplotlib 2.2.3\n",
      "sqlalchemy 1.2.15\n"
     ]
    }
   ],
   "source": [
    "%watermark -a \"E. Chris Lynch\" -d -t -v -p numpy,pandas,matplotlib,sqlalchemy"
   ]
  },
  {
   "cell_type": "code",
   "execution_count": 3,
   "metadata": {},
   "outputs": [],
   "source": [
    "# find .env automagically by walking up directories until it's found\n",
    "dotenv_path = find_dotenv()\n",
    "\n",
    "# load up the entries as environment variables\n",
    "load_dotenv(dotenv_path)\n",
    "\n",
    "database_url = os.environ.get(\"DATABASE_URL\")"
   ]
  },
  {
   "cell_type": "code",
   "execution_count": 4,
   "metadata": {},
   "outputs": [],
   "source": [
    "# initiate PostgreSQL engine\n",
    "engine = create_engine(database_url,\n",
    "    connect_args={'options': '-csearch_path=mimiciii'}\n",
    ")\n",
    "connection = engine.connect()"
   ]
  },
  {
   "cell_type": "code",
   "execution_count": 5,
   "metadata": {},
   "outputs": [],
   "source": [
    "metadata = MetaData()\n",
    "\n",
    "# define NOTEEVENTS table\n",
    "notes = Table('noteevents', metadata, autoload=True, autoload_with=engine)"
   ]
  },
  {
   "cell_type": "code",
   "execution_count": 6,
   "metadata": {},
   "outputs": [
    {
     "name": "stdout",
     "output_type": "stream",
     "text": [
      "COLUMN NAMES\n",
      "['row_id', 'subject_id', 'hadm_id', 'chartdate', 'charttime', 'storetime', 'category', 'description', 'cgid', 'iserror', 'text']\n",
      "\n",
      "METADATA\n",
      "Table('noteevents', MetaData(bind=None), Column('row_id', INTEGER(), table=<noteevents>, primary_key=True, nullable=False), Column('subject_id', INTEGER(), table=<noteevents>, nullable=False), Column('hadm_id', INTEGER(), table=<noteevents>), Column('chartdate', TIMESTAMP(precision=0), table=<noteevents>), Column('charttime', TIMESTAMP(precision=0), table=<noteevents>), Column('storetime', TIMESTAMP(precision=0), table=<noteevents>), Column('category', VARCHAR(length=50), table=<noteevents>), Column('description', VARCHAR(length=255), table=<noteevents>), Column('cgid', INTEGER(), table=<noteevents>), Column('iserror', CHAR(length=1), table=<noteevents>), Column('text', TEXT(), table=<noteevents>), schema=None)\n"
     ]
    }
   ],
   "source": [
    "# Print the column names\n",
    "print('COLUMN NAMES')\n",
    "print(notes.columns.keys())\n",
    "\n",
    "# Print full table metadata\n",
    "print('\\nMETADATA')\n",
    "print(repr(notes))"
   ]
  },
  {
   "cell_type": "code",
   "execution_count": 7,
   "metadata": {},
   "outputs": [
    {
     "name": "stdout",
     "output_type": "stream",
     "text": [
      "Nursing/other: 822497\n",
      "Radiology: 522279\n",
      "Nursing: 223556\n",
      "ECG: 209051\n",
      "Physician : 141624\n",
      "Discharge summary: 59652\n",
      "Echo: 45794\n",
      "Respiratory : 31739\n",
      "Nutrition: 9418\n",
      "General: 8301\n",
      "Rehab Services: 5431\n",
      "Social Work: 2670\n",
      "Case Management : 967\n",
      "Pharmacy: 103\n",
      "Consult: 98\n"
     ]
    }
   ],
   "source": [
    "# return a count of records by category\n",
    "query = 'SELECT COUNT(row_id) as Count, category \\\n",
    "        FROM noteevents \\\n",
    "        GROUP BY category \\\n",
    "        ORDER BY Count DESC'\n",
    "cat_counts = connection.execute(query).fetchall()\n",
    "for count, cat in cat_counts:\n",
    "    print('{0}: {1}'.format(cat, count))"
   ]
  },
  {
   "cell_type": "markdown",
   "metadata": {},
   "source": [
    "## Extract data from ADMISSIONS table"
   ]
  },
  {
   "cell_type": "code",
   "execution_count": 8,
   "metadata": {},
   "outputs": [
    {
     "name": "stdout",
     "output_type": "stream",
     "text": [
      "COLUMN NAMES\n",
      "['row_id', 'subject_id', 'hadm_id', 'admittime', 'dischtime', 'deathtime', 'admission_type', 'admission_location', 'discharge_location', 'insurance', 'language', 'religion', 'marital_status', 'ethnicity', 'edregtime', 'edouttime', 'diagnosis', 'hospital_expire_flag', 'has_chartevents_data']\n",
      "\n",
      "METADATA\n",
      "Table('admissions', MetaData(bind=None), Column('row_id', INTEGER(), table=<admissions>, primary_key=True, nullable=False), Column('subject_id', INTEGER(), table=<admissions>, nullable=False), Column('hadm_id', INTEGER(), table=<admissions>, nullable=False), Column('admittime', TIMESTAMP(precision=0), table=<admissions>, nullable=False), Column('dischtime', TIMESTAMP(precision=0), table=<admissions>, nullable=False), Column('deathtime', TIMESTAMP(precision=0), table=<admissions>), Column('admission_type', VARCHAR(length=50), table=<admissions>, nullable=False), Column('admission_location', VARCHAR(length=50), table=<admissions>, nullable=False), Column('discharge_location', VARCHAR(length=50), table=<admissions>, nullable=False), Column('insurance', VARCHAR(length=255), table=<admissions>, nullable=False), Column('language', VARCHAR(length=10), table=<admissions>), Column('religion', VARCHAR(length=50), table=<admissions>), Column('marital_status', VARCHAR(length=50), table=<admissions>), Column('ethnicity', VARCHAR(length=200), table=<admissions>, nullable=False), Column('edregtime', TIMESTAMP(precision=0), table=<admissions>), Column('edouttime', TIMESTAMP(precision=0), table=<admissions>), Column('diagnosis', VARCHAR(length=255), table=<admissions>), Column('hospital_expire_flag', SMALLINT(), table=<admissions>), Column('has_chartevents_data', SMALLINT(), table=<admissions>, nullable=False), schema=None)\n"
     ]
    }
   ],
   "source": [
    "# define ADMISSIONS table\n",
    "admit = Table('admissions', metadata, autoload=True, autoload_with=engine)\n",
    "\n",
    "# Print the column names\n",
    "print('COLUMN NAMES')\n",
    "print(admit.columns.keys())\n",
    "\n",
    "# Print full table metadata\n",
    "print('\\nMETADATA')\n",
    "print(repr(admit))"
   ]
  },
  {
   "cell_type": "code",
   "execution_count": 9,
   "metadata": {},
   "outputs": [],
   "source": [
    "# extract Admissions data\n",
    "query = \"SELECT subject_id, hadm_id, admittime, dischtime, deathtime, admission_type FROM admissions\"\n",
    "admissions_query = connection.execute(query).fetchall()"
   ]
  },
  {
   "cell_type": "code",
   "execution_count": 10,
   "metadata": {},
   "outputs": [
    {
     "data": {
      "text/html": [
       "<div>\n",
       "<style scoped>\n",
       "    .dataframe tbody tr th:only-of-type {\n",
       "        vertical-align: middle;\n",
       "    }\n",
       "\n",
       "    .dataframe tbody tr th {\n",
       "        vertical-align: top;\n",
       "    }\n",
       "\n",
       "    .dataframe thead th {\n",
       "        text-align: right;\n",
       "    }\n",
       "</style>\n",
       "<table border=\"1\" class=\"dataframe\">\n",
       "  <thead>\n",
       "    <tr style=\"text-align: right;\">\n",
       "      <th></th>\n",
       "      <th>subject_id</th>\n",
       "      <th>hadm_id</th>\n",
       "      <th>admission_time</th>\n",
       "      <th>discharge_time</th>\n",
       "      <th>time_of_death</th>\n",
       "      <th>admission_type</th>\n",
       "    </tr>\n",
       "  </thead>\n",
       "  <tbody>\n",
       "    <tr>\n",
       "      <th>0</th>\n",
       "      <td>22</td>\n",
       "      <td>165315</td>\n",
       "      <td>2196-04-09 12:26:00</td>\n",
       "      <td>2196-04-10 15:54:00</td>\n",
       "      <td>NaT</td>\n",
       "      <td>EMERGENCY</td>\n",
       "    </tr>\n",
       "    <tr>\n",
       "      <th>1</th>\n",
       "      <td>23</td>\n",
       "      <td>152223</td>\n",
       "      <td>2153-09-03 07:15:00</td>\n",
       "      <td>2153-09-08 19:10:00</td>\n",
       "      <td>NaT</td>\n",
       "      <td>ELECTIVE</td>\n",
       "    </tr>\n",
       "    <tr>\n",
       "      <th>2</th>\n",
       "      <td>23</td>\n",
       "      <td>124321</td>\n",
       "      <td>2157-10-18 19:34:00</td>\n",
       "      <td>2157-10-25 14:00:00</td>\n",
       "      <td>NaT</td>\n",
       "      <td>EMERGENCY</td>\n",
       "    </tr>\n",
       "  </tbody>\n",
       "</table>\n",
       "</div>"
      ],
      "text/plain": [
       "   subject_id  hadm_id      admission_time      discharge_time time_of_death  \\\n",
       "0          22   165315 2196-04-09 12:26:00 2196-04-10 15:54:00           NaT   \n",
       "1          23   152223 2153-09-03 07:15:00 2153-09-08 19:10:00           NaT   \n",
       "2          23   124321 2157-10-18 19:34:00 2157-10-25 14:00:00           NaT   \n",
       "\n",
       "  admission_type  \n",
       "0      EMERGENCY  \n",
       "1       ELECTIVE  \n",
       "2      EMERGENCY  "
      ]
     },
     "execution_count": 10,
     "metadata": {},
     "output_type": "execute_result"
    }
   ],
   "source": [
    "# create DataFrame\n",
    "admissions_df = pd.DataFrame.from_records(admissions_query, \n",
    "                                         columns=['subject_id', 'hadm_id', 'admission_time',\n",
    "                                                  'discharge_time','time_of_death','admission_type'])\n",
    "admissions_df.head(3)"
   ]
  },
  {
   "cell_type": "code",
   "execution_count": 11,
   "metadata": {},
   "outputs": [
    {
     "name": "stdout",
     "output_type": "stream",
     "text": [
      "<class 'pandas.core.frame.DataFrame'>\n",
      "RangeIndex: 58976 entries, 0 to 58975\n",
      "Data columns (total 6 columns):\n",
      "subject_id        58976 non-null int64\n",
      "hadm_id           58976 non-null int64\n",
      "admission_time    58976 non-null datetime64[ns]\n",
      "discharge_time    58976 non-null datetime64[ns]\n",
      "time_of_death     5854 non-null datetime64[ns]\n",
      "admission_type    58976 non-null object\n",
      "dtypes: datetime64[ns](3), int64(2), object(1)\n",
      "memory usage: 2.7+ MB\n"
     ]
    }
   ],
   "source": [
    "admissions_df.info()"
   ]
  },
  {
   "cell_type": "code",
   "execution_count": 12,
   "metadata": {},
   "outputs": [],
   "source": [
    "# sort by subject_ID and admission time\n",
    "admissions_df = admissions_df.sort_values(['subject_id','admission_time'])\n",
    "admissions_df = admissions_df.reset_index(drop=True)"
   ]
  },
  {
   "cell_type": "code",
   "execution_count": 13,
   "metadata": {},
   "outputs": [],
   "source": [
    "# add the next admission date and type for each subject\n",
    "admissions_df['next_admission'] = admissions_df.groupby('subject_id').admission_time.shift(-1)\n",
    "\n",
    "# get the next admission type\n",
    "admissions_df['next_admission_type'] = admissions_df.groupby('subject_id').admission_type.shift(-1)"
   ]
  },
  {
   "cell_type": "code",
   "execution_count": 14,
   "metadata": {},
   "outputs": [],
   "source": [
    "# get rows where next admission is elective and replace with naT or nan\n",
    "rows = admissions_df.next_admission_type == 'ELECTIVE'\n",
    "admissions_df.loc[rows,'next_admission'] = pd.NaT\n",
    "admissions_df.loc[rows,'next_admission_type'] = np.NaN"
   ]
  },
  {
   "cell_type": "code",
   "execution_count": 15,
   "metadata": {},
   "outputs": [],
   "source": [
    "# sort by subject_ID and admission date\n",
    "admissions_df = admissions_df.sort_values(['subject_id','admission_time'])\n",
    "\n",
    "# back fill next admission type\n",
    "admissions_df[['next_admission','next_admission_type']] = admissions_df.groupby(['subject_id'])[['next_admission','next_admission_type']].fillna(method = 'bfill')"
   ]
  },
  {
   "cell_type": "code",
   "execution_count": 16,
   "metadata": {},
   "outputs": [],
   "source": [
    "# calculate the number of days between admissions\n",
    "admissions_df['days_between_admit']=  (admissions_df.next_admission - admissions_df.discharge_time).dt.total_seconds()/(24*60*60)"
   ]
  },
  {
   "cell_type": "code",
   "execution_count": 17,
   "metadata": {},
   "outputs": [
    {
     "data": {
      "text/html": [
       "<div>\n",
       "<style scoped>\n",
       "    .dataframe tbody tr th:only-of-type {\n",
       "        vertical-align: middle;\n",
       "    }\n",
       "\n",
       "    .dataframe tbody tr th {\n",
       "        vertical-align: top;\n",
       "    }\n",
       "\n",
       "    .dataframe thead th {\n",
       "        text-align: right;\n",
       "    }\n",
       "</style>\n",
       "<table border=\"1\" class=\"dataframe\">\n",
       "  <thead>\n",
       "    <tr style=\"text-align: right;\">\n",
       "      <th></th>\n",
       "      <th>subject_id</th>\n",
       "      <th>hadm_id</th>\n",
       "      <th>admission_time</th>\n",
       "      <th>discharge_time</th>\n",
       "      <th>time_of_death</th>\n",
       "      <th>admission_type</th>\n",
       "      <th>next_admission</th>\n",
       "      <th>next_admission_type</th>\n",
       "      <th>days_between_admit</th>\n",
       "    </tr>\n",
       "  </thead>\n",
       "  <tbody>\n",
       "    <tr>\n",
       "      <th>0</th>\n",
       "      <td>2</td>\n",
       "      <td>163353</td>\n",
       "      <td>2138-07-17 19:04:00</td>\n",
       "      <td>2138-07-21 15:48:00</td>\n",
       "      <td>NaT</td>\n",
       "      <td>NEWBORN</td>\n",
       "      <td>NaT</td>\n",
       "      <td>NaN</td>\n",
       "      <td>NaN</td>\n",
       "    </tr>\n",
       "    <tr>\n",
       "      <th>1</th>\n",
       "      <td>3</td>\n",
       "      <td>145834</td>\n",
       "      <td>2101-10-20 19:08:00</td>\n",
       "      <td>2101-10-31 13:58:00</td>\n",
       "      <td>NaT</td>\n",
       "      <td>EMERGENCY</td>\n",
       "      <td>NaT</td>\n",
       "      <td>NaN</td>\n",
       "      <td>NaN</td>\n",
       "    </tr>\n",
       "    <tr>\n",
       "      <th>2</th>\n",
       "      <td>4</td>\n",
       "      <td>185777</td>\n",
       "      <td>2191-03-16 00:28:00</td>\n",
       "      <td>2191-03-23 18:41:00</td>\n",
       "      <td>NaT</td>\n",
       "      <td>EMERGENCY</td>\n",
       "      <td>NaT</td>\n",
       "      <td>NaN</td>\n",
       "      <td>NaN</td>\n",
       "    </tr>\n",
       "  </tbody>\n",
       "</table>\n",
       "</div>"
      ],
      "text/plain": [
       "   subject_id  hadm_id      admission_time      discharge_time time_of_death  \\\n",
       "0           2   163353 2138-07-17 19:04:00 2138-07-21 15:48:00           NaT   \n",
       "1           3   145834 2101-10-20 19:08:00 2101-10-31 13:58:00           NaT   \n",
       "2           4   185777 2191-03-16 00:28:00 2191-03-23 18:41:00           NaT   \n",
       "\n",
       "  admission_type next_admission next_admission_type  days_between_admit  \n",
       "0        NEWBORN            NaT                 NaN                 NaN  \n",
       "1      EMERGENCY            NaT                 NaN                 NaN  \n",
       "2      EMERGENCY            NaT                 NaN                 NaN  "
      ]
     },
     "execution_count": 17,
     "metadata": {},
     "output_type": "execute_result"
    }
   ],
   "source": [
    "admissions_df.head(3)"
   ]
  },
  {
   "cell_type": "code",
   "execution_count": 18,
   "metadata": {},
   "outputs": [],
   "source": [
    "# assert there are no duplicate hospital admissions\n",
    "assert admissions_df.duplicated(['hadm_id']).sum() == 0, 'Multiple admissions per ID'"
   ]
  },
  {
   "cell_type": "code",
   "execution_count": 19,
   "metadata": {},
   "outputs": [
    {
     "name": "stdout",
     "output_type": "stream",
     "text": [
      "<class 'pandas.core.frame.DataFrame'>\n",
      "Int64Index: 58976 entries, 0 to 58975\n",
      "Data columns (total 9 columns):\n",
      "subject_id             58976 non-null int64\n",
      "hadm_id                58976 non-null int64\n",
      "admission_time         58976 non-null datetime64[ns]\n",
      "discharge_time         58976 non-null datetime64[ns]\n",
      "time_of_death          5854 non-null datetime64[ns]\n",
      "admission_type         58976 non-null object\n",
      "next_admission         11399 non-null datetime64[ns]\n",
      "next_admission_type    11399 non-null object\n",
      "days_between_admit     11399 non-null float64\n",
      "dtypes: datetime64[ns](4), float64(1), int64(2), object(2)\n",
      "memory usage: 4.5+ MB\n"
     ]
    }
   ],
   "source": [
    "admissions_df.info()"
   ]
  },
  {
   "cell_type": "code",
   "execution_count": 194,
   "metadata": {},
   "outputs": [
    {
     "data": {
      "image/png": "[encoded data removed]",
      "text/plain": [
       "<Figure size 576x360 with 1 Axes>"
      ]
     },
     "metadata": {
      "needs_background": "light"
     },
     "output_type": "display_data"
    }
   ],
   "source": [
    "fig, ax = plt.subplots(figsize=(8,5))\n",
    "admissions_df.days_between_admit.hist(bins=20, ax=ax)\n",
    "ax.set_title('Distribution of Days Between Hospital Admissions')\n",
    "ax.set_xlabel('Days Between Admission')\n",
    "ax.set_ylabel('Count')\n",
    "plt.savefig(os.path.join(PROJ_ROOT, 'reports',\n",
    "                         'figures','days_between_distro.png'))"
   ]
  },
  {
   "cell_type": "markdown",
   "metadata": {},
   "source": [
    "## Extract Discharge Summary notes from NOTEEVENTS table"
   ]
  },
  {
   "cell_type": "code",
   "execution_count": 25,
   "metadata": {},
   "outputs": [
    {
     "name": "stdout",
     "output_type": "stream",
     "text": [
      "COLUMN NAMES\n",
      "['row_id', 'subject_id', 'hadm_id', 'chartdate', 'charttime', 'storetime', 'category', 'description', 'cgid', 'iserror', 'text']\n",
      "\n",
      "METADATA\n",
      "Table('noteevents', MetaData(bind=None), Column('row_id', INTEGER(), table=<noteevents>, primary_key=True, nullable=False), Column('subject_id', INTEGER(), table=<noteevents>, nullable=False), Column('hadm_id', INTEGER(), table=<noteevents>), Column('chartdate', TIMESTAMP(precision=0), table=<noteevents>), Column('charttime', TIMESTAMP(precision=0), table=<noteevents>), Column('storetime', TIMESTAMP(precision=0), table=<noteevents>), Column('category', VARCHAR(length=50), table=<noteevents>), Column('description', VARCHAR(length=255), table=<noteevents>), Column('cgid', INTEGER(), table=<noteevents>), Column('iserror', CHAR(length=1), table=<noteevents>), Column('text', TEXT(), table=<noteevents>), schema=None)\n"
     ]
    }
   ],
   "source": [
    "# define NOTEEVENTES table\n",
    "notes = Table('noteevents', metadata, autoload=True, autoload_with=engine)\n",
    "\n",
    "# Print the column names\n",
    "print('COLUMN NAMES')\n",
    "print(notes.columns.keys())\n",
    "\n",
    "# Print full table metadata\n",
    "print('\\nMETADATA')\n",
    "print(repr(notes))"
   ]
  },
  {
   "cell_type": "markdown",
   "metadata": {},
   "source": [
    "### Dataframe with Nursing and Discharge Summary Notes"
   ]
  },
  {
   "cell_type": "code",
   "execution_count": 41,
   "metadata": {},
   "outputs": [],
   "source": [
    "# extract Discharge and Nursing notes\n",
    "query = \"SELECT subject_id, hadm_id, category, text \\\n",
    "        FROM noteevents \\\n",
    "        WHERE category = 'Discharge summary' OR category = 'Nursing'\"\n",
    "nurse_discharge_query = connection.execute(query).fetchall()"
   ]
  },
  {
   "cell_type": "code",
   "execution_count": 157,
   "metadata": {},
   "outputs": [
    {
     "name": "stdout",
     "output_type": "stream",
     "text": [
      "(283208, 4)\n"
     ]
    },
    {
     "data": {
      "text/html": [
       "<div>\n",
       "<style scoped>\n",
       "    .dataframe tbody tr th:only-of-type {\n",
       "        vertical-align: middle;\n",
       "    }\n",
       "\n",
       "    .dataframe tbody tr th {\n",
       "        vertical-align: top;\n",
       "    }\n",
       "\n",
       "    .dataframe thead th {\n",
       "        text-align: right;\n",
       "    }\n",
       "</style>\n",
       "<table border=\"1\" class=\"dataframe\">\n",
       "  <thead>\n",
       "    <tr style=\"text-align: right;\">\n",
       "      <th></th>\n",
       "      <th>subject_id</th>\n",
       "      <th>hadm_id</th>\n",
       "      <th>category</th>\n",
       "      <th>text</th>\n",
       "    </tr>\n",
       "  </thead>\n",
       "  <tbody>\n",
       "    <tr>\n",
       "      <th>0</th>\n",
       "      <td>75201</td>\n",
       "      <td>167242.0</td>\n",
       "      <td>Nursing</td>\n",
       "      <td>TITLE:\\n   67 y.o.m. with metastatic renal cel...</td>\n",
       "    </tr>\n",
       "    <tr>\n",
       "      <th>1</th>\n",
       "      <td>85264</td>\n",
       "      <td>115648.0</td>\n",
       "      <td>Nursing</td>\n",
       "      <td>TITLE:\\n   Code status : DNI.\\n   Contact pers...</td>\n",
       "    </tr>\n",
       "    <tr>\n",
       "      <th>2</th>\n",
       "      <td>29431</td>\n",
       "      <td>114252.0</td>\n",
       "      <td>Nursing</td>\n",
       "      <td>TITLE:\\n   .H/O epiduarl abscess\\n   Assessmen...</td>\n",
       "    </tr>\n",
       "  </tbody>\n",
       "</table>\n",
       "</div>"
      ],
      "text/plain": [
       "   subject_id   hadm_id category  \\\n",
       "0       75201  167242.0  Nursing   \n",
       "1       85264  115648.0  Nursing   \n",
       "2       29431  114252.0  Nursing   \n",
       "\n",
       "                                                text  \n",
       "0  TITLE:\\n   67 y.o.m. with metastatic renal cel...  \n",
       "1  TITLE:\\n   Code status : DNI.\\n   Contact pers...  \n",
       "2  TITLE:\\n   .H/O epiduarl abscess\\n   Assessmen...  "
      ]
     },
     "execution_count": 157,
     "metadata": {},
     "output_type": "execute_result"
    }
   ],
   "source": [
    "# create DataFrame\n",
    "nurse_discharge_df = pd.DataFrame.from_records(nurse_discharge_query, \n",
    "                                         columns=['subject_id','hadm_id','category','text'])\n",
    "print(nurse_discharge_df.shape)\n",
    "nurse_discharge_df.head(3)"
   ]
  },
  {
   "cell_type": "code",
   "execution_count": 158,
   "metadata": {},
   "outputs": [
    {
     "name": "stdout",
     "output_type": "stream",
     "text": [
      "(260466, 4)\n"
     ]
    }
   ],
   "source": [
    "# drop duplicate notes\n",
    "nurse_discharge_df.drop_duplicates(subset=['hadm_id','text'], inplace=True)\n",
    "print(nurse_discharge_df.shape)"
   ]
  },
  {
   "cell_type": "code",
   "execution_count": 159,
   "metadata": {},
   "outputs": [],
   "source": [
    "# group by admissions and concat notes as a list\n",
    "grouped_df = nurse_discharge_df.groupby(['subject_id','hadm_id'])['text'].apply(list).to_frame().reset_index()"
   ]
  },
  {
   "cell_type": "code",
   "execution_count": 160,
   "metadata": {},
   "outputs": [
    {
     "data": {
      "text/html": [
       "<div>\n",
       "<style scoped>\n",
       "    .dataframe tbody tr th:only-of-type {\n",
       "        vertical-align: middle;\n",
       "    }\n",
       "\n",
       "    .dataframe tbody tr th {\n",
       "        vertical-align: top;\n",
       "    }\n",
       "\n",
       "    .dataframe thead th {\n",
       "        text-align: right;\n",
       "    }\n",
       "</style>\n",
       "<table border=\"1\" class=\"dataframe\">\n",
       "  <thead>\n",
       "    <tr style=\"text-align: right;\">\n",
       "      <th></th>\n",
       "      <th>subject_id</th>\n",
       "      <th>hadm_id</th>\n",
       "      <th>text</th>\n",
       "    </tr>\n",
       "  </thead>\n",
       "  <tbody>\n",
       "    <tr>\n",
       "      <th>0</th>\n",
       "      <td>3</td>\n",
       "      <td>145834.0</td>\n",
       "      <td>[Admission Date:  [**2101-10-20**]     Dischar...</td>\n",
       "    </tr>\n",
       "    <tr>\n",
       "      <th>1</th>\n",
       "      <td>4</td>\n",
       "      <td>185777.0</td>\n",
       "      <td>[Admission Date:  [**2191-3-16**]     Discharg...</td>\n",
       "    </tr>\n",
       "    <tr>\n",
       "      <th>2</th>\n",
       "      <td>6</td>\n",
       "      <td>107064.0</td>\n",
       "      <td>[Admission Date: [**2175-5-30**]        Discha...</td>\n",
       "    </tr>\n",
       "    <tr>\n",
       "      <th>3</th>\n",
       "      <td>9</td>\n",
       "      <td>150750.0</td>\n",
       "      <td>[Admission Date:  [**2149-11-9**]       Discha...</td>\n",
       "    </tr>\n",
       "    <tr>\n",
       "      <th>4</th>\n",
       "      <td>10</td>\n",
       "      <td>184167.0</td>\n",
       "      <td>[Admission Date:  [**2103-6-28**]       Discha...</td>\n",
       "    </tr>\n",
       "  </tbody>\n",
       "</table>\n",
       "</div>"
      ],
      "text/plain": [
       "   subject_id   hadm_id                                               text\n",
       "0           3  145834.0  [Admission Date:  [**2101-10-20**]     Dischar...\n",
       "1           4  185777.0  [Admission Date:  [**2191-3-16**]     Discharg...\n",
       "2           6  107064.0  [Admission Date: [**2175-5-30**]        Discha...\n",
       "3           9  150750.0  [Admission Date:  [**2149-11-9**]       Discha...\n",
       "4          10  184167.0  [Admission Date:  [**2103-6-28**]       Discha..."
      ]
     },
     "execution_count": 160,
     "metadata": {},
     "output_type": "execute_result"
    }
   ],
   "source": [
    "grouped_df.head()"
   ]
  },
  {
   "cell_type": "code",
   "execution_count": 161,
   "metadata": {},
   "outputs": [],
   "source": [
    "assert grouped_df.duplicated(['hadm_id']).sum() == 0, 'Multiple discharge summaries per admission'"
   ]
  },
  {
   "cell_type": "code",
   "execution_count": 162,
   "metadata": {},
   "outputs": [
    {
     "name": "stdout",
     "output_type": "stream",
     "text": [
      "<class 'pandas.core.frame.DataFrame'>\n",
      "RangeIndex: 52993 entries, 0 to 52992\n",
      "Data columns (total 3 columns):\n",
      "subject_id    52993 non-null int64\n",
      "hadm_id       52993 non-null float64\n",
      "text          52993 non-null object\n",
      "dtypes: float64(1), int64(1), object(1)\n",
      "memory usage: 1.2+ MB\n"
     ]
    }
   ],
   "source": [
    "grouped_df.info()"
   ]
  },
  {
   "cell_type": "markdown",
   "metadata": {},
   "source": [
    "## Merge Admissions and Nursing/Discharge Summary DataFrames"
   ]
  },
  {
   "cell_type": "code",
   "execution_count": 164,
   "metadata": {},
   "outputs": [],
   "source": [
    "full_df = pd.merge(admissions_df[['subject_id','hadm_id','admission_time','discharge_time','next_admission','days_between_admit','admission_type','time_of_death']],\n",
    "                        grouped_df[['subject_id','hadm_id','text']], \n",
    "                        on = ['subject_id','hadm_id'],\n",
    "                        how = 'left')\n",
    "\n",
    "assert len(full_df) == len(admissions_df)"
   ]
  },
  {
   "cell_type": "code",
   "execution_count": 165,
   "metadata": {},
   "outputs": [
    {
     "data": {
      "text/html": [
       "<div>\n",
       "<style scoped>\n",
       "    .dataframe tbody tr th:only-of-type {\n",
       "        vertical-align: middle;\n",
       "    }\n",
       "\n",
       "    .dataframe tbody tr th {\n",
       "        vertical-align: top;\n",
       "    }\n",
       "\n",
       "    .dataframe thead th {\n",
       "        text-align: right;\n",
       "    }\n",
       "</style>\n",
       "<table border=\"1\" class=\"dataframe\">\n",
       "  <thead>\n",
       "    <tr style=\"text-align: right;\">\n",
       "      <th></th>\n",
       "      <th>subject_id</th>\n",
       "      <th>hadm_id</th>\n",
       "      <th>admission_time</th>\n",
       "      <th>discharge_time</th>\n",
       "      <th>next_admission</th>\n",
       "      <th>days_between_admit</th>\n",
       "      <th>admission_type</th>\n",
       "      <th>time_of_death</th>\n",
       "      <th>text</th>\n",
       "    </tr>\n",
       "  </thead>\n",
       "  <tbody>\n",
       "    <tr>\n",
       "      <th>0</th>\n",
       "      <td>2</td>\n",
       "      <td>163353</td>\n",
       "      <td>2138-07-17 19:04:00</td>\n",
       "      <td>2138-07-21 15:48:00</td>\n",
       "      <td>NaT</td>\n",
       "      <td>NaN</td>\n",
       "      <td>NEWBORN</td>\n",
       "      <td>NaT</td>\n",
       "      <td>NaN</td>\n",
       "    </tr>\n",
       "    <tr>\n",
       "      <th>1</th>\n",
       "      <td>3</td>\n",
       "      <td>145834</td>\n",
       "      <td>2101-10-20 19:08:00</td>\n",
       "      <td>2101-10-31 13:58:00</td>\n",
       "      <td>NaT</td>\n",
       "      <td>NaN</td>\n",
       "      <td>EMERGENCY</td>\n",
       "      <td>NaT</td>\n",
       "      <td>[Admission Date:  [**2101-10-20**]     Dischar...</td>\n",
       "    </tr>\n",
       "    <tr>\n",
       "      <th>2</th>\n",
       "      <td>4</td>\n",
       "      <td>185777</td>\n",
       "      <td>2191-03-16 00:28:00</td>\n",
       "      <td>2191-03-23 18:41:00</td>\n",
       "      <td>NaT</td>\n",
       "      <td>NaN</td>\n",
       "      <td>EMERGENCY</td>\n",
       "      <td>NaT</td>\n",
       "      <td>[Admission Date:  [**2191-3-16**]     Discharg...</td>\n",
       "    </tr>\n",
       "    <tr>\n",
       "      <th>3</th>\n",
       "      <td>5</td>\n",
       "      <td>178980</td>\n",
       "      <td>2103-02-02 04:31:00</td>\n",
       "      <td>2103-02-04 12:15:00</td>\n",
       "      <td>NaT</td>\n",
       "      <td>NaN</td>\n",
       "      <td>NEWBORN</td>\n",
       "      <td>NaT</td>\n",
       "      <td>NaN</td>\n",
       "    </tr>\n",
       "    <tr>\n",
       "      <th>4</th>\n",
       "      <td>6</td>\n",
       "      <td>107064</td>\n",
       "      <td>2175-05-30 07:15:00</td>\n",
       "      <td>2175-06-15 16:00:00</td>\n",
       "      <td>NaT</td>\n",
       "      <td>NaN</td>\n",
       "      <td>ELECTIVE</td>\n",
       "      <td>NaT</td>\n",
       "      <td>[Admission Date: [**2175-5-30**]        Discha...</td>\n",
       "    </tr>\n",
       "  </tbody>\n",
       "</table>\n",
       "</div>"
      ],
      "text/plain": [
       "   subject_id  hadm_id      admission_time      discharge_time next_admission  \\\n",
       "0           2   163353 2138-07-17 19:04:00 2138-07-21 15:48:00            NaT   \n",
       "1           3   145834 2101-10-20 19:08:00 2101-10-31 13:58:00            NaT   \n",
       "2           4   185777 2191-03-16 00:28:00 2191-03-23 18:41:00            NaT   \n",
       "3           5   178980 2103-02-02 04:31:00 2103-02-04 12:15:00            NaT   \n",
       "4           6   107064 2175-05-30 07:15:00 2175-06-15 16:00:00            NaT   \n",
       "\n",
       "   days_between_admit admission_type time_of_death  \\\n",
       "0                 NaN        NEWBORN           NaT   \n",
       "1                 NaN      EMERGENCY           NaT   \n",
       "2                 NaN      EMERGENCY           NaT   \n",
       "3                 NaN        NEWBORN           NaT   \n",
       "4                 NaN       ELECTIVE           NaT   \n",
       "\n",
       "                                                text  \n",
       "0                                                NaN  \n",
       "1  [Admission Date:  [**2101-10-20**]     Dischar...  \n",
       "2  [Admission Date:  [**2191-3-16**]     Discharg...  \n",
       "3                                                NaN  \n",
       "4  [Admission Date: [**2175-5-30**]        Discha...  "
      ]
     },
     "execution_count": 165,
     "metadata": {},
     "output_type": "execute_result"
    }
   ],
   "source": [
    "full_df.head()"
   ]
  },
  {
   "cell_type": "code",
   "execution_count": 166,
   "metadata": {},
   "outputs": [],
   "source": [
    "assert len(full_df[full_df.discharge_time == np.datetime64('NaT')]) == 0, 'Missing discharge time info'"
   ]
  },
  {
   "cell_type": "code",
   "execution_count": 168,
   "metadata": {},
   "outputs": [
    {
     "name": "stdout",
     "output_type": "stream",
     "text": [
      "10.14% of text cells are empty.\n",
      "----------------------------------------\n",
      "53.67% of NEWBORN text cells are empty.\n",
      "3.24% of EMERGENCY text cells are empty.\n",
      "4.49% of ELECTIVE text cells are empty.\n",
      "4.12% of URGENT text cells are empty.\n"
     ]
    }
   ],
   "source": [
    "perc_missing = full_df.text.isna().sum() / len(full_df) * 100\n",
    "print('{:.2f}% of text cells are empty.'.format(perc_missing))\n",
    "print('-'*40)\n",
    "for adm_type in full_df.admission_type.unique():\n",
    "    txt_missing = full_df[full_df.admission_type == adm_type].text.isna().sum() / len(full_df[full_df.admission_type == adm_type]) * 100\n",
    "    print('{:.2f}% of {} text cells are empty.'.format(txt_missing, adm_type))"
   ]
  },
  {
   "cell_type": "code",
   "execution_count": 169,
   "metadata": {},
   "outputs": [],
   "source": [
    "# drop NEWBORN admissions\n",
    "clean_df = full_df[full_df.admission_type != 'NEWBORN'].copy()"
   ]
  },
  {
   "cell_type": "code",
   "execution_count": 170,
   "metadata": {},
   "outputs": [],
   "source": [
    "# add target variable\n",
    "clean_df['readmission'] = (clean_df.days_between_admit < 30).astype('int')"
   ]
  },
  {
   "cell_type": "code",
   "execution_count": 171,
   "metadata": {},
   "outputs": [
    {
     "data": {
      "text/html": [
       "<div>\n",
       "<style scoped>\n",
       "    .dataframe tbody tr th:only-of-type {\n",
       "        vertical-align: middle;\n",
       "    }\n",
       "\n",
       "    .dataframe tbody tr th {\n",
       "        vertical-align: top;\n",
       "    }\n",
       "\n",
       "    .dataframe thead th {\n",
       "        text-align: right;\n",
       "    }\n",
       "</style>\n",
       "<table border=\"1\" class=\"dataframe\">\n",
       "  <thead>\n",
       "    <tr style=\"text-align: right;\">\n",
       "      <th></th>\n",
       "      <th>subject_id</th>\n",
       "      <th>hadm_id</th>\n",
       "      <th>admission_time</th>\n",
       "      <th>discharge_time</th>\n",
       "      <th>next_admission</th>\n",
       "      <th>days_between_admit</th>\n",
       "      <th>admission_type</th>\n",
       "      <th>time_of_death</th>\n",
       "      <th>text</th>\n",
       "      <th>readmission</th>\n",
       "    </tr>\n",
       "  </thead>\n",
       "  <tbody>\n",
       "    <tr>\n",
       "      <th>1</th>\n",
       "      <td>3</td>\n",
       "      <td>145834</td>\n",
       "      <td>2101-10-20 19:08:00</td>\n",
       "      <td>2101-10-31 13:58:00</td>\n",
       "      <td>NaT</td>\n",
       "      <td>NaN</td>\n",
       "      <td>EMERGENCY</td>\n",
       "      <td>NaT</td>\n",
       "      <td>[Admission Date:  [**2101-10-20**]     Dischar...</td>\n",
       "      <td>0</td>\n",
       "    </tr>\n",
       "    <tr>\n",
       "      <th>2</th>\n",
       "      <td>4</td>\n",
       "      <td>185777</td>\n",
       "      <td>2191-03-16 00:28:00</td>\n",
       "      <td>2191-03-23 18:41:00</td>\n",
       "      <td>NaT</td>\n",
       "      <td>NaN</td>\n",
       "      <td>EMERGENCY</td>\n",
       "      <td>NaT</td>\n",
       "      <td>[Admission Date:  [**2191-3-16**]     Discharg...</td>\n",
       "      <td>0</td>\n",
       "    </tr>\n",
       "    <tr>\n",
       "      <th>4</th>\n",
       "      <td>6</td>\n",
       "      <td>107064</td>\n",
       "      <td>2175-05-30 07:15:00</td>\n",
       "      <td>2175-06-15 16:00:00</td>\n",
       "      <td>NaT</td>\n",
       "      <td>NaN</td>\n",
       "      <td>ELECTIVE</td>\n",
       "      <td>NaT</td>\n",
       "      <td>[Admission Date: [**2175-5-30**]        Discha...</td>\n",
       "      <td>0</td>\n",
       "    </tr>\n",
       "    <tr>\n",
       "      <th>7</th>\n",
       "      <td>9</td>\n",
       "      <td>150750</td>\n",
       "      <td>2149-11-09 13:06:00</td>\n",
       "      <td>2149-11-14 10:15:00</td>\n",
       "      <td>NaT</td>\n",
       "      <td>NaN</td>\n",
       "      <td>EMERGENCY</td>\n",
       "      <td>2149-11-14 10:15:00</td>\n",
       "      <td>[Admission Date:  [**2149-11-9**]       Discha...</td>\n",
       "      <td>0</td>\n",
       "    </tr>\n",
       "    <tr>\n",
       "      <th>9</th>\n",
       "      <td>11</td>\n",
       "      <td>194540</td>\n",
       "      <td>2178-04-16 06:18:00</td>\n",
       "      <td>2178-05-11 19:00:00</td>\n",
       "      <td>NaT</td>\n",
       "      <td>NaN</td>\n",
       "      <td>EMERGENCY</td>\n",
       "      <td>NaT</td>\n",
       "      <td>[Admission Date:  [**2178-4-16**]             ...</td>\n",
       "      <td>0</td>\n",
       "    </tr>\n",
       "  </tbody>\n",
       "</table>\n",
       "</div>"
      ],
      "text/plain": [
       "   subject_id  hadm_id      admission_time      discharge_time next_admission  \\\n",
       "1           3   145834 2101-10-20 19:08:00 2101-10-31 13:58:00            NaT   \n",
       "2           4   185777 2191-03-16 00:28:00 2191-03-23 18:41:00            NaT   \n",
       "4           6   107064 2175-05-30 07:15:00 2175-06-15 16:00:00            NaT   \n",
       "7           9   150750 2149-11-09 13:06:00 2149-11-14 10:15:00            NaT   \n",
       "9          11   194540 2178-04-16 06:18:00 2178-05-11 19:00:00            NaT   \n",
       "\n",
       "   days_between_admit admission_type       time_of_death  \\\n",
       "1                 NaN      EMERGENCY                 NaT   \n",
       "2                 NaN      EMERGENCY                 NaT   \n",
       "4                 NaN       ELECTIVE                 NaT   \n",
       "7                 NaN      EMERGENCY 2149-11-14 10:15:00   \n",
       "9                 NaN      EMERGENCY                 NaT   \n",
       "\n",
       "                                                text  readmission  \n",
       "1  [Admission Date:  [**2101-10-20**]     Dischar...            0  \n",
       "2  [Admission Date:  [**2191-3-16**]     Discharg...            0  \n",
       "4  [Admission Date: [**2175-5-30**]        Discha...            0  \n",
       "7  [Admission Date:  [**2149-11-9**]       Discha...            0  \n",
       "9  [Admission Date:  [**2178-4-16**]             ...            0  "
      ]
     },
     "execution_count": 171,
     "metadata": {},
     "output_type": "execute_result"
    }
   ],
   "source": [
    "clean_df.head()"
   ]
  },
  {
   "cell_type": "code",
   "execution_count": 172,
   "metadata": {},
   "outputs": [],
   "source": [
    "# save file to CSV\n",
    "clean_df.to_csv(PROJ_ROOT + '/data/processed/clinic_notes_data.csv')"
   ]
  },
  {
   "cell_type": "code",
   "execution_count": 173,
   "metadata": {},
   "outputs": [
    {
     "name": "stdout",
     "output_type": "stream",
     "text": [
      "5.88% of samples are in positive class\n"
     ]
    },
    {
     "data": {
      "image/png": "[encoded data removed]",
      "text/plain": [
       "<Figure size 432x288 with 1 Axes>"
      ]
     },
     "metadata": {
      "needs_background": "light"
     },
     "output_type": "display_data"
    }
   ],
   "source": [
    "# plot the distribution of positive and negative samples\n",
    "ax = sns.barplot(x='readmission', y='readmission',data=clean_df, estimator=lambda x: len(x) / len(clean_df.readmission) * 100)\n",
    "ax.set_ylabel(\"Percent\")\n",
    "ax.set_xticklabels([\"No Readmision\",\"Readmission\"])\n",
    "ax.set_title('Class Distribution - All Data')\n",
    "plt.savefig(os.path.join(PROJ_ROOT, 'reports',\n",
    "                         'figures','class_balance.png'))\n",
    "\n",
    "# compute percentage of samples who were readmitted within 30 days (positive)\n",
    "pos_perc = clean_df.readmission.sum() / len(clean_df.readmission) * 100\n",
    "print('{:.2f}% of samples are in positive class'.format(pos_perc))"
   ]
  },
  {
   "cell_type": "markdown",
   "metadata": {},
   "source": [
    "## Split Data into Train and Test Sets"
   ]
  },
  {
   "cell_type": "code",
   "execution_count": 261,
   "metadata": {},
   "outputs": [],
   "source": [
    "# shuffle the samples\n",
    "clean_df = clean_df.sample(n = len(clean_df), random_state=42)\n",
    "clean_df.reset_index(drop=True, inplace=True)\n",
    "\n",
    "# Save 30% of the data as test a test set \n",
    "clinic_test = clean_df.sample(frac=0.30, random_state=42)\n",
    "\n",
    "# use the rest of the data as training data\n",
    "clinic_train = clean_df.drop(clinic_test.index)"
   ]
  },
  {
   "cell_type": "code",
   "execution_count": 262,
   "metadata": {},
   "outputs": [
    {
     "name": "stdout",
     "output_type": "stream",
     "text": [
      "<class 'pandas.core.frame.DataFrame'>\n",
      "Int64Index: 35779 entries, 0 to 51112\n",
      "Data columns (total 10 columns):\n",
      "subject_id            35779 non-null int64\n",
      "hadm_id               35779 non-null int64\n",
      "admission_time        35779 non-null datetime64[ns]\n",
      "discharge_time        35779 non-null datetime64[ns]\n",
      "next_admission        7821 non-null datetime64[ns]\n",
      "days_between_admit    7821 non-null float64\n",
      "admission_type        35779 non-null object\n",
      "time_of_death         4091 non-null datetime64[ns]\n",
      "text                  34527 non-null object\n",
      "readmission           35779 non-null int32\n",
      "dtypes: datetime64[ns](4), float64(1), int32(1), int64(2), object(2)\n",
      "memory usage: 2.9+ MB\n"
     ]
    }
   ],
   "source": [
    "clinic_train.info()"
   ]
  },
  {
   "cell_type": "markdown",
   "metadata": {},
   "source": [
    "Check to make sure we did not lose too much of the positive class while splitting the data."
   ]
  },
  {
   "cell_type": "code",
   "execution_count": 263,
   "metadata": {},
   "outputs": [
    {
     "name": "stdout",
     "output_type": "stream",
     "text": [
      "6.02% of samples are in positive class\n"
     ]
    },
    {
     "data": {
      "image/png": "[encoded data removed]",
      "text/plain": [
       "<Figure size 432x288 with 1 Axes>"
      ]
     },
     "metadata": {
      "needs_background": "light"
     },
     "output_type": "display_data"
    }
   ],
   "source": [
    "# plot class distribution of training set\n",
    "ax = sns.barplot(x='readmission', y='readmission', data=clinic_train, \n",
    "                 estimator=lambda x: len(x) / len(clinic_train.readmission) * 100)\n",
    "ax.set_ylabel(\"Percent\")\n",
    "ax.set_xticklabels([\"No Readmision\",\"Readmission\"])\n",
    "ax.set_title('Class Distribution | Training Data')\n",
    "\n",
    "pos_perc = clinic_train.readmission.sum() / len(clinic_train.readmission) * 100\n",
    "print('{:.2f}% of samples are in positive class'.format(pos_perc))"
   ]
  },
  {
   "cell_type": "code",
   "execution_count": 264,
   "metadata": {},
   "outputs": [],
   "source": [
    "def preprocess_text(df):\n",
    "    # This function preprocesses the text by filling not a number\n",
    "    df.text = df.text.fillna(' ')\n",
    "    df['text'] = [', '.join(note) for note in df['text']]\n",
    "    df['text'] = df['text'].str.replace('\\n',' ')\n",
    "    #df.text = df.text.str.replace('\\r',' ')\n",
    "    return df\n",
    "\n",
    "# preprocess the text to deal with known issues\n",
    "clinic_train = preprocess_text(clinic_train)\n",
    "clinic_test = preprocess_text(clinic_test)"
   ]
  },
  {
   "cell_type": "code",
   "execution_count": 265,
   "metadata": {},
   "outputs": [
    {
     "name": "stdout",
     "output_type": "stream",
     "text": [
      "<class 'pandas.core.frame.DataFrame'>\n",
      "Int64Index: 35779 entries, 0 to 51112\n",
      "Data columns (total 10 columns):\n",
      "subject_id            35779 non-null int64\n",
      "hadm_id               35779 non-null int64\n",
      "admission_time        35779 non-null datetime64[ns]\n",
      "discharge_time        35779 non-null datetime64[ns]\n",
      "next_admission        7821 non-null datetime64[ns]\n",
      "days_between_admit    7821 non-null float64\n",
      "admission_type        35779 non-null object\n",
      "time_of_death         4091 non-null datetime64[ns]\n",
      "text                  35779 non-null object\n",
      "readmission           35779 non-null int32\n",
      "dtypes: datetime64[ns](4), float64(1), int32(1), int64(2), object(2)\n",
      "memory usage: 4.1+ MB\n"
     ]
    }
   ],
   "source": [
    "clinic_train.info()"
   ]
  },
  {
   "cell_type": "code",
   "execution_count": 266,
   "metadata": {},
   "outputs": [],
   "source": [
    "# save the test set to CSV\n",
    "clinic_test.to_csv(PROJ_ROOT + '/data/processed/clinic_test_data.csv')\n",
    "\n",
    "#save the training set to CSV\n",
    "clinic_train.to_csv(PROJ_ROOT + '/data/processed/clinic_train_data.csv')"
   ]
  },
  {
   "cell_type": "code",
   "execution_count": 267,
   "metadata": {},
   "outputs": [
    {
     "data": {
      "text/plain": [
       "'Admission Date:  [**2163-7-18**]              Discharge Date:   [**2163-7-22**]  Date of Birth:  [**2088-7-8**]             Sex:   F  Service: NEUROLOGY  Allergies: No Known Allergies / Adverse Drug Reactions  Attending:[**Last Name (NamePattern1) 1838**] Chief Complaint: nonsensical speech  Major Surgical or Invasive Procedure: none  History of Present Illness: Ms. [**Known lastname 111762**] is aphasic and unable to provide any history, the history is obtained from speaking with the Fire Chief where she works.    Ms. [**Known lastname 111762**] is a 75 year-old left-handed woman with an unknown PMH at this time who presents with speech changes. She was reportedly speaking with a police officer and not making sense on the phone, so the police officer went to see her and was concerned she may be having a stroke. She was not responding to questions appropriately. After speaking with the fire chief, he notes that he though she has been having having speech difficulties for the past few days, using the wrong words and saying things that were not making sense. For example, last Thursday, when the fire chief said good morning, she responded \"well its Friday.\" She then had dinner with a friend last night, who also noted that she was not sounding right and were saying things that were not making sense. She also was acting confused last night as she was trying to cut her bread with a fork and a spoon.  ROS: unable to obtain from patient due to her aphasia.  Past Medical History: none known (patient does not regularly go to PCP)  Social History: She lives alone. She was as an administrator in the [**Location (un) **] Fire Dept. No smoking, ETOH or illicit drug use.    Family History: Unable to obtain from patient.  Physical Exam: Physical Exam on Admission:  Vitals: T: 98.3 P: 94 R: 20  BP: 234/79 SaO2: 99% RA  General: Awake, NAD. HEENT: NC/AT, no scleral icterus noted, MMM, no lesions noted in oropharynx Neck: Supple Pulmonary: lcta b/l Cardiac: RRR, S1S2, no murmurs appreciated Abdomen: soft, ND, +BS Extremities: warm, well perfused  Neurologic:  NIH Stroke Scale score was: 6 1a. Level of Consciousness: 0 1b. LOC Question: 2 1c. LOC Commands: 2 (comprehension defeicit) 2. Best gaze: 0 3. Visual fields: 0 4. Facial palsy: 0 5a. Motor arm, left: 0 5b. Motor arm, right: 0 6a. Motor leg, left: 0 6b. Motor leg, right: 0 7. Limb Ataxia: 0 8. Sensory: 0 9. Language: 2 10. Dysarthria: 0 11. Extinction and Neglect: 0  Mental Status: Awake, alert. Her speech is fluent with frequent paraphasic errors and neologisms. She is able to state her name correctly when asked but otherwise her comprehension is impaired. She has an anomia and is unable to repeat (aside from occasionally being able to repeat a short word). She is unable to read and unable to write a sentence, though she was able to write her name when asked. Unable to perform remainder of mental status testing due to her aphasia.  Cranial Nerves: PERRL 3-->2 mm b/l. She blinks to threat b/l but unable to test VF by confrontation due to aphasia. EOMI. Face symmetric. Palate elevates symmetrically. Tongue protudes in midline.  Motor: Normal bulk, tone throughout. No pronator drift bilaterally. No adventitious movements. Her aphasia limits formal strength testing, but she is able to maintain all extremities antigravity with no deift.  Sensory: She grimmaces and withdraws to noxious stimulation throughout.  DTRs:   [**Name2 (NI) **] Tri [**Last Name (un) 1035**] Pat Ach L  2  2    2    2   0 R  2  2    2    2   0 Plantar response was extensor bilaterally.  Coordination: No intention tremor or dysmetria on FNF.  Gait: deferred . Physical Exam on Discharge:  Vitals:T 99 BP 136/86 HR 62 RR 16 O2 98 RA General: Awake, cooperative, NAD.  Neurologic: -Mental Status: Alert, oriented to self, oriented to hospital, repetition intact for short phrases (\"the weather is sunny\"--> \"the weather is sun\"), unable to repeat [**State 350**]/[**State 4565**], can name thumb, can read and folllow simple written commands. When asked to name watch, says she knows what it is but can\\'t say the word. Can follow 1 step commands but unable to follow multistep ones. Able to name a pen. -Cranial Nerves: I: Olfaction not tested. II: PERRL 3 to 2mm and brisk.  VFF to confrontation. III, IV, VI: EOMI without nystagmus. V: Facial sensation intact to light touch. VII: No facial droop, facial musculature symmetric. VIII: Hearing intact to finger-rub bilaterally. IX, X: Palate elevates symmetrically. [**Doctor First Name 81**]: 5/5 strength in trapezii and SCM bilaterally. XII: Tongue protrudes in midline. -Motor: Normal bulk, tone throughout. No pronator drift bilaterally. No adventitious movements, such as tremor, noted.   Delt Bic Tri WrE FFl FE IO IP Quad Ham TA [**First Name9 (NamePattern2) 2339**] [**Last Name (un) 938**] EDB L  5    5   5   5   5  5  5  5   5    5  5     5     5   5 R  5    5   5   5   5  5  5  5   5    5  5     5     5   5 -Sensory: No deficits to light touch. -DTRs:   [**Name2 (NI) **] Tri [**Last Name (un) 1035**] Pat Ach L  1  1    1    1   0 R  1  1    1    2   0 Plantar response was flexor bilaterally. -Coordination: No intention tremor.  Unable to cooperate with finger to nose testing. -Gait: deferred   Pertinent Results: Labs on Admission:  [**2163-7-18**] 01:04PM   WBC-9.6 RBC-4.85 HGB-14.7 HCT-43.3 MCV-89 MCH-30.3 MCHC-33.9 RDW-13.5 [**2163-7-19**] 04:21AM BLOOD Glucose-175* UreaN-17 Creat-0.8 Na-142 K-3.4 Cl-106 HCO3-27 AnGap-12 [**2163-7-19**] 04:21AM BLOOD ALT-34 AST-26 AlkPhos-86 TotBili-0.3 [**2163-7-18**] 10:12PM BLOOD cTropnT-<0.01 [**2163-7-19**] 04:21AM BLOOD cTropnT-<0.01 [**2163-7-19**] 04:21AM BLOOD Albumin-4.0 Calcium-9.1 Phos-3.2 Mg-2.3 Cholest-247*  Relevant Labs:  [**2163-7-19**] 04:41AM BLOOD %HbA1c-8.7* eAG-203* [**2163-7-19**] 04:21AM BLOOD Triglyc-186* HDL-49 CHOL/HD-5.0 LDLcalc-161*  Imaging Studies:  CTA: 1.  Extensive completed infarction in the left parietotemporal lobe, encompassing more than one-third of the MCA territory. Hypodensity in the pons is nonspecific, but may represent another focus of infarct. No evidence of hemorrhage.  2.  Probable occlusion of the inferior division of the left middle cerebral artery at the bifurcation.  3.  Evidence of intracranial atherosclerotic disease in the basilar artery with narrowing of the right supraclinoid artery.  4. 4mm pulmonary nodules. If the patient has no risk factors for malignancy, no follow up is needed. If there is no prior imaging documenting stability and if the patient has risk factors for malignancy, follow up with dedicated chest CT  is recommended in 12 months.  MR [**Name13 (STitle) 430**] w/o contrast: 1. Large territorial infarct involving the left temporal and inferior left parietal regions, consistent with acute/subacute ischemic event, there is no evidence of hemorrhagic transformation or shifting of the normally midline structures.  2.  Multiple scattered foci of high signal intensity identified in the subcortical and periventricular white matter as well as in the pons, thalamus and basal ganglia, consistent with a combination of small vessel disease and lacunar ischemic changes.  TTE: The left atrium is mildly dilated. No atrial septal defect or patent foramen ovale is seen by 2D, color Doppler or saline contrast at rest and with cough. There is mild symmetric left ventricular hypertrophy. The left ventricular cavity size is small. Due to suboptimal technical quality, a focal wall motion abnormality cannot be fully excluded. Overall left ventricular systolic function is normal (LVEF>65%). Tissue Doppler imaging suggests an increased left ventricular filling pressure (PCWP>18mmHg). Right ventricular chamber size and free wall motion are normal. The aortic arch is mildly dilated. The aortic valve leaflets (3) appear structurally normal with good leaflet excursion and no aortic stenosis or aortic regurgitation. The mitral valve appears structurally normal with trivial mitral regurgitation. The left ventricular inflow pattern suggests impaired relaxation. There is no pericardial effusion. There is an anterior space which most likely represents a prominent fat pad.  No cardiac source of embolus identified (cannot definitively exclude).  TEE: No spontaneous echo contrast or thrombus is seen in the body of the left atrium/left atrial appendage or the body of the right atrium/right atrial appendage. No atrial septal defect or patent foramen ovale is seen by 2D, color Doppler or saline contrast with maneuvers. Overall left ventricular systolic function is normal (LVEF>55%). Right ventricular chamber size and free wall motion are normal. There are complex (>4mm) atheroma in the aortic arch. There are complex (mobile) atheroma in the descending aorta. The aortic valve leaflets (3) are mildly thickened. No aortic regurgitation is seen. The mitral valve appears structurally normal with trivial mitral regurgitation.  IMPRESSION: Complex non-mobile artheroma in the throracic aorta and aortic arch. No PFO/ASD.  Carotid US: Findings: Duplex evaluation was performed of bilateral carotid arteries. On the right there is intimal thickening seen in the ICA . On the left there is no plaque seen in the ICA. On the right systolic/end diastolic velocities of the ICA proximal, mid and distal respectively are 88/10, 61/8, 72/13 cm/sec. CCA peak systolic velocity is 92 cm/sec. ECA peak systolic velocity is 163 cm/sec. The ICA/CCA ratio is .96. These findings are consistent with <40% stenosis. On the left systolic/end diastolic velocities of the ICA proximal, mid and distal respectively are 59/10, 70/13, 64/19 cm/sec. CCA peak systolic velocity is 79 cm/sec. ECA peak systolic velocity is 174 cm/sec. The ICA/CCA ratio is .81. These findings are consistent with no stenosis.  There is antegrade  right vertebral artery flow. There is antegrade left vertebral artery flow.  Impression: Right ICA <40% stenosis.              Left ICA no stenosis.  Labs on Discharge: None   Brief Hospital Course: Patient is a 75yo LH woman who has not seen a physician in many years who p/w 5-7 days of difficulty finding words.  Pt was brought to [**Hospital1 18**] from her place of work (fire company) where chief had noted patient was not responding appropriately during conversation.  Of note, pt had been making mistakes with the use of words which has been progressively worsening to the AM of presentation.  Per further questioning of the chief, patient was at dinner the evening prior to admission acting confused, e.g., attempting to cut bread with a spoon and fork.  On exam, pt had fluent speech, but paraphasic errors, word finding difficulty, difficulty with repetition and naming.  #NEURO: On arrival to ED, a code stroke was called.  On imaging, the NCHCT showed a hypodensity that was more consistent with subacute infarct than acute infarct and on CT perfusion studies, there was a complete match, which is also consistent with completed infarct. For all of these reasons, decision made to not proceed with tPA for subacute L MCA stroke. Stroke w/u was completed, showed pt has DM II (HbA1c 8.7), HL (LDL 161) and pt was hypertensive to >200 (see below for more details).  TTE with no PFO, no structural [**Last Name (LF) **], [**First Name3 (LF) **] wnl.  TEE showed complex, nonmobile atheroma in the thoracic aorta.  Most likely, infarct was thromboembolic.  For HTN, pt started on metoprolol 25mg [**Hospital1 **] as well as lisinopril 30mg qd.  For DM II, started metformin 1000mg PO bid.  For HL, started simvastatin 80mg qd (80mg rather than 40mg in the setting of thoracic atheroma).  Also, pt started on Aspirin 325mg.  (Did consider starting Coumadin for anticoagulation given complex atheroma, but, since it is nonmobile, and no objective evidence that there is a benefit to coumadin over aspirin 325 in this case, decided to continue aspirin).  Pt will f/u with Dr. [**Last Name (STitle) **] in stroke clinic on d/c.  #CV:  On admission, pt SBP was found to be >200 for which she was started on Nicardipine drip.  She was then transitioned to oral metoprolol 25mg PO bid and lisinopril 40mg qd.  Will likely need further titration of anti hypertensive medications.  ECG with no ichemic changes, troponis neg.  Patient was monitored on telemetry, did not have any arrhythmias.  #ENDO: HbA1c 8.7, started on metformin 1000mg twice daily.  Will likely need further titration of anti hyperglycemic agents.  TRANSITIONS OF CARE: -Will likely need further titration of anti hypertensive medications. -Will likely need further titration of anti hyperglycemic agents. -4mm pulmonary nodules on CT; however, no known tobacco abuse history, so unlikely malignancy but should be re-addressed once pt able to answer social history questions -Will need to establish care with PCP [**Name10 (NameIs) **] [**Name Initial (NameIs) **]/u in stroke clinic with Dr. [**Last Name (STitle) **]  Medications on Admission: none  Discharge Medications: 1. Aspirin 325 mg PO DAILY 2. Atorvastatin 80 mg PO DAILY stroke secondary prophylaxis (& LDL 161) 3. MetFORMIN (Glucophage) 1000 mg PO BID diabetes&stroke 4. Metoprolol Tartrate 25 mg PO BID 5. Lisinopril 40 mg PO DAILY   Discharge Disposition: Extended Care  Facility: [**Hospital3 1107**] [**Hospital **] Hospital - [**Location (un) 38**]  Discharge Diagnosis: Left MCA ischemic stroke Hypertension Hyperlipidemia Diabetes mellitus II   Discharge Condition: Alert, oriented to self, hospital, able to name high frequency objects, able to repeat simple phrases and short words, follows commands, speech fluent.   Discharge Instructions: Dear Ms. [**Known lastname 111762**],  You were admitted to the hospital with difficulty with your speech.  Imaging of your brain showed that you had a stroke.  We did many tests and found that you have high blood pressure, high cholesterol, and diabetes.  You also had a partial blockage with cholesterol in one of blood vessels.  Most likely, you had your stroke because a part of that cholesterol broke off and blocked a smaller blood vessel in your brain.  We started you on medications for these conditions.  It is VERY important that you take these medications on discharge as all of these conditions, especially if untreated, increase your risk of another stroke.  It is EXTREMELY IMPORTANT that you establish care with a primary care doctor and see him/her REGULARLY for management of your newly diagnosed conditions.  You absolutely MUST do this to prevent further deterioration in your health.  We have made the following changes to your medications: START -Aspirin 325mg daily -Lisinopril 40mg daily -Metoprolol 25mg twice per day -Simvastatin 80mg daily -Metformin 1000mg twice per day  After discharge from rehab YOU MUST follow up with Dr. [**Last Name (STitle) **], your new neurologist, and your new primary care doctor.  It was a pleasure taking care of you, we wish you all the best!  Followup Instructions: Department: NEUROLOGY When: TUESDAY [**2163-9-6**] at 1:30 PM With: [**Name6 (MD) **] [**Name8 (MD) **], M.D. [**Telephone/Fax (1) 2574**] Building: [**Hospital6 29**] [**Location (un) 858**] Campus: EAST     Best Parking: [**Hospital Ward Name 23**] Garage    Completed by:[**2163-7-23**]'"
      ]
     },
     "execution_count": 267,
     "metadata": {},
     "output_type": "execute_result"
    }
   ],
   "source": [
    "clinic_train.text[5]"
   ]
  },
  {
   "cell_type": "code",
   "execution_count": null,
   "metadata": {},
   "outputs": [],
   "source": []
  }
 ],
 "metadata": {
  "kernelspec": {
   "display_name": "Capstone",
   "language": "python",
   "name": "capstone"
  },
  "language_info": {
   "codemirror_mode": {
    "name": "ipython",
    "version": 3
   },
   "file_extension": ".py",
   "mimetype": "text/x-python",
   "name": "python",
   "nbconvert_exporter": "python",
   "pygments_lexer": "ipython3",
   "version": "3.7.1"
  }
 },
 "nbformat": 4,
 "nbformat_minor": 2
}
