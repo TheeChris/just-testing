{
 "cells": [
  {
   "cell_type": "markdown",
   "metadata": {},
   "source": [
    "# Preparing Data from the MIMIC-III Database\n",
    "In preparation of predicting hospital readmissions, data from the NOTEVENTS and ADMISSIONS tables of the MIMIC-III database will be pulled into a pandas DataFrame and cleaned."
   ]
  },
  {
   "cell_type": "code",
   "execution_count": 158,
   "metadata": {},
   "outputs": [],
   "source": [
    "# import libraries\n",
    "import os\n",
    "from dotenv import load_dotenv, find_dotenv\n",
    "import matplotlib.pyplot as pyplot\n",
    "import numpy as np\n",
    "import pandas as pd\n",
    "import seaborn as sns\n",
    "from sqlalchemy import create_engine, MetaData, Table\n",
    "\n",
    "%matplotlib inline\n",
    "%load_ext watermark\n",
    "\n",
    "PROJ_ROOT = os.path.join(os.pardir)"
   ]
  },
  {
   "cell_type": "code",
   "execution_count": 159,
   "metadata": {},
   "outputs": [
    {
     "name": "stdout",
     "output_type": "stream",
     "text": [
      "E. Chris Lynch 2018-12-17 15:12:48 \n",
      "\n",
      "CPython 3.7.1\n",
      "IPython 7.2.0\n",
      "\n",
      "numpy 1.15.4\n",
      "pandas 0.23.4\n",
      "matplotlib 3.0.2\n",
      "sqlalchemy 1.2.15\n"
     ]
    }
   ],
   "source": [
    "%watermark -a \"E. Chris Lynch\" -d -t -v -p numpy,pandas,matplotlib,sqlalchemy"
   ]
  },
  {
   "cell_type": "code",
   "execution_count": 2,
   "metadata": {},
   "outputs": [],
   "source": [
    "# find .env automagically by walking up directories until it's found\n",
    "dotenv_path = find_dotenv()\n",
    "\n",
    "# load up the entries as environment variables\n",
    "load_dotenv(dotenv_path)\n",
    "\n",
    "database_url = os.environ.get(\"DATABASE_URL\")"
   ]
  },
  {
   "cell_type": "code",
   "execution_count": 3,
   "metadata": {},
   "outputs": [],
   "source": [
    "# initiate PostgreSQL engine\n",
    "engine = create_engine(database_url,\n",
    "    connect_args={'options': '-csearch_path=mimiciii'}\n",
    ")\n",
    "connection = engine.connect()"
   ]
  },
  {
   "cell_type": "code",
   "execution_count": 4,
   "metadata": {},
   "outputs": [],
   "source": [
    "metadata = MetaData()\n",
    "\n",
    "# define NOTEEVENTS table\n",
    "notes = Table('noteevents', metadata, autoload=True, autoload_with=engine)"
   ]
  },
  {
   "cell_type": "code",
   "execution_count": 5,
   "metadata": {},
   "outputs": [
    {
     "name": "stdout",
     "output_type": "stream",
     "text": [
      "COLUMN NAMES\n",
      "['row_id', 'subject_id', 'hadm_id', 'chartdate', 'charttime', 'storetime', 'category', 'description', 'cgid', 'iserror', 'text']\n",
      "\n",
      "METADATA\n",
      "Table('noteevents', MetaData(bind=None), Column('row_id', INTEGER(), table=<noteevents>, primary_key=True, nullable=False), Column('subject_id', INTEGER(), table=<noteevents>, nullable=False), Column('hadm_id', INTEGER(), table=<noteevents>), Column('chartdate', TIMESTAMP(precision=0), table=<noteevents>), Column('charttime', TIMESTAMP(precision=0), table=<noteevents>), Column('storetime', TIMESTAMP(precision=0), table=<noteevents>), Column('category', VARCHAR(length=50), table=<noteevents>), Column('description', VARCHAR(length=255), table=<noteevents>), Column('cgid', INTEGER(), table=<noteevents>), Column('iserror', CHAR(length=1), table=<noteevents>), Column('text', TEXT(), table=<noteevents>), schema=None)\n"
     ]
    }
   ],
   "source": [
    "# Print the column names\n",
    "print('COLUMN NAMES')\n",
    "print(notes.columns.keys())\n",
    "\n",
    "# Print full table metadata\n",
    "print('\\nMETADATA')\n",
    "print(repr(notes))"
   ]
  },
  {
   "cell_type": "code",
   "execution_count": 8,
   "metadata": {},
   "outputs": [
    {
     "name": "stdout",
     "output_type": "stream",
     "text": [
      "Nursing/other: 822497\n",
      "Radiology: 522279\n",
      "Nursing: 223556\n",
      "ECG: 209051\n",
      "Physician : 141624\n",
      "Discharge summary: 59652\n",
      "Echo: 45794\n",
      "Respiratory : 31739\n",
      "Nutrition: 9418\n",
      "General: 8301\n",
      "Rehab Services: 5431\n",
      "Social Work: 2670\n",
      "Case Management : 967\n",
      "Pharmacy: 103\n",
      "Consult: 98\n"
     ]
    }
   ],
   "source": [
    "# return a count of records by category\n",
    "query = 'SELECT COUNT(row_id) as Count, category \\\n",
    "        FROM noteevents \\\n",
    "        GROUP BY category \\\n",
    "        ORDER BY Count DESC'\n",
    "cat_counts = connection.execute(query).fetchall()\n",
    "for count, cat in cat_counts:\n",
    "    print('{0}: {1}'.format(cat, count))"
   ]
  },
  {
   "cell_type": "markdown",
   "metadata": {},
   "source": [
    "## Extract data from ADMISSIONS table"
   ]
  },
  {
   "cell_type": "code",
   "execution_count": 31,
   "metadata": {},
   "outputs": [
    {
     "name": "stdout",
     "output_type": "stream",
     "text": [
      "COLUMN NAMES\n",
      "['row_id', 'subject_id', 'hadm_id', 'admittime', 'dischtime', 'deathtime', 'admission_type', 'admission_location', 'discharge_location', 'insurance', 'language', 'religion', 'marital_status', 'ethnicity', 'edregtime', 'edouttime', 'diagnosis', 'hospital_expire_flag', 'has_chartevents_data']\n",
      "\n",
      "METADATA\n",
      "Table('admissions', MetaData(bind=None), Column('row_id', INTEGER(), table=<admissions>, primary_key=True, nullable=False), Column('subject_id', INTEGER(), table=<admissions>, nullable=False), Column('hadm_id', INTEGER(), table=<admissions>, nullable=False), Column('admittime', TIMESTAMP(precision=0), table=<admissions>, nullable=False), Column('dischtime', TIMESTAMP(precision=0), table=<admissions>, nullable=False), Column('deathtime', TIMESTAMP(precision=0), table=<admissions>), Column('admission_type', VARCHAR(length=50), table=<admissions>, nullable=False), Column('admission_location', VARCHAR(length=50), table=<admissions>, nullable=False), Column('discharge_location', VARCHAR(length=50), table=<admissions>, nullable=False), Column('insurance', VARCHAR(length=255), table=<admissions>, nullable=False), Column('language', VARCHAR(length=10), table=<admissions>), Column('religion', VARCHAR(length=50), table=<admissions>), Column('marital_status', VARCHAR(length=50), table=<admissions>), Column('ethnicity', VARCHAR(length=200), table=<admissions>, nullable=False), Column('edregtime', TIMESTAMP(precision=0), table=<admissions>), Column('edouttime', TIMESTAMP(precision=0), table=<admissions>), Column('diagnosis', VARCHAR(length=255), table=<admissions>), Column('hospital_expire_flag', SMALLINT(), table=<admissions>), Column('has_chartevents_data', SMALLINT(), table=<admissions>, nullable=False), schema=None)\n"
     ]
    }
   ],
   "source": [
    "# define ADMISSIONS table\n",
    "admit = Table('admissions', metadata, autoload=True, autoload_with=engine)\n",
    "\n",
    "# Print the column names\n",
    "print('COLUMN NAMES')\n",
    "print(admit.columns.keys())\n",
    "\n",
    "# Print full table metadata\n",
    "print('\\nMETADATA')\n",
    "print(repr(admit))"
   ]
  },
  {
   "cell_type": "code",
   "execution_count": 6,
   "metadata": {},
   "outputs": [],
   "source": [
    "# extract Admissions data\n",
    "query = \"SELECT subject_id, hadm_id, admittime, dischtime, deathtime, admission_type FROM admissions\"\n",
    "admissions_query = connection.execute(query).fetchall()"
   ]
  },
  {
   "cell_type": "code",
   "execution_count": 54,
   "metadata": {},
   "outputs": [
    {
     "data": {
      "text/html": [
       "<div>\n",
       "<style scoped>\n",
       "    .dataframe tbody tr th:only-of-type {\n",
       "        vertical-align: middle;\n",
       "    }\n",
       "\n",
       "    .dataframe tbody tr th {\n",
       "        vertical-align: top;\n",
       "    }\n",
       "\n",
       "    .dataframe thead th {\n",
       "        text-align: right;\n",
       "    }\n",
       "</style>\n",
       "<table border=\"1\" class=\"dataframe\">\n",
       "  <thead>\n",
       "    <tr style=\"text-align: right;\">\n",
       "      <th></th>\n",
       "      <th>subject_id</th>\n",
       "      <th>hadm_id</th>\n",
       "      <th>admission_time</th>\n",
       "      <th>discharge_time</th>\n",
       "      <th>time_of_death</th>\n",
       "      <th>admission_type</th>\n",
       "    </tr>\n",
       "  </thead>\n",
       "  <tbody>\n",
       "    <tr>\n",
       "      <th>0</th>\n",
       "      <td>22</td>\n",
       "      <td>165315</td>\n",
       "      <td>2196-04-09 12:26:00</td>\n",
       "      <td>2196-04-10 15:54:00</td>\n",
       "      <td>NaT</td>\n",
       "      <td>EMERGENCY</td>\n",
       "    </tr>\n",
       "    <tr>\n",
       "      <th>1</th>\n",
       "      <td>23</td>\n",
       "      <td>152223</td>\n",
       "      <td>2153-09-03 07:15:00</td>\n",
       "      <td>2153-09-08 19:10:00</td>\n",
       "      <td>NaT</td>\n",
       "      <td>ELECTIVE</td>\n",
       "    </tr>\n",
       "    <tr>\n",
       "      <th>2</th>\n",
       "      <td>23</td>\n",
       "      <td>124321</td>\n",
       "      <td>2157-10-18 19:34:00</td>\n",
       "      <td>2157-10-25 14:00:00</td>\n",
       "      <td>NaT</td>\n",
       "      <td>EMERGENCY</td>\n",
       "    </tr>\n",
       "  </tbody>\n",
       "</table>\n",
       "</div>"
      ],
      "text/plain": [
       "   subject_id  hadm_id      admission_time      discharge_time time_of_death  \\\n",
       "0          22   165315 2196-04-09 12:26:00 2196-04-10 15:54:00           NaT   \n",
       "1          23   152223 2153-09-03 07:15:00 2153-09-08 19:10:00           NaT   \n",
       "2          23   124321 2157-10-18 19:34:00 2157-10-25 14:00:00           NaT   \n",
       "\n",
       "  admission_type  \n",
       "0      EMERGENCY  \n",
       "1       ELECTIVE  \n",
       "2      EMERGENCY  "
      ]
     },
     "execution_count": 54,
     "metadata": {},
     "output_type": "execute_result"
    }
   ],
   "source": [
    "# create DataFrame\n",
    "admissions_df = pd.DataFrame.from_records(admissions_query, \n",
    "                                         columns=['subject_id', 'hadm_id', 'admission_time',\n",
    "                                                  'discharge_time','time_of_death','admission_type'])\n",
    "admissions_df.head(3)"
   ]
  },
  {
   "cell_type": "code",
   "execution_count": 55,
   "metadata": {},
   "outputs": [
    {
     "name": "stdout",
     "output_type": "stream",
     "text": [
      "<class 'pandas.core.frame.DataFrame'>\n",
      "RangeIndex: 58976 entries, 0 to 58975\n",
      "Data columns (total 6 columns):\n",
      "subject_id        58976 non-null int64\n",
      "hadm_id           58976 non-null int64\n",
      "admission_time    58976 non-null datetime64[ns]\n",
      "discharge_time    58976 non-null datetime64[ns]\n",
      "time_of_death     5854 non-null datetime64[ns]\n",
      "admission_type    58976 non-null object\n",
      "dtypes: datetime64[ns](3), int64(2), object(1)\n",
      "memory usage: 2.7+ MB\n"
     ]
    }
   ],
   "source": [
    "admissions_df.info()"
   ]
  },
  {
   "cell_type": "code",
   "execution_count": 56,
   "metadata": {},
   "outputs": [],
   "source": [
    "# sort by subject_ID and admission time\n",
    "admissions_df = admissions_df.sort_values(['subject_id','admission_time'])\n",
    "admissions_df = admissions_df.reset_index(drop=True)"
   ]
  },
  {
   "cell_type": "code",
   "execution_count": 57,
   "metadata": {},
   "outputs": [],
   "source": [
    "# add the next admission date and type for each subject\n",
    "admissions_df['next_admission'] = admissions_df.groupby('subject_id').admission_time.shift(-1)\n",
    "\n",
    "# get the next admission type\n",
    "admissions_df['next_admission_type'] = admissions_df.groupby('subject_id').admission_type.shift(-1)"
   ]
  },
  {
   "cell_type": "code",
   "execution_count": 58,
   "metadata": {},
   "outputs": [],
   "source": [
    "# get rows where next admission is elective and replace with naT or nan\n",
    "rows = admissions_df.next_admission_type == 'ELECTIVE'\n",
    "admissions_df.loc[rows,'next_admission'] = pd.NaT\n",
    "admissions_df.loc[rows,'next_admission_type'] = np.NaN"
   ]
  },
  {
   "cell_type": "code",
   "execution_count": 59,
   "metadata": {},
   "outputs": [],
   "source": [
    "# sort by subject_ID and admission date\n",
    "admissions_df = admissions_df.sort_values(['subject_id','admission_time'])\n",
    "\n",
    "# back fill next admission type\n",
    "admissions_df[['next_admission','next_admission_type']] = admissions_df.groupby(['subject_id'])[['next_admission','next_admission_type']].fillna(method = 'bfill')"
   ]
  },
  {
   "cell_type": "code",
   "execution_count": 60,
   "metadata": {},
   "outputs": [],
   "source": [
    "# calculate the number of days between admissions\n",
    "admissions_df['days_between_admit']=  (admissions_df.next_admission - admissions_df.discharge_time).dt.total_seconds()/(24*60*60)"
   ]
  },
  {
   "cell_type": "code",
   "execution_count": 61,
   "metadata": {},
   "outputs": [
    {
     "data": {
      "text/html": [
       "<div>\n",
       "<style scoped>\n",
       "    .dataframe tbody tr th:only-of-type {\n",
       "        vertical-align: middle;\n",
       "    }\n",
       "\n",
       "    .dataframe tbody tr th {\n",
       "        vertical-align: top;\n",
       "    }\n",
       "\n",
       "    .dataframe thead th {\n",
       "        text-align: right;\n",
       "    }\n",
       "</style>\n",
       "<table border=\"1\" class=\"dataframe\">\n",
       "  <thead>\n",
       "    <tr style=\"text-align: right;\">\n",
       "      <th></th>\n",
       "      <th>subject_id</th>\n",
       "      <th>hadm_id</th>\n",
       "      <th>admission_time</th>\n",
       "      <th>discharge_time</th>\n",
       "      <th>time_of_death</th>\n",
       "      <th>admission_type</th>\n",
       "      <th>next_admission</th>\n",
       "      <th>next_admission_type</th>\n",
       "      <th>days_between_admit</th>\n",
       "    </tr>\n",
       "  </thead>\n",
       "  <tbody>\n",
       "    <tr>\n",
       "      <th>0</th>\n",
       "      <td>2</td>\n",
       "      <td>163353</td>\n",
       "      <td>2138-07-17 19:04:00</td>\n",
       "      <td>2138-07-21 15:48:00</td>\n",
       "      <td>NaT</td>\n",
       "      <td>NEWBORN</td>\n",
       "      <td>NaT</td>\n",
       "      <td>NaN</td>\n",
       "      <td>NaN</td>\n",
       "    </tr>\n",
       "    <tr>\n",
       "      <th>1</th>\n",
       "      <td>3</td>\n",
       "      <td>145834</td>\n",
       "      <td>2101-10-20 19:08:00</td>\n",
       "      <td>2101-10-31 13:58:00</td>\n",
       "      <td>NaT</td>\n",
       "      <td>EMERGENCY</td>\n",
       "      <td>NaT</td>\n",
       "      <td>NaN</td>\n",
       "      <td>NaN</td>\n",
       "    </tr>\n",
       "    <tr>\n",
       "      <th>2</th>\n",
       "      <td>4</td>\n",
       "      <td>185777</td>\n",
       "      <td>2191-03-16 00:28:00</td>\n",
       "      <td>2191-03-23 18:41:00</td>\n",
       "      <td>NaT</td>\n",
       "      <td>EMERGENCY</td>\n",
       "      <td>NaT</td>\n",
       "      <td>NaN</td>\n",
       "      <td>NaN</td>\n",
       "    </tr>\n",
       "  </tbody>\n",
       "</table>\n",
       "</div>"
      ],
      "text/plain": [
       "   subject_id  hadm_id      admission_time      discharge_time time_of_death  \\\n",
       "0           2   163353 2138-07-17 19:04:00 2138-07-21 15:48:00           NaT   \n",
       "1           3   145834 2101-10-20 19:08:00 2101-10-31 13:58:00           NaT   \n",
       "2           4   185777 2191-03-16 00:28:00 2191-03-23 18:41:00           NaT   \n",
       "\n",
       "  admission_type next_admission next_admission_type  days_between_admit  \n",
       "0        NEWBORN            NaT                 NaN                 NaN  \n",
       "1      EMERGENCY            NaT                 NaN                 NaN  \n",
       "2      EMERGENCY            NaT                 NaN                 NaN  "
      ]
     },
     "execution_count": 61,
     "metadata": {},
     "output_type": "execute_result"
    }
   ],
   "source": [
    "admissions_df.head(3)"
   ]
  },
  {
   "cell_type": "code",
   "execution_count": 71,
   "metadata": {},
   "outputs": [],
   "source": [
    "# assert there are no duplicate hospital admissions\n",
    "assert admissions_df.duplicated(['hadm_id']).sum() == 0, 'Multiple admissions per ID'"
   ]
  },
  {
   "cell_type": "code",
   "execution_count": 73,
   "metadata": {},
   "outputs": [
    {
     "name": "stdout",
     "output_type": "stream",
     "text": [
      "<class 'pandas.core.frame.DataFrame'>\n",
      "Int64Index: 58976 entries, 0 to 58975\n",
      "Data columns (total 9 columns):\n",
      "subject_id             58976 non-null int64\n",
      "hadm_id                58976 non-null int64\n",
      "admission_time         58976 non-null datetime64[ns]\n",
      "discharge_time         58976 non-null datetime64[ns]\n",
      "time_of_death          5854 non-null datetime64[ns]\n",
      "admission_type         58976 non-null object\n",
      "next_admission         11399 non-null datetime64[ns]\n",
      "next_admission_type    11399 non-null object\n",
      "days_between_admit     11399 non-null float64\n",
      "dtypes: datetime64[ns](4), float64(1), int64(2), object(2)\n",
      "memory usage: 4.5+ MB\n"
     ]
    }
   ],
   "source": [
    "admissions_df.info()"
   ]
  },
  {
   "cell_type": "code",
   "execution_count": 62,
   "metadata": {},
   "outputs": [
    {
     "data": {
      "text/plain": [
       "<matplotlib.axes._subplots.AxesSubplot at 0x21b444f7518>"
      ]
     },
     "execution_count": 62,
     "metadata": {},
     "output_type": "execute_result"
    },
    {
     "data": {
      "image/png": "[encoded data removed]",
      "text/plain": [
       "<Figure size 432x288 with 1 Axes>"
      ]
     },
     "metadata": {
      "needs_background": "light"
     },
     "output_type": "display_data"
    }
   ],
   "source": [
    "admissions_df.days_between_admit.hist()"
   ]
  },
  {
   "cell_type": "markdown",
   "metadata": {},
   "source": [
    "## Extract Discharge Summary notes from NOTEEVENTS table"
   ]
  },
  {
   "cell_type": "code",
   "execution_count": 77,
   "metadata": {},
   "outputs": [
    {
     "name": "stdout",
     "output_type": "stream",
     "text": [
      "COLUMN NAMES\n",
      "['row_id', 'subject_id', 'hadm_id', 'chartdate', 'charttime', 'storetime', 'category', 'description', 'cgid', 'iserror', 'text']\n",
      "\n",
      "METADATA\n",
      "Table('noteevents', MetaData(bind=None), Column('row_id', INTEGER(), table=<noteevents>, primary_key=True, nullable=False), Column('subject_id', INTEGER(), table=<noteevents>, nullable=False), Column('hadm_id', INTEGER(), table=<noteevents>), Column('chartdate', TIMESTAMP(precision=0), table=<noteevents>), Column('charttime', TIMESTAMP(precision=0), table=<noteevents>), Column('storetime', TIMESTAMP(precision=0), table=<noteevents>), Column('category', VARCHAR(length=50), table=<noteevents>), Column('description', VARCHAR(length=255), table=<noteevents>), Column('cgid', INTEGER(), table=<noteevents>), Column('iserror', CHAR(length=1), table=<noteevents>), Column('text', TEXT(), table=<noteevents>), schema=None)\n"
     ]
    }
   ],
   "source": [
    "# define NOTEEVENTES table\n",
    "notes = Table('noteevents', metadata, autoload=True, autoload_with=engine)\n",
    "\n",
    "# Print the column names\n",
    "print('COLUMN NAMES')\n",
    "print(notes.columns.keys())\n",
    "\n",
    "# Print full table metadata\n",
    "print('\\nMETADATA')\n",
    "print(repr(notes))"
   ]
  },
  {
   "cell_type": "code",
   "execution_count": 63,
   "metadata": {},
   "outputs": [],
   "source": [
    "# extract Discharge\n",
    "query = \"SELECT subject_id, hadm_id, category, text \\\n",
    "        FROM noteevents \\\n",
    "        WHERE category='Discharge summary'\"\n",
    "discharge_query = connection.execute(query).fetchall()"
   ]
  },
  {
   "cell_type": "code",
   "execution_count": 64,
   "metadata": {},
   "outputs": [
    {
     "name": "stdout",
     "output_type": "stream",
     "text": [
      "(59652, 4)\n"
     ]
    },
    {
     "data": {
      "text/html": [
       "<div>\n",
       "<style scoped>\n",
       "    .dataframe tbody tr th:only-of-type {\n",
       "        vertical-align: middle;\n",
       "    }\n",
       "\n",
       "    .dataframe tbody tr th {\n",
       "        vertical-align: top;\n",
       "    }\n",
       "\n",
       "    .dataframe thead th {\n",
       "        text-align: right;\n",
       "    }\n",
       "</style>\n",
       "<table border=\"1\" class=\"dataframe\">\n",
       "  <thead>\n",
       "    <tr style=\"text-align: right;\">\n",
       "      <th></th>\n",
       "      <th>subject_id</th>\n",
       "      <th>hadm_id</th>\n",
       "      <th>category</th>\n",
       "      <th>text</th>\n",
       "    </tr>\n",
       "  </thead>\n",
       "  <tbody>\n",
       "    <tr>\n",
       "      <th>0</th>\n",
       "      <td>22532</td>\n",
       "      <td>167853</td>\n",
       "      <td>Discharge summary</td>\n",
       "      <td>Admission Date:  [**2151-7-16**]       Dischar...</td>\n",
       "    </tr>\n",
       "    <tr>\n",
       "      <th>1</th>\n",
       "      <td>13702</td>\n",
       "      <td>107527</td>\n",
       "      <td>Discharge summary</td>\n",
       "      <td>Admission Date:  [**2118-6-2**]       Discharg...</td>\n",
       "    </tr>\n",
       "    <tr>\n",
       "      <th>2</th>\n",
       "      <td>13702</td>\n",
       "      <td>167118</td>\n",
       "      <td>Discharge summary</td>\n",
       "      <td>Admission Date:  [**2119-5-4**]              D...</td>\n",
       "    </tr>\n",
       "  </tbody>\n",
       "</table>\n",
       "</div>"
      ],
      "text/plain": [
       "   subject_id  hadm_id           category  \\\n",
       "0       22532   167853  Discharge summary   \n",
       "1       13702   107527  Discharge summary   \n",
       "2       13702   167118  Discharge summary   \n",
       "\n",
       "                                                text  \n",
       "0  Admission Date:  [**2151-7-16**]       Dischar...  \n",
       "1  Admission Date:  [**2118-6-2**]       Discharg...  \n",
       "2  Admission Date:  [**2119-5-4**]              D...  "
      ]
     },
     "execution_count": 64,
     "metadata": {},
     "output_type": "execute_result"
    }
   ],
   "source": [
    "# create DataFrame\n",
    "discharge_df = pd.DataFrame.from_records(discharge_query, \n",
    "                                         columns=['subject_id','hadm_id','category','text'])\n",
    "print(discharge_df.shape)\n",
    "discharge_df.head(3)"
   ]
  },
  {
   "cell_type": "code",
   "execution_count": 65,
   "metadata": {},
   "outputs": [],
   "source": [
    "# if multiples exist, take the last HADM_ID entry\n",
    "discharge_df = (discharge_df.groupby(['subject_id','hadm_id']).nth(-1)).reset_index()"
   ]
  },
  {
   "cell_type": "code",
   "execution_count": 66,
   "metadata": {},
   "outputs": [],
   "source": [
    "assert discharge_df.duplicated(['hadm_id']).sum() == 0, 'Multiple discharge summaries per admission'"
   ]
  },
  {
   "cell_type": "code",
   "execution_count": 67,
   "metadata": {},
   "outputs": [
    {
     "name": "stdout",
     "output_type": "stream",
     "text": [
      "<class 'pandas.core.frame.DataFrame'>\n",
      "RangeIndex: 52726 entries, 0 to 52725\n",
      "Data columns (total 4 columns):\n",
      "subject_id    52726 non-null int64\n",
      "hadm_id       52726 non-null int64\n",
      "category      52726 non-null object\n",
      "text          52726 non-null object\n",
      "dtypes: int64(2), object(2)\n",
      "memory usage: 1.6+ MB\n"
     ]
    }
   ],
   "source": [
    "discharge_df.info()"
   ]
  },
  {
   "cell_type": "markdown",
   "metadata": {},
   "source": [
    "## Merge DataFrames"
   ]
  },
  {
   "cell_type": "code",
   "execution_count": 113,
   "metadata": {},
   "outputs": [],
   "source": [
    "clinic_df = pd.merge(admissions_df[['subject_id','hadm_id','admission_time','discharge_time','next_admission','days_between_admit','admission_type','time_of_death']],\n",
    "                        discharge_df[['subject_id','hadm_id','text']], \n",
    "                        on = ['subject_id','hadm_id'],\n",
    "                        how = 'left')\n",
    "\n",
    "# if multiples exist, take the last HADM_ID entry\n",
    "#clinic_df = (clinic_df.groupby(['subject_id','hadm_id']).nth(-1)).reset_index()\n",
    "\n",
    "assert len(clinic_df) == len(admissions_df), 'Number of rows increased'"
   ]
  },
  {
   "cell_type": "code",
   "execution_count": 114,
   "metadata": {},
   "outputs": [
    {
     "data": {
      "text/html": [
       "<div>\n",
       "<style scoped>\n",
       "    .dataframe tbody tr th:only-of-type {\n",
       "        vertical-align: middle;\n",
       "    }\n",
       "\n",
       "    .dataframe tbody tr th {\n",
       "        vertical-align: top;\n",
       "    }\n",
       "\n",
       "    .dataframe thead th {\n",
       "        text-align: right;\n",
       "    }\n",
       "</style>\n",
       "<table border=\"1\" class=\"dataframe\">\n",
       "  <thead>\n",
       "    <tr style=\"text-align: right;\">\n",
       "      <th></th>\n",
       "      <th>subject_id</th>\n",
       "      <th>hadm_id</th>\n",
       "      <th>admission_time</th>\n",
       "      <th>discharge_time</th>\n",
       "      <th>next_admission</th>\n",
       "      <th>days_between_admit</th>\n",
       "      <th>admission_type</th>\n",
       "      <th>time_of_death</th>\n",
       "      <th>text</th>\n",
       "    </tr>\n",
       "  </thead>\n",
       "  <tbody>\n",
       "    <tr>\n",
       "      <th>0</th>\n",
       "      <td>2</td>\n",
       "      <td>163353</td>\n",
       "      <td>2138-07-17 19:04:00</td>\n",
       "      <td>2138-07-21 15:48:00</td>\n",
       "      <td>NaT</td>\n",
       "      <td>NaN</td>\n",
       "      <td>NEWBORN</td>\n",
       "      <td>NaT</td>\n",
       "      <td>NaN</td>\n",
       "    </tr>\n",
       "    <tr>\n",
       "      <th>1</th>\n",
       "      <td>3</td>\n",
       "      <td>145834</td>\n",
       "      <td>2101-10-20 19:08:00</td>\n",
       "      <td>2101-10-31 13:58:00</td>\n",
       "      <td>NaT</td>\n",
       "      <td>NaN</td>\n",
       "      <td>EMERGENCY</td>\n",
       "      <td>NaT</td>\n",
       "      <td>Admission Date:  [**2101-10-20**]     Discharg...</td>\n",
       "    </tr>\n",
       "    <tr>\n",
       "      <th>2</th>\n",
       "      <td>4</td>\n",
       "      <td>185777</td>\n",
       "      <td>2191-03-16 00:28:00</td>\n",
       "      <td>2191-03-23 18:41:00</td>\n",
       "      <td>NaT</td>\n",
       "      <td>NaN</td>\n",
       "      <td>EMERGENCY</td>\n",
       "      <td>NaT</td>\n",
       "      <td>Admission Date:  [**2191-3-16**]     Discharge...</td>\n",
       "    </tr>\n",
       "  </tbody>\n",
       "</table>\n",
       "</div>"
      ],
      "text/plain": [
       "   subject_id  hadm_id      admission_time      discharge_time next_admission  \\\n",
       "0           2   163353 2138-07-17 19:04:00 2138-07-21 15:48:00            NaT   \n",
       "1           3   145834 2101-10-20 19:08:00 2101-10-31 13:58:00            NaT   \n",
       "2           4   185777 2191-03-16 00:28:00 2191-03-23 18:41:00            NaT   \n",
       "\n",
       "   days_between_admit admission_type time_of_death  \\\n",
       "0                 NaN        NEWBORN           NaT   \n",
       "1                 NaN      EMERGENCY           NaT   \n",
       "2                 NaN      EMERGENCY           NaT   \n",
       "\n",
       "                                                text  \n",
       "0                                                NaN  \n",
       "1  Admission Date:  [**2101-10-20**]     Discharg...  \n",
       "2  Admission Date:  [**2191-3-16**]     Discharge...  "
      ]
     },
     "execution_count": 114,
     "metadata": {},
     "output_type": "execute_result"
    }
   ],
   "source": [
    "clinic_df.head(3)"
   ]
  },
  {
   "cell_type": "code",
   "execution_count": 115,
   "metadata": {},
   "outputs": [
    {
     "name": "stdout",
     "output_type": "stream",
     "text": [
      "<class 'pandas.core.frame.DataFrame'>\n",
      "Int64Index: 58976 entries, 0 to 58975\n",
      "Data columns (total 9 columns):\n",
      "subject_id            58976 non-null int64\n",
      "hadm_id               58976 non-null int64\n",
      "admission_time        58976 non-null datetime64[ns]\n",
      "discharge_time        58976 non-null datetime64[ns]\n",
      "next_admission        11399 non-null datetime64[ns]\n",
      "days_between_admit    11399 non-null float64\n",
      "admission_type        58976 non-null object\n",
      "time_of_death         5854 non-null datetime64[ns]\n",
      "text                  52726 non-null object\n",
      "dtypes: datetime64[ns](4), float64(1), int64(2), object(2)\n",
      "memory usage: 4.5+ MB\n"
     ]
    }
   ],
   "source": [
    "clinic_df.info()"
   ]
  },
  {
   "cell_type": "code",
   "execution_count": 116,
   "metadata": {},
   "outputs": [
    {
     "name": "stdout",
     "output_type": "stream",
     "text": [
      "10.60% of text cells are empty.\n",
      "----------------------------------------\n",
      "53.67% of NEWBORN text cells are empty.\n",
      "3.80% of EMERGENCY text cells are empty.\n",
      "4.87% of ELECTIVE text cells are empty.\n",
      "4.27% of URGENT text cells are empty.\n"
     ]
    }
   ],
   "source": [
    "perc_missing = clinic_df.text.isna().sum() / len(clinic_df) * 100\n",
    "print('{:.2f}% of text cells are empty.'.format(perc_missing))\n",
    "print('-'*40)\n",
    "for adm_type in clinic_df.admission_type.unique():\n",
    "    txt_missing = clinic_df[clinic_df.admission_type == adm_type].text.isna().sum() / len(clinic_df[clinic_df.admission_type == adm_type]) * 100\n",
    "    print('{:.2f}% of {} text cells are empty.'.format(txt_missing, adm_type))"
   ]
  },
  {
   "cell_type": "code",
   "execution_count": 117,
   "metadata": {},
   "outputs": [
    {
     "name": "stdout",
     "output_type": "stream",
     "text": [
      "<class 'pandas.core.frame.DataFrame'>\n",
      "Int64Index: 52726 entries, 1 to 58975\n",
      "Data columns (total 9 columns):\n",
      "subject_id            52726 non-null int64\n",
      "hadm_id               52726 non-null int64\n",
      "admission_time        52726 non-null datetime64[ns]\n",
      "discharge_time        52726 non-null datetime64[ns]\n",
      "next_admission        10933 non-null datetime64[ns]\n",
      "days_between_admit    10933 non-null float64\n",
      "admission_type        52726 non-null object\n",
      "time_of_death         5263 non-null datetime64[ns]\n",
      "text                  52726 non-null object\n",
      "dtypes: datetime64[ns](4), float64(1), int64(2), object(2)\n",
      "memory usage: 4.0+ MB\n"
     ]
    }
   ],
   "source": [
    "# drop all rows where Text cell is empty\n",
    "clinic_df_clean = clinic_df[clinic_df.text.notnull()].copy()\n",
    "clinic_df_clean.info()"
   ]
  },
  {
   "cell_type": "code",
   "execution_count": 118,
   "metadata": {},
   "outputs": [],
   "source": [
    "# add target column\n",
    "# 1 = readmitted in last 30 days\n",
    "clinic_df_clean['readmission'] = (clinic_df_clean.days_between_admit < 30).astype('int')"
   ]
  },
  {
   "cell_type": "code",
   "execution_count": 119,
   "metadata": {},
   "outputs": [
    {
     "data": {
      "text/html": [
       "<div>\n",
       "<style scoped>\n",
       "    .dataframe tbody tr th:only-of-type {\n",
       "        vertical-align: middle;\n",
       "    }\n",
       "\n",
       "    .dataframe tbody tr th {\n",
       "        vertical-align: top;\n",
       "    }\n",
       "\n",
       "    .dataframe thead th {\n",
       "        text-align: right;\n",
       "    }\n",
       "</style>\n",
       "<table border=\"1\" class=\"dataframe\">\n",
       "  <thead>\n",
       "    <tr style=\"text-align: right;\">\n",
       "      <th></th>\n",
       "      <th>subject_id</th>\n",
       "      <th>hadm_id</th>\n",
       "      <th>admission_time</th>\n",
       "      <th>discharge_time</th>\n",
       "      <th>next_admission</th>\n",
       "      <th>days_between_admit</th>\n",
       "      <th>admission_type</th>\n",
       "      <th>time_of_death</th>\n",
       "      <th>text</th>\n",
       "      <th>readmission</th>\n",
       "    </tr>\n",
       "  </thead>\n",
       "  <tbody>\n",
       "    <tr>\n",
       "      <th>1</th>\n",
       "      <td>3</td>\n",
       "      <td>145834</td>\n",
       "      <td>2101-10-20 19:08:00</td>\n",
       "      <td>2101-10-31 13:58:00</td>\n",
       "      <td>NaT</td>\n",
       "      <td>NaN</td>\n",
       "      <td>EMERGENCY</td>\n",
       "      <td>NaT</td>\n",
       "      <td>Admission Date:  [**2101-10-20**]     Discharg...</td>\n",
       "      <td>0</td>\n",
       "    </tr>\n",
       "    <tr>\n",
       "      <th>2</th>\n",
       "      <td>4</td>\n",
       "      <td>185777</td>\n",
       "      <td>2191-03-16 00:28:00</td>\n",
       "      <td>2191-03-23 18:41:00</td>\n",
       "      <td>NaT</td>\n",
       "      <td>NaN</td>\n",
       "      <td>EMERGENCY</td>\n",
       "      <td>NaT</td>\n",
       "      <td>Admission Date:  [**2191-3-16**]     Discharge...</td>\n",
       "      <td>0</td>\n",
       "    </tr>\n",
       "    <tr>\n",
       "      <th>4</th>\n",
       "      <td>6</td>\n",
       "      <td>107064</td>\n",
       "      <td>2175-05-30 07:15:00</td>\n",
       "      <td>2175-06-15 16:00:00</td>\n",
       "      <td>NaT</td>\n",
       "      <td>NaN</td>\n",
       "      <td>ELECTIVE</td>\n",
       "      <td>NaT</td>\n",
       "      <td>Admission Date: [**2175-5-30**]        Dischar...</td>\n",
       "      <td>0</td>\n",
       "    </tr>\n",
       "    <tr>\n",
       "      <th>7</th>\n",
       "      <td>9</td>\n",
       "      <td>150750</td>\n",
       "      <td>2149-11-09 13:06:00</td>\n",
       "      <td>2149-11-14 10:15:00</td>\n",
       "      <td>NaT</td>\n",
       "      <td>NaN</td>\n",
       "      <td>EMERGENCY</td>\n",
       "      <td>2149-11-14 10:15:00</td>\n",
       "      <td>Name:  [**Known lastname 10050**], [**Known fi...</td>\n",
       "      <td>0</td>\n",
       "    </tr>\n",
       "    <tr>\n",
       "      <th>8</th>\n",
       "      <td>10</td>\n",
       "      <td>184167</td>\n",
       "      <td>2103-06-28 11:36:00</td>\n",
       "      <td>2103-07-06 12:10:00</td>\n",
       "      <td>NaT</td>\n",
       "      <td>NaN</td>\n",
       "      <td>NEWBORN</td>\n",
       "      <td>NaT</td>\n",
       "      <td>Admission Date:  [**2103-6-28**]       Dischar...</td>\n",
       "      <td>0</td>\n",
       "    </tr>\n",
       "  </tbody>\n",
       "</table>\n",
       "</div>"
      ],
      "text/plain": [
       "   subject_id  hadm_id      admission_time      discharge_time next_admission  \\\n",
       "1           3   145834 2101-10-20 19:08:00 2101-10-31 13:58:00            NaT   \n",
       "2           4   185777 2191-03-16 00:28:00 2191-03-23 18:41:00            NaT   \n",
       "4           6   107064 2175-05-30 07:15:00 2175-06-15 16:00:00            NaT   \n",
       "7           9   150750 2149-11-09 13:06:00 2149-11-14 10:15:00            NaT   \n",
       "8          10   184167 2103-06-28 11:36:00 2103-07-06 12:10:00            NaT   \n",
       "\n",
       "   days_between_admit admission_type       time_of_death  \\\n",
       "1                 NaN      EMERGENCY                 NaT   \n",
       "2                 NaN      EMERGENCY                 NaT   \n",
       "4                 NaN       ELECTIVE                 NaT   \n",
       "7                 NaN      EMERGENCY 2149-11-14 10:15:00   \n",
       "8                 NaN        NEWBORN                 NaT   \n",
       "\n",
       "                                                text  readmission  \n",
       "1  Admission Date:  [**2101-10-20**]     Discharg...            0  \n",
       "2  Admission Date:  [**2191-3-16**]     Discharge...            0  \n",
       "4  Admission Date: [**2175-5-30**]        Dischar...            0  \n",
       "7  Name:  [**Known lastname 10050**], [**Known fi...            0  \n",
       "8  Admission Date:  [**2103-6-28**]       Dischar...            0  "
      ]
     },
     "execution_count": 119,
     "metadata": {},
     "output_type": "execute_result"
    }
   ],
   "source": [
    "clinic_df_clean.head()"
   ]
  },
  {
   "cell_type": "code",
   "execution_count": 151,
   "metadata": {},
   "outputs": [],
   "source": [
    "# save file to CSV\n",
    "clinic_df_clean.to_csv(PROJ_ROOT + '/data/processed/clinic_notes_data.csv')"
   ]
  },
  {
   "cell_type": "code",
   "execution_count": 153,
   "metadata": {},
   "outputs": [
    {
     "name": "stdout",
     "output_type": "stream",
     "text": [
      "5.76% of samples are in positive class\n"
     ]
    },
    {
     "data": {
      "image/png": "[encoded data removed]",
      "text/plain": [
       "<Figure size 432x288 with 1 Axes>"
      ]
     },
     "metadata": {
      "needs_background": "light"
     },
     "output_type": "display_data"
    }
   ],
   "source": [
    "ax = sns.barplot(x='readmission', y='readmission',data=clinic_df_clean, estimator=lambda x: len(x) / len(y_train) * 100)\n",
    "ax.set_ylabel(\"Percent\")\n",
    "ax.set_xticklabels([\"No Readmision\",\"Readmission\"])\n",
    "ax.set_title('Class Distribution - All Data')\n",
    "\n",
    "pos_perc = clinic_df_clean.readmission.sum() / len(clinic_df_clean.readmission) * 100\n",
    "print('{:.2f}% of samples are in positive class'.format(pos_perc))"
   ]
  },
  {
   "cell_type": "markdown",
   "metadata": {},
   "source": [
    "## Split Data intro Train and Test Sets"
   ]
  },
  {
   "cell_type": "code",
   "execution_count": 154,
   "metadata": {},
   "outputs": [],
   "source": [
    "# shuffle the samples\n",
    "clinic_df_clean = clinic_df_clean.sample(n = len(clinic_df_clean), random_state = 42)\n",
    "clinic_df_clean.reset_index(drop = True, inplace=True)\n",
    "\n",
    "# Save 30% of the data as test a test set \n",
    "clinic_test=clinic_df_clean.sample(frac=0.30, random_state=42)\n",
    "\n",
    "# use the rest of the data as training data\n",
    "clinic_train=clinic_df_clean.drop(clinic_test.index)"
   ]
  },
  {
   "cell_type": "markdown",
   "metadata": {},
   "source": [
    "Check to make sure we did not lose too much of the positive class while splitting the data."
   ]
  },
  {
   "cell_type": "code",
   "execution_count": 155,
   "metadata": {},
   "outputs": [
    {
     "name": "stdout",
     "output_type": "stream",
     "text": [
      "5.71% of samples are in positive class\n"
     ]
    },
    {
     "data": {
      "image/png": "[encoded data removed]",
      "text/plain": [
       "<Figure size 432x288 with 1 Axes>"
      ]
     },
     "metadata": {
      "needs_background": "light"
     },
     "output_type": "display_data"
    }
   ],
   "source": [
    "# plot class distribution of training set\n",
    "ax = sns.barplot(x='readmission', y='readmission', data=clinic_train, \n",
    "                 estimator=lambda x: len(x) / len(clinic_train.readmission) * 100)\n",
    "ax.set_ylabel(\"Percent\")\n",
    "ax.set_xticklabels([\"No Readmision\",\"Readmission\"])\n",
    "ax.set_title('Class Distribution | Training Data')\n",
    "\n",
    "pos_perc = clinic_train.readmission.sum() / len(clinic_train.readmission) * 100\n",
    "print('{:.2f}% of samples are in positive class'.format(pos_perc))"
   ]
  },
  {
   "cell_type": "code",
   "execution_count": 156,
   "metadata": {},
   "outputs": [],
   "source": [
    "# save the test set to CSV\n",
    "clinic_test.to_csv(PROJ_ROOT + '/data/processed/clinic_test_data.csv')\n",
    "\n",
    "#save the training set to CSV\n",
    "clinic_test.to_csv(PROJ_ROOT + '/data/processed/clinic_train_data.csv')"
   ]
  }
 ],
 "metadata": {
  "kernelspec": {
   "display_name": "Capstone",
   "language": "python",
   "name": "capstone"
  },
  "language_info": {
   "codemirror_mode": {
    "name": "ipython",
    "version": 3
   },
   "file_extension": ".py",
   "mimetype": "text/x-python",
   "name": "python",
   "nbconvert_exporter": "python",
   "pygments_lexer": "ipython3",
   "version": "3.7.1"
  }
 },
 "nbformat": 4,
 "nbformat_minor": 2
}
