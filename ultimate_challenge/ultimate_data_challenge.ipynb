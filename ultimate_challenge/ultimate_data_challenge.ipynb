{
 "cells": [
  {
   "cell_type": "markdown",
   "metadata": {},
   "source": [
    "# Data Analysis Interview Challenge\n",
    "This is your chance to wow us with creative and rigorous solutions!\n",
    "\n",
    "## Part 1 ‑ Exploratory data analysis\n",
    "The attached logins.json file contains (simulated) timestamps of user logins in a particular geographic location. Aggregate these login counts based on 15-minute time intervals, and visualize and describe the resulting time series of login counts in ways that best characterize the underlying patterns of the demand. Please report/illustrate important features of the demand,\n",
    "such as daily cycles. If there are data quality issues, please report them."
   ]
  },
  {
   "cell_type": "code",
   "execution_count": 1,
   "metadata": {},
   "outputs": [],
   "source": [
    "# import libraries\n",
    "import matplotlib.pyplot as plt\n",
    "import numpy as np\n",
    "import pandas as pd\n",
    "\n",
    "plt.style.use('seaborn')"
   ]
  },
  {
   "cell_type": "code",
   "execution_count": 2,
   "metadata": {},
   "outputs": [
    {
     "data": {
      "text/html": [
       "<div>\n",
       "<style scoped>\n",
       "    .dataframe tbody tr th:only-of-type {\n",
       "        vertical-align: middle;\n",
       "    }\n",
       "\n",
       "    .dataframe tbody tr th {\n",
       "        vertical-align: top;\n",
       "    }\n",
       "\n",
       "    .dataframe thead th {\n",
       "        text-align: right;\n",
       "    }\n",
       "</style>\n",
       "<table border=\"1\" class=\"dataframe\">\n",
       "  <thead>\n",
       "    <tr style=\"text-align: right;\">\n",
       "      <th></th>\n",
       "      <th>login_time</th>\n",
       "    </tr>\n",
       "  </thead>\n",
       "  <tbody>\n",
       "    <tr>\n",
       "      <th>0</th>\n",
       "      <td>1970-01-01 20:13:18</td>\n",
       "    </tr>\n",
       "    <tr>\n",
       "      <th>1</th>\n",
       "      <td>1970-01-01 20:16:10</td>\n",
       "    </tr>\n",
       "    <tr>\n",
       "      <th>2</th>\n",
       "      <td>1970-01-01 20:16:37</td>\n",
       "    </tr>\n",
       "  </tbody>\n",
       "</table>\n",
       "</div>"
      ],
      "text/plain": [
       "           login_time\n",
       "0 1970-01-01 20:13:18\n",
       "1 1970-01-01 20:16:10\n",
       "2 1970-01-01 20:16:37"
      ]
     },
     "execution_count": 2,
     "metadata": {},
     "output_type": "execute_result"
    }
   ],
   "source": [
    "login_df = pd.read_json('logins.json')\n",
    "login_df.head(3)"
   ]
  },
  {
   "cell_type": "code",
   "execution_count": 3,
   "metadata": {},
   "outputs": [
    {
     "name": "stdout",
     "output_type": "stream",
     "text": [
      "<class 'pandas.core.frame.DataFrame'>\n",
      "RangeIndex: 93142 entries, 0 to 93141\n",
      "Data columns (total 1 columns):\n",
      "login_time    93142 non-null datetime64[ns]\n",
      "dtypes: datetime64[ns](1)\n",
      "memory usage: 727.8 KB\n"
     ]
    }
   ],
   "source": [
    "login_df.info()"
   ]
  },
  {
   "cell_type": "code",
   "execution_count": 4,
   "metadata": {},
   "outputs": [
    {
     "data": {
      "text/html": [
       "<div>\n",
       "<style scoped>\n",
       "    .dataframe tbody tr th:only-of-type {\n",
       "        vertical-align: middle;\n",
       "    }\n",
       "\n",
       "    .dataframe tbody tr th {\n",
       "        vertical-align: top;\n",
       "    }\n",
       "\n",
       "    .dataframe thead th {\n",
       "        text-align: right;\n",
       "    }\n",
       "</style>\n",
       "<table border=\"1\" class=\"dataframe\">\n",
       "  <thead>\n",
       "    <tr style=\"text-align: right;\">\n",
       "      <th></th>\n",
       "      <th>count</th>\n",
       "      <th>day_of_week</th>\n",
       "    </tr>\n",
       "    <tr>\n",
       "      <th>login_time</th>\n",
       "      <th></th>\n",
       "      <th></th>\n",
       "    </tr>\n",
       "  </thead>\n",
       "  <tbody>\n",
       "    <tr>\n",
       "      <th>1970-01-01 20:00:00</th>\n",
       "      <td>2</td>\n",
       "      <td>Thurs</td>\n",
       "    </tr>\n",
       "    <tr>\n",
       "      <th>1970-01-01 20:15:00</th>\n",
       "      <td>6</td>\n",
       "      <td>Thurs</td>\n",
       "    </tr>\n",
       "    <tr>\n",
       "      <th>1970-01-01 20:30:00</th>\n",
       "      <td>9</td>\n",
       "      <td>Thurs</td>\n",
       "    </tr>\n",
       "    <tr>\n",
       "      <th>1970-01-01 20:45:00</th>\n",
       "      <td>7</td>\n",
       "      <td>Thurs</td>\n",
       "    </tr>\n",
       "    <tr>\n",
       "      <th>1970-01-01 21:00:00</th>\n",
       "      <td>1</td>\n",
       "      <td>Thurs</td>\n",
       "    </tr>\n",
       "  </tbody>\n",
       "</table>\n",
       "</div>"
      ],
      "text/plain": [
       "                     count day_of_week\n",
       "login_time                            \n",
       "1970-01-01 20:00:00      2       Thurs\n",
       "1970-01-01 20:15:00      6       Thurs\n",
       "1970-01-01 20:30:00      9       Thurs\n",
       "1970-01-01 20:45:00      7       Thurs\n",
       "1970-01-01 21:00:00      1       Thurs"
      ]
     },
     "execution_count": 4,
     "metadata": {},
     "output_type": "execute_result"
    }
   ],
   "source": [
    "# set index to datetime\n",
    "login_df = login_df.set_index(['login_time'])\n",
    "\n",
    "# create column for aggregation\n",
    "login_df['count'] = 0\n",
    "\n",
    "# resample in 15-minute intervals\n",
    "login_df = login_df.resample('15T').count()\n",
    "\n",
    "# create column for day of the week\n",
    "login_df['day_of_week'] = login_df.index.dayofweek\n",
    "days = {0:'Mon',1:'Tues',2:'Weds',3:'Thurs',4:'Fri',5:'Sat',6:'Sun'}\n",
    "\n",
    "login_df['day_of_week'] = login_df['day_of_week'].apply(lambda x: days[x])\n",
    "login_df.head()"
   ]
  },
  {
   "cell_type": "code",
   "execution_count": 5,
   "metadata": {},
   "outputs": [],
   "source": [
    "def plot_login_by_day(df, day, ax=None):\n",
    "    '''\n",
    "    A function to plot login data by the day. \n",
    "    '''\n",
    "    # create dataframe for day of the week\n",
    "    day_df = df[df.day_of_week == day]\n",
    "    \n",
    "    # group data by hour and 15-minute interval\n",
    "    day_grp = day_df.groupby([day_df.index.hour, day_df.index.minute]).sum()\n",
    "    day_grp.index.set_names(['hour','min'], inplace=True)\n",
    "    \n",
    "    # set marker for weekday vs weekend\n",
    "    if day in ['Sat','Sun']:\n",
    "        mark = '--'\n",
    "    else:\n",
    "        mark = '-'\n",
    "    # plot the data\n",
    "    day_grp.plot(style=mark, legend=True, ax=ax)\n",
    "    plt.xticks(np.arange(0, len(day_grp), 4), labels=range(len(day_grp)))\n",
    "    plt.margins(0,.02)\n",
    "    plt.xlabel('Time of Day')\n",
    "    plt.ylabel('Login Count')"
   ]
  },
  {
   "cell_type": "code",
   "execution_count": 6,
   "metadata": {},
   "outputs": [
    {
     "data": {
      "image/png": "[encoded data removed]",
      "text/plain": [
       "<Figure size 1080x576 with 1 Axes>"
      ]
     },
     "metadata": {
      "needs_background": "light"
     },
     "output_type": "display_data"
    }
   ],
   "source": [
    "# plot daily login data\n",
    "fig, ax = plt.subplots(figsize=(15,8))\n",
    "[plot_login_by_day(login_df, day, ax) for day in days.values()]\n",
    "plt.legend(days.values())\n",
    "plt.title('Login Count by Time and Day of Week')\n",
    "plt.show()"
   ]
  },
  {
   "cell_type": "code",
   "execution_count": 7,
   "metadata": {},
   "outputs": [],
   "source": [
    "def total_by_day(df, day_col='day_of_week', ax=None):\n",
    "    '''\n",
    "    A function to plot the total number of logins\n",
    "    by day of the week.\n",
    "    \n",
    "    df = dataframe\n",
    "    day_col = name of column containing day of the week\n",
    "    '''\n",
    "    # group logins by day of the week\n",
    "    day_grp = df.groupby(df[day_col]).sum()\n",
    "    \n",
    "    # plot login count by day of the week\n",
    "    day_grp.loc[days.values()].plot(kind='bar',\n",
    "                                    title='Total Logins by Day of Week',\n",
    "                                    legend=False, \n",
    "                                    #figsize=(8,6),\n",
    "                                    ax=ax\n",
    "                                   )\n",
    "    ax.set_xlabel(None)"
   ]
  },
  {
   "cell_type": "code",
   "execution_count": 8,
   "metadata": {},
   "outputs": [],
   "source": [
    "def total_by_month(df, xticks=['Jan','Feb','Mar','Apr'], ax=None):\n",
    "    '''\n",
    "    A function to plot the total number of logins by month.\n",
    "    xticks = a list of xtick labels\n",
    "    '''\n",
    "    df.groupby([df.index.month]).sum().plot(kind='bar',\n",
    "                                            title='Total Logins by Month',\n",
    "                                            ax=ax,\n",
    "                                            legend=False,\n",
    "                                            color='r'\n",
    "                                            )\n",
    "    ax.set_ylabel('Count')\n",
    "    ax.set_xlabel(None)\n",
    "    ax.set_xticklabels(xticks)"
   ]
  },
  {
   "cell_type": "code",
   "execution_count": 9,
   "metadata": {},
   "outputs": [
    {
     "data": {
      "image/png": "[encoded data removed]",
      "text/plain": [
       "<Figure size 1152x432 with 2 Axes>"
      ]
     },
     "metadata": {
      "needs_background": "light"
     },
     "output_type": "display_data"
    }
   ],
   "source": [
    "fig, ax = plt.subplots(1,2, figsize=(16,6), gridspec_kw = {'width_ratios':[1.8, 1]})\n",
    "total_by_day(login_df, ax=ax[0])\n",
    "total_by_month(login_df, ax=ax[1])\n",
    "plt.show()"
   ]
  },
  {
   "cell_type": "code",
   "execution_count": 10,
   "metadata": {},
   "outputs": [
    {
     "data": {
      "image/png": "[encoded data removed]",
      "text/plain": [
       "<Figure size 1152x432 with 2 Axes>"
      ]
     },
     "metadata": {
      "needs_background": "light"
     },
     "output_type": "display_data"
    }
   ],
   "source": [
    "# plot the average logins by day and month\n",
    "def total_by_day_avg(df, day_col='day_of_week', ax=None):\n",
    "    '''\n",
    "    A function to plot the total number of logins\n",
    "    by day of the week.\n",
    "    \n",
    "    df = dataframe\n",
    "    day_col = name of column containing day of the week\n",
    "    '''\n",
    "    # group logins by day of the week\n",
    "    day_grp = df.groupby(df[day_col]).mean()\n",
    "    \n",
    "    # plot login count by day of the week\n",
    "    day_grp.loc[days.values()].plot(kind='bar',\n",
    "                                    title='Average Total Logins by Day of Week',\n",
    "                                    legend=False, \n",
    "                                    #figsize=(8,6),\n",
    "                                    ax=ax\n",
    "                                   )\n",
    "    ax.set_xlabel(None)\n",
    "    \n",
    "def total_by_month_avg(df, xticks=['Jan','Feb','Mar','Apr'], ax=None):\n",
    "    '''\n",
    "    A function to plot the total number of logins by month.\n",
    "    xticks = a list of xtick labels\n",
    "    '''\n",
    "    df.groupby([df.index.month]).mean().plot(kind='bar',\n",
    "                                            title='Average Total Logins by Month',\n",
    "                                            ax=ax,\n",
    "                                            legend=False,\n",
    "                                            color='r'\n",
    "                                            )\n",
    "    ax.set_ylabel('Count')\n",
    "    ax.set_xlabel(None)\n",
    "    ax.set_xticklabels(xticks)\n",
    "    \n",
    "fig, ax = plt.subplots(1,2, figsize=(16,6), gridspec_kw = {'width_ratios':[1.8, 1]})\n",
    "total_by_day_avg(login_df, ax=ax[0])\n",
    "total_by_month_avg(login_df, ax=ax[1])\n",
    "plt.show()"
   ]
  },
  {
   "cell_type": "code",
   "execution_count": 11,
   "metadata": {},
   "outputs": [
    {
     "name": "stdout",
     "output_type": "stream",
     "text": [
      "Login data begins: 1970-01-01 20:00:00\n",
      "Login data ends: 1970-04-13 18:45:00\n"
     ]
    }
   ],
   "source": [
    "print('Login data begins: {0}\\nLogin data ends: {1}'.format(login_df.index.min(), login_df.index.max()))"
   ]
  },
  {
   "cell_type": "markdown",
   "metadata": {},
   "source": [
    "### Insights\n",
    "We can see a few trends from the plots above. First, there appear to be three peak times for logins:\n",
    "1. Mid-day on weekdays (around 11:30 AM)\n",
    "1. Early morning on weekends (around 4:45 AM)\n",
    "1. Late night every day, especially Friday (between 9:30 and 11:30 PM)\n",
    "\n",
    "Second, the total and average number of logins increases throughout the week with the lowest number being on Monday and the peak on Saturday. Finally, the total and average number of logins seems to be increasing from month to month. However, we only have 13 days worth of data for April, so our data in incomplete."
   ]
  },
  {
   "cell_type": "markdown",
   "metadata": {},
   "source": [
    "## Part 2 ‑ Experiment and metrics design\n",
    "The neighboring cities of Gotham and Metropolis have complementary circadian rhythms: on weekdays, Ultimate Gotham is most active at night, and Ultimate Metropolis is most active during the day. On weekends, there is reasonable activity in both cities.\n",
    "\n",
    "However, a toll bridge, with a two way toll, between the two cities causes driver partners to tend to be exclusive to each city. The Ultimate managers of city operations for the two cities have proposed an experiment to encourage driver partners to be available in both cities, by\n",
    "reimbursing all toll costs.\n",
    "\n",
    "**What would you choose as the key measure of success of this experiment in encouraging driver partners to serve both cities, and why would you choose this metric?**\n",
    "\n",
    "We can split the drivers into two groups: Gotham and Metropolis. Then we can classify each trip before the toll policy change as either inter-city or intra-city. This can be defined as follows:\n",
    "* intra-city: driver partner stays in respective city\n",
    "* inter-city: driver partner starts and or finishes in the other city\n",
    "\n",
    "Since drivers tend to be exclusive to their respective city, we would expect most of the rides to be intra-city before the toll change. The metric of success would be a significant increase in the number of inter-city rides. This would indicate that the toll policy change resulted in more driver partners crossing the bridge.  \n",
    "\n",
    "**Describe a practical experiment you would design to compare the effectiveness of the proposed change in relation to the key measure of success. Please provide details on:**\n",
    "\n",
    "An A/B test could be conducted where a subgroup of driver partners from each city are chosen for a pilot program offering a reimbursement of toll fees (group A), while the control group recieves no change in toll policy (group B). After a period of time, the mean number of inter-city rides by driver would be calculated. We want to measure whether group A saw an increase in the mean number of inter-city rides compared to group B. Hypothesis testing with boostrap analysis and t-tests could be used to measure the significance of the observation, with the null hypothesis being that there is no difference in the mean number of inter-city rides by driver. We would reject the null hypothesis and assume a significant increase in inter-city rides if the difference in means has a p-value at or above 0.05. \n",
    "\n",
    "At this point, we would want to measure the potential finanicial impact of waving the toll fees for all drivers by calculating profit from the rides minus the toll fee. This could be done by calculating the profit margin from group A's increased inter-city rides compared to group B. Again, hypothesis testing can be used to see if there is in fact an increase in the mean profit margin. If a significant increase is found, we would recommend to the city operations team that they expand the pilot program to include more or possibly all drivers. They may wish, however, to treat this as a limited-time program in order to continue testing the change in profit margins. If it is found that the program is having a negative impact on profits, driver satisfaction, or other key metrics, then it can be terminated at the stated termination date without the backlash of an unannounced policy change. If however, there is found to be a positive impact, the policy can be extended indefinitely.\n",
    "\n",
    "The amount of time for the initial A/B or policy expansion may be subjective and should be approached thoughtfully. If too little time is given to the experiment, it may not give driver partners enough time to adapt to the change and potential revenue increases may not be observed. If too much time is given and the experiment is proven unsuccessful, it may result in lost revenue."
   ]
  },
  {
   "cell_type": "markdown",
   "metadata": {},
   "source": [
    "## Part 3 ‑ Predictive modeling\n",
    "Ultimate is interested in predicting rider retention. To help explore this question, we have provided a sample dataset of a cohort of users who signed up for an Ultimate account in January 2014. The data was pulled several months later; we consider a user retained if they were “active” (i.e. took a trip) in the preceding 30 days.\n",
    "\n",
    "We would like you to use this data set to help understand what factors are the best predictors for retention, and offer suggestions to operationalize those insights to help Ultimate.\n",
    "\n",
    "The data is in the attached file ultimate_data_challenge.json. See below for a detailed description of the dataset. Please include any code you wrote for the analysis and delete the dataset when you have finished with the challenge.\n",
    "\n",
    "1. Perform any cleaning, exploratory analysis, and/or visualizations to use the provided data for this analysis (a few sentences/plots describing your approach will suffice). What fraction of the observed users were retained?\n",
    "2. Build a predictive model to help Ultimate determine whether or not a user will be active in their 6th month on the system. Discuss why you chose your approach, what alternatives you considered, and any concerns you have. How valid is your model? Include any key indicators of model performance.\n",
    "3. Briefly discuss how Ultimate might leverage the insights gained from the model to improve its longterm\n",
    "rider retention (again, a few sentences will suffice).\n",
    "\n",
    "### Data description\n",
    "* `city`: city this user signed up in\n",
    "* `phone`: primary device for this user\n",
    "* `signup_date`: date of account registration; in the form ‘YYYY MM DD’\n",
    "* `last_trip_date`: the last time this user completed a trip; in the form ‘YYYY MM DD’\n",
    "* `avg_dist`: the average distance in miles per trip taken in the first 30 days after signup\n",
    "* `avg_rating_by_driver`: the rider’s average rating over all of their trips\n",
    "* `avg_rating_of_driver`: the rider’s average rating of their drivers over all of their trips\n",
    "* `surge_pct`: the percent of trips taken with surge multiplier > 1\n",
    "* `avg_surge`: The average surge multiplier over all of this user’s trips\n",
    "* `trips_in_first_30_days`: the number of trips this user took in the first 30 days after signing up\n",
    "* `ultimate_black_user`: TRUE if the user took an Ultimate Black in their first 30 days; FALSE otherwise\n",
    "* `weekday_pct`: the percent of the user’s trips occurring during a weekday"
   ]
  },
  {
   "cell_type": "code",
   "execution_count": 75,
   "metadata": {},
   "outputs": [],
   "source": [
    "# import libraries\n",
    "import json\n",
    "import seaborn as sns\n",
    "from sklearn.ensemble import AdaBoostClassifier, GradientBoostingClassifier\n",
    "from sklearn.linear_model import LogisticRegression\n",
    "from sklearn.metrics import accuracy_score, classification_report\n",
    "from sklearn.model_selection import train_test_split, cross_val_score, GridSearchCV\n",
    "import xgboost as xgb\n",
    "from yellowbrick.classifier import ConfusionMatrix"
   ]
  },
  {
   "cell_type": "code",
   "execution_count": 13,
   "metadata": {},
   "outputs": [
    {
     "data": {
      "text/html": [
       "<div>\n",
       "<style scoped>\n",
       "    .dataframe tbody tr th:only-of-type {\n",
       "        vertical-align: middle;\n",
       "    }\n",
       "\n",
       "    .dataframe tbody tr th {\n",
       "        vertical-align: top;\n",
       "    }\n",
       "\n",
       "    .dataframe thead th {\n",
       "        text-align: right;\n",
       "    }\n",
       "</style>\n",
       "<table border=\"1\" class=\"dataframe\">\n",
       "  <thead>\n",
       "    <tr style=\"text-align: right;\">\n",
       "      <th></th>\n",
       "      <th>avg_dist</th>\n",
       "      <th>avg_rating_by_driver</th>\n",
       "      <th>avg_rating_of_driver</th>\n",
       "      <th>avg_surge</th>\n",
       "      <th>city</th>\n",
       "      <th>last_trip_date</th>\n",
       "      <th>phone</th>\n",
       "      <th>signup_date</th>\n",
       "      <th>surge_pct</th>\n",
       "      <th>trips_in_first_30_days</th>\n",
       "      <th>ultimate_black_user</th>\n",
       "      <th>weekday_pct</th>\n",
       "    </tr>\n",
       "  </thead>\n",
       "  <tbody>\n",
       "    <tr>\n",
       "      <th>0</th>\n",
       "      <td>3.67</td>\n",
       "      <td>5.0</td>\n",
       "      <td>4.7</td>\n",
       "      <td>1.10</td>\n",
       "      <td>King's Landing</td>\n",
       "      <td>2014-06-17</td>\n",
       "      <td>iPhone</td>\n",
       "      <td>2014-01-25</td>\n",
       "      <td>15.4</td>\n",
       "      <td>4</td>\n",
       "      <td>True</td>\n",
       "      <td>46.2</td>\n",
       "    </tr>\n",
       "    <tr>\n",
       "      <th>1</th>\n",
       "      <td>8.26</td>\n",
       "      <td>5.0</td>\n",
       "      <td>5.0</td>\n",
       "      <td>1.00</td>\n",
       "      <td>Astapor</td>\n",
       "      <td>2014-05-05</td>\n",
       "      <td>Android</td>\n",
       "      <td>2014-01-29</td>\n",
       "      <td>0.0</td>\n",
       "      <td>0</td>\n",
       "      <td>False</td>\n",
       "      <td>50.0</td>\n",
       "    </tr>\n",
       "    <tr>\n",
       "      <th>2</th>\n",
       "      <td>0.77</td>\n",
       "      <td>5.0</td>\n",
       "      <td>4.3</td>\n",
       "      <td>1.00</td>\n",
       "      <td>Astapor</td>\n",
       "      <td>2014-01-07</td>\n",
       "      <td>iPhone</td>\n",
       "      <td>2014-01-06</td>\n",
       "      <td>0.0</td>\n",
       "      <td>3</td>\n",
       "      <td>False</td>\n",
       "      <td>100.0</td>\n",
       "    </tr>\n",
       "    <tr>\n",
       "      <th>3</th>\n",
       "      <td>2.36</td>\n",
       "      <td>4.9</td>\n",
       "      <td>4.6</td>\n",
       "      <td>1.14</td>\n",
       "      <td>King's Landing</td>\n",
       "      <td>2014-06-29</td>\n",
       "      <td>iPhone</td>\n",
       "      <td>2014-01-10</td>\n",
       "      <td>20.0</td>\n",
       "      <td>9</td>\n",
       "      <td>True</td>\n",
       "      <td>80.0</td>\n",
       "    </tr>\n",
       "    <tr>\n",
       "      <th>4</th>\n",
       "      <td>3.13</td>\n",
       "      <td>4.9</td>\n",
       "      <td>4.4</td>\n",
       "      <td>1.19</td>\n",
       "      <td>Winterfell</td>\n",
       "      <td>2014-03-15</td>\n",
       "      <td>Android</td>\n",
       "      <td>2014-01-27</td>\n",
       "      <td>11.8</td>\n",
       "      <td>14</td>\n",
       "      <td>False</td>\n",
       "      <td>82.4</td>\n",
       "    </tr>\n",
       "  </tbody>\n",
       "</table>\n",
       "</div>"
      ],
      "text/plain": [
       "   avg_dist  avg_rating_by_driver  avg_rating_of_driver  avg_surge  \\\n",
       "0      3.67                   5.0                   4.7       1.10   \n",
       "1      8.26                   5.0                   5.0       1.00   \n",
       "2      0.77                   5.0                   4.3       1.00   \n",
       "3      2.36                   4.9                   4.6       1.14   \n",
       "4      3.13                   4.9                   4.4       1.19   \n",
       "\n",
       "             city last_trip_date    phone signup_date  surge_pct  \\\n",
       "0  King's Landing     2014-06-17   iPhone  2014-01-25       15.4   \n",
       "1         Astapor     2014-05-05  Android  2014-01-29        0.0   \n",
       "2         Astapor     2014-01-07   iPhone  2014-01-06        0.0   \n",
       "3  King's Landing     2014-06-29   iPhone  2014-01-10       20.0   \n",
       "4      Winterfell     2014-03-15  Android  2014-01-27       11.8   \n",
       "\n",
       "   trips_in_first_30_days  ultimate_black_user  weekday_pct  \n",
       "0                       4                 True         46.2  \n",
       "1                       0                False         50.0  \n",
       "2                       3                False        100.0  \n",
       "3                       9                 True         80.0  \n",
       "4                      14                False         82.4  "
      ]
     },
     "execution_count": 13,
     "metadata": {},
     "output_type": "execute_result"
    }
   ],
   "source": [
    "# load json file into dataframe\n",
    "with open('ultimate_data_challenge.json') as file:\n",
    "    ultimate = json.load(file)\n",
    "    \n",
    "ultimate_df = pd.DataFrame(ultimate)\n",
    "ultimate_df.head()"
   ]
  },
  {
   "cell_type": "code",
   "execution_count": 14,
   "metadata": {},
   "outputs": [],
   "source": [
    "# parse datetime columns\n",
    "ultimate_df['last_trip_date'] = pd.to_datetime(ultimate_df.last_trip_date, infer_datetime_format=True)\n",
    "ultimate_df['signup_date'] = pd.to_datetime(ultimate_df.signup_date, infer_datetime_format=True)"
   ]
  },
  {
   "cell_type": "code",
   "execution_count": 15,
   "metadata": {},
   "outputs": [
    {
     "data": {
      "text/plain": [
       "<matplotlib.axes._subplots.AxesSubplot at 0x1ac35007470>"
      ]
     },
     "execution_count": 15,
     "metadata": {},
     "output_type": "execute_result"
    },
    {
     "data": {
      "image/png": "[encoded data removed]",
      "text/plain": [
       "<Figure size 1008x360 with 2 Axes>"
      ]
     },
     "metadata": {
      "needs_background": "light"
     },
     "output_type": "display_data"
    }
   ],
   "source": [
    "fig, ax = plt.subplots(1,2, figsize=(14,5))\n",
    "sns.distplot(ultimate_df.avg_rating_by_driver.dropna(), kde=False, ax=ax[0])\n",
    "sns.distplot(ultimate_df.avg_rating_of_driver.dropna(), kde=False, ax=ax[1])"
   ]
  },
  {
   "cell_type": "code",
   "execution_count": 16,
   "metadata": {},
   "outputs": [],
   "source": [
    "# fill missing average ratings with median value\n",
    "ultimate_df.avg_rating_by_driver.fillna(ultimate_df.avg_rating_by_driver.median(), inplace=True)\n",
    "ultimate_df.avg_rating_of_driver.fillna(ultimate_df.avg_rating_of_driver.median(), inplace=True)\n",
    "\n",
    "#fill missing phone with 'unknown'\n",
    "ultimate_df.phone.fillna('unknown', inplace=True)"
   ]
  },
  {
   "cell_type": "code",
   "execution_count": 19,
   "metadata": {},
   "outputs": [],
   "source": [
    "# convert city and phone columns to categorical\n",
    "ultimate_df.city = ultimate_df.city.astype('category')\n",
    "ultimate_df.phone =  ultimate_df.phone.astype('category')"
   ]
  },
  {
   "cell_type": "code",
   "execution_count": 20,
   "metadata": {},
   "outputs": [
    {
     "name": "stdout",
     "output_type": "stream",
     "text": [
      "<class 'pandas.core.frame.DataFrame'>\n",
      "RangeIndex: 50000 entries, 0 to 49999\n",
      "Data columns (total 12 columns):\n",
      "avg_dist                  50000 non-null float64\n",
      "avg_rating_by_driver      50000 non-null float64\n",
      "avg_rating_of_driver      50000 non-null float64\n",
      "avg_surge                 50000 non-null float64\n",
      "city                      50000 non-null category\n",
      "last_trip_date            50000 non-null datetime64[ns]\n",
      "phone                     50000 non-null category\n",
      "signup_date               50000 non-null datetime64[ns]\n",
      "surge_pct                 50000 non-null float64\n",
      "trips_in_first_30_days    50000 non-null int64\n",
      "ultimate_black_user       50000 non-null bool\n",
      "weekday_pct               50000 non-null float64\n",
      "dtypes: bool(1), category(2), datetime64[ns](2), float64(6), int64(1)\n",
      "memory usage: 3.6 MB\n"
     ]
    }
   ],
   "source": [
    "ultimate_df.info()"
   ]
  },
  {
   "cell_type": "code",
   "execution_count": 21,
   "metadata": {},
   "outputs": [
    {
     "data": {
      "text/html": [
       "<div>\n",
       "<style scoped>\n",
       "    .dataframe tbody tr th:only-of-type {\n",
       "        vertical-align: middle;\n",
       "    }\n",
       "\n",
       "    .dataframe tbody tr th {\n",
       "        vertical-align: top;\n",
       "    }\n",
       "\n",
       "    .dataframe thead th {\n",
       "        text-align: right;\n",
       "    }\n",
       "</style>\n",
       "<table border=\"1\" class=\"dataframe\">\n",
       "  <thead>\n",
       "    <tr style=\"text-align: right;\">\n",
       "      <th></th>\n",
       "      <th>avg_dist</th>\n",
       "      <th>avg_rating_by_driver</th>\n",
       "      <th>avg_rating_of_driver</th>\n",
       "      <th>avg_surge</th>\n",
       "      <th>surge_pct</th>\n",
       "      <th>trips_in_first_30_days</th>\n",
       "      <th>weekday_pct</th>\n",
       "    </tr>\n",
       "  </thead>\n",
       "  <tbody>\n",
       "    <tr>\n",
       "      <th>count</th>\n",
       "      <td>50000.000000</td>\n",
       "      <td>50000.000000</td>\n",
       "      <td>50000.000000</td>\n",
       "      <td>50000.000000</td>\n",
       "      <td>50000.000000</td>\n",
       "      <td>50000.000000</td>\n",
       "      <td>50000.000000</td>\n",
       "    </tr>\n",
       "    <tr>\n",
       "      <th>mean</th>\n",
       "      <td>5.796827</td>\n",
       "      <td>4.779050</td>\n",
       "      <td>4.650038</td>\n",
       "      <td>1.074764</td>\n",
       "      <td>8.849536</td>\n",
       "      <td>2.278200</td>\n",
       "      <td>60.926084</td>\n",
       "    </tr>\n",
       "    <tr>\n",
       "      <th>std</th>\n",
       "      <td>5.707357</td>\n",
       "      <td>0.445974</td>\n",
       "      <td>0.575601</td>\n",
       "      <td>0.222336</td>\n",
       "      <td>19.958811</td>\n",
       "      <td>3.792684</td>\n",
       "      <td>37.081503</td>\n",
       "    </tr>\n",
       "    <tr>\n",
       "      <th>min</th>\n",
       "      <td>0.000000</td>\n",
       "      <td>1.000000</td>\n",
       "      <td>1.000000</td>\n",
       "      <td>1.000000</td>\n",
       "      <td>0.000000</td>\n",
       "      <td>0.000000</td>\n",
       "      <td>0.000000</td>\n",
       "    </tr>\n",
       "    <tr>\n",
       "      <th>25%</th>\n",
       "      <td>2.420000</td>\n",
       "      <td>4.700000</td>\n",
       "      <td>4.500000</td>\n",
       "      <td>1.000000</td>\n",
       "      <td>0.000000</td>\n",
       "      <td>0.000000</td>\n",
       "      <td>33.300000</td>\n",
       "    </tr>\n",
       "    <tr>\n",
       "      <th>50%</th>\n",
       "      <td>3.880000</td>\n",
       "      <td>5.000000</td>\n",
       "      <td>4.900000</td>\n",
       "      <td>1.000000</td>\n",
       "      <td>0.000000</td>\n",
       "      <td>1.000000</td>\n",
       "      <td>66.700000</td>\n",
       "    </tr>\n",
       "    <tr>\n",
       "      <th>75%</th>\n",
       "      <td>6.940000</td>\n",
       "      <td>5.000000</td>\n",
       "      <td>5.000000</td>\n",
       "      <td>1.050000</td>\n",
       "      <td>8.600000</td>\n",
       "      <td>3.000000</td>\n",
       "      <td>100.000000</td>\n",
       "    </tr>\n",
       "    <tr>\n",
       "      <th>max</th>\n",
       "      <td>160.960000</td>\n",
       "      <td>5.000000</td>\n",
       "      <td>5.000000</td>\n",
       "      <td>8.000000</td>\n",
       "      <td>100.000000</td>\n",
       "      <td>125.000000</td>\n",
       "      <td>100.000000</td>\n",
       "    </tr>\n",
       "  </tbody>\n",
       "</table>\n",
       "</div>"
      ],
      "text/plain": [
       "           avg_dist  avg_rating_by_driver  avg_rating_of_driver     avg_surge  \\\n",
       "count  50000.000000          50000.000000          50000.000000  50000.000000   \n",
       "mean       5.796827              4.779050              4.650038      1.074764   \n",
       "std        5.707357              0.445974              0.575601      0.222336   \n",
       "min        0.000000              1.000000              1.000000      1.000000   \n",
       "25%        2.420000              4.700000              4.500000      1.000000   \n",
       "50%        3.880000              5.000000              4.900000      1.000000   \n",
       "75%        6.940000              5.000000              5.000000      1.050000   \n",
       "max      160.960000              5.000000              5.000000      8.000000   \n",
       "\n",
       "          surge_pct  trips_in_first_30_days   weekday_pct  \n",
       "count  50000.000000            50000.000000  50000.000000  \n",
       "mean       8.849536                2.278200     60.926084  \n",
       "std       19.958811                3.792684     37.081503  \n",
       "min        0.000000                0.000000      0.000000  \n",
       "25%        0.000000                0.000000     33.300000  \n",
       "50%        0.000000                1.000000     66.700000  \n",
       "75%        8.600000                3.000000    100.000000  \n",
       "max      100.000000              125.000000    100.000000  "
      ]
     },
     "execution_count": 21,
     "metadata": {},
     "output_type": "execute_result"
    }
   ],
   "source": [
    "ultimate_df.describe()"
   ]
  },
  {
   "cell_type": "markdown",
   "metadata": {},
   "source": [
    "### 3.1 Exploratory Data Analysis"
   ]
  },
  {
   "cell_type": "code",
   "execution_count": 23,
   "metadata": {},
   "outputs": [],
   "source": [
    "def set_active_status(df, last_active):\n",
    "    '''\n",
    "    A function to create a column indicating the active\n",
    "    status of a user in the last 30 days.\n",
    "    1 = active, 0 = inactive\n",
    "    \n",
    "    last_active = column containing users last active date\n",
    "    '''\n",
    "    # set date that data was pulled\n",
    "    pull_date = df[last_active].max()\n",
    "    \n",
    "    # create column to define users active in last 30 day\n",
    "    for i in range(len(df)):\n",
    "        diff = (pull_date - df.loc[i, last_active]).days\n",
    "        if diff <= 30:\n",
    "            df.loc[i, 'active'] = 1\n",
    "        else:\n",
    "            df.loc[i, 'active'] = 0\n",
    "    \n",
    "    # set dtype to integer\n",
    "    df.active = df.active.astype(int)\n",
    "        \n",
    "set_active_status(ultimate_df, 'last_trip_date')"
   ]
  },
  {
   "cell_type": "code",
   "execution_count": 24,
   "metadata": {},
   "outputs": [
    {
     "data": {
      "text/html": [
       "<div>\n",
       "<style scoped>\n",
       "    .dataframe tbody tr th:only-of-type {\n",
       "        vertical-align: middle;\n",
       "    }\n",
       "\n",
       "    .dataframe tbody tr th {\n",
       "        vertical-align: top;\n",
       "    }\n",
       "\n",
       "    .dataframe thead th {\n",
       "        text-align: right;\n",
       "    }\n",
       "</style>\n",
       "<table border=\"1\" class=\"dataframe\">\n",
       "  <thead>\n",
       "    <tr style=\"text-align: right;\">\n",
       "      <th></th>\n",
       "      <th>avg_dist</th>\n",
       "      <th>avg_rating_by_driver</th>\n",
       "      <th>avg_rating_of_driver</th>\n",
       "      <th>avg_surge</th>\n",
       "      <th>city</th>\n",
       "      <th>last_trip_date</th>\n",
       "      <th>phone</th>\n",
       "      <th>signup_date</th>\n",
       "      <th>surge_pct</th>\n",
       "      <th>trips_in_first_30_days</th>\n",
       "      <th>ultimate_black_user</th>\n",
       "      <th>weekday_pct</th>\n",
       "      <th>active</th>\n",
       "    </tr>\n",
       "  </thead>\n",
       "  <tbody>\n",
       "    <tr>\n",
       "      <th>0</th>\n",
       "      <td>3.67</td>\n",
       "      <td>5.0</td>\n",
       "      <td>4.7</td>\n",
       "      <td>1.10</td>\n",
       "      <td>King's Landing</td>\n",
       "      <td>2014-06-17</td>\n",
       "      <td>iPhone</td>\n",
       "      <td>2014-01-25</td>\n",
       "      <td>15.4</td>\n",
       "      <td>4</td>\n",
       "      <td>True</td>\n",
       "      <td>46.2</td>\n",
       "      <td>1</td>\n",
       "    </tr>\n",
       "    <tr>\n",
       "      <th>1</th>\n",
       "      <td>8.26</td>\n",
       "      <td>5.0</td>\n",
       "      <td>5.0</td>\n",
       "      <td>1.00</td>\n",
       "      <td>Astapor</td>\n",
       "      <td>2014-05-05</td>\n",
       "      <td>Android</td>\n",
       "      <td>2014-01-29</td>\n",
       "      <td>0.0</td>\n",
       "      <td>0</td>\n",
       "      <td>False</td>\n",
       "      <td>50.0</td>\n",
       "      <td>0</td>\n",
       "    </tr>\n",
       "    <tr>\n",
       "      <th>2</th>\n",
       "      <td>0.77</td>\n",
       "      <td>5.0</td>\n",
       "      <td>4.3</td>\n",
       "      <td>1.00</td>\n",
       "      <td>Astapor</td>\n",
       "      <td>2014-01-07</td>\n",
       "      <td>iPhone</td>\n",
       "      <td>2014-01-06</td>\n",
       "      <td>0.0</td>\n",
       "      <td>3</td>\n",
       "      <td>False</td>\n",
       "      <td>100.0</td>\n",
       "      <td>0</td>\n",
       "    </tr>\n",
       "    <tr>\n",
       "      <th>3</th>\n",
       "      <td>2.36</td>\n",
       "      <td>4.9</td>\n",
       "      <td>4.6</td>\n",
       "      <td>1.14</td>\n",
       "      <td>King's Landing</td>\n",
       "      <td>2014-06-29</td>\n",
       "      <td>iPhone</td>\n",
       "      <td>2014-01-10</td>\n",
       "      <td>20.0</td>\n",
       "      <td>9</td>\n",
       "      <td>True</td>\n",
       "      <td>80.0</td>\n",
       "      <td>1</td>\n",
       "    </tr>\n",
       "    <tr>\n",
       "      <th>4</th>\n",
       "      <td>3.13</td>\n",
       "      <td>4.9</td>\n",
       "      <td>4.4</td>\n",
       "      <td>1.19</td>\n",
       "      <td>Winterfell</td>\n",
       "      <td>2014-03-15</td>\n",
       "      <td>Android</td>\n",
       "      <td>2014-01-27</td>\n",
       "      <td>11.8</td>\n",
       "      <td>14</td>\n",
       "      <td>False</td>\n",
       "      <td>82.4</td>\n",
       "      <td>0</td>\n",
       "    </tr>\n",
       "  </tbody>\n",
       "</table>\n",
       "</div>"
      ],
      "text/plain": [
       "   avg_dist  avg_rating_by_driver  avg_rating_of_driver  avg_surge  \\\n",
       "0      3.67                   5.0                   4.7       1.10   \n",
       "1      8.26                   5.0                   5.0       1.00   \n",
       "2      0.77                   5.0                   4.3       1.00   \n",
       "3      2.36                   4.9                   4.6       1.14   \n",
       "4      3.13                   4.9                   4.4       1.19   \n",
       "\n",
       "             city last_trip_date    phone signup_date  surge_pct  \\\n",
       "0  King's Landing     2014-06-17   iPhone  2014-01-25       15.4   \n",
       "1         Astapor     2014-05-05  Android  2014-01-29        0.0   \n",
       "2         Astapor     2014-01-07   iPhone  2014-01-06        0.0   \n",
       "3  King's Landing     2014-06-29   iPhone  2014-01-10       20.0   \n",
       "4      Winterfell     2014-03-15  Android  2014-01-27       11.8   \n",
       "\n",
       "   trips_in_first_30_days  ultimate_black_user  weekday_pct  active  \n",
       "0                       4                 True         46.2       1  \n",
       "1                       0                False         50.0       0  \n",
       "2                       3                False        100.0       0  \n",
       "3                       9                 True         80.0       1  \n",
       "4                      14                False         82.4       0  "
      ]
     },
     "execution_count": 24,
     "metadata": {},
     "output_type": "execute_result"
    }
   ],
   "source": [
    "ultimate_df.head()"
   ]
  },
  {
   "cell_type": "code",
   "execution_count": 98,
   "metadata": {},
   "outputs": [],
   "source": [
    "# convert signup_date to categorical feature\n",
    "ultimate_df.signup_date = ultimate_df.signup_date.astype('category')"
   ]
  },
  {
   "cell_type": "code",
   "execution_count": 109,
   "metadata": {},
   "outputs": [],
   "source": [
    "ultimate_train=ultimate_df.sample(frac=0.67, random_state=42)\n",
    "ultimate_test=ultimate_df.drop(ultimate_train.index)"
   ]
  },
  {
   "cell_type": "code",
   "execution_count": 53,
   "metadata": {},
   "outputs": [
    {
     "name": "stdout",
     "output_type": "stream",
     "text": [
      "37.79% of users have been retained.\n"
     ]
    }
   ],
   "source": [
    "# compute percent of retained users\n",
    "retained = ultimate_train.active.sum() / ultimate_train.active.count()\n",
    "print('{:.2f}% of users have been retained.'.format(retained * 100))"
   ]
  },
  {
   "cell_type": "code",
   "execution_count": 54,
   "metadata": {},
   "outputs": [
    {
     "data": {
      "text/html": [
       "<div>\n",
       "<style scoped>\n",
       "    .dataframe tbody tr th:only-of-type {\n",
       "        vertical-align: middle;\n",
       "    }\n",
       "\n",
       "    .dataframe tbody tr th {\n",
       "        vertical-align: top;\n",
       "    }\n",
       "\n",
       "    .dataframe thead th {\n",
       "        text-align: right;\n",
       "    }\n",
       "</style>\n",
       "<table border=\"1\" class=\"dataframe\">\n",
       "  <thead>\n",
       "    <tr style=\"text-align: right;\">\n",
       "      <th></th>\n",
       "      <th>active</th>\n",
       "      <th>total</th>\n",
       "      <th>pct_active</th>\n",
       "    </tr>\n",
       "    <tr>\n",
       "      <th>phone</th>\n",
       "      <th></th>\n",
       "      <th></th>\n",
       "      <th></th>\n",
       "    </tr>\n",
       "  </thead>\n",
       "  <tbody>\n",
       "    <tr>\n",
       "      <th>Android</th>\n",
       "      <td>2112</td>\n",
       "      <td>10078</td>\n",
       "      <td>20.96</td>\n",
       "    </tr>\n",
       "    <tr>\n",
       "      <th>iPhone</th>\n",
       "      <td>10453</td>\n",
       "      <td>23160</td>\n",
       "      <td>45.13</td>\n",
       "    </tr>\n",
       "    <tr>\n",
       "      <th>unknown</th>\n",
       "      <td>93</td>\n",
       "      <td>262</td>\n",
       "      <td>35.50</td>\n",
       "    </tr>\n",
       "  </tbody>\n",
       "</table>\n",
       "</div>"
      ],
      "text/plain": [
       "         active  total  pct_active\n",
       "phone                             \n",
       "Android    2112  10078       20.96\n",
       "iPhone    10453  23160       45.13\n",
       "unknown      93    262       35.50"
      ]
     },
     "execution_count": 54,
     "metadata": {},
     "output_type": "execute_result"
    }
   ],
   "source": [
    "# create dataframe of total number of users and active users by phone\n",
    "active_by_phone = pd.DataFrame([ultimate_train.groupby('phone')['active'].sum(), ultimate_train.groupby('phone')['active'].count()]).T\n",
    "active_by_phone.columns = ['active','total']\n",
    "\n",
    "# calculate percent of active users by phone\n",
    "active_by_phone['pct_active'] = round((active_by_phone.active / active_by_phone.total), 4) * 100\n",
    "active_by_phone"
   ]
  },
  {
   "cell_type": "code",
   "execution_count": 55,
   "metadata": {},
   "outputs": [
    {
     "data": {
      "image/png": "[encoded data removed]",
      "text/plain": [
       "<Figure size 432x288 with 1 Axes>"
      ]
     },
     "metadata": {
      "needs_background": "light"
     },
     "output_type": "display_data"
    }
   ],
   "source": [
    "active_by_phone.pct_active.plot(kind='bar', \n",
    "                                title='Percent of Active Users by Phone Type')\n",
    "plt.ylabel('Percent')\n",
    "plt.xlabel(None)\n",
    "plt.show()"
   ]
  },
  {
   "cell_type": "code",
   "execution_count": 56,
   "metadata": {},
   "outputs": [
    {
     "data": {
      "text/plain": [
       "active\n",
       "0    1.074097\n",
       "1    1.073370\n",
       "Name: avg_surge, dtype: float64"
      ]
     },
     "execution_count": 56,
     "metadata": {},
     "output_type": "execute_result"
    }
   ],
   "source": [
    "# compute mean average surge multiplier by active status\n",
    "ultimate_train.groupby('active')['avg_surge'].mean()"
   ]
  },
  {
   "cell_type": "code",
   "execution_count": 58,
   "metadata": {},
   "outputs": [
    {
     "data": {
      "text/plain": [
       "Text(0.5, 1.0, 'Average Surge Multiplier by Active Status')"
      ]
     },
     "execution_count": 58,
     "metadata": {},
     "output_type": "execute_result"
    },
    {
     "data": {
      "image/png": "[encoded data removed]",
      "text/plain": [
       "<Figure size 461.875x360 with 1 Axes>"
      ]
     },
     "metadata": {
      "needs_background": "light"
     },
     "output_type": "display_data"
    }
   ],
   "source": [
    "sns.catplot(x='active', y='avg_surge', hue='city', data=ultimate_train)\n",
    "plt.title('Average Surge Multiplier by Active Status')"
   ]
  },
  {
   "cell_type": "code",
   "execution_count": 112,
   "metadata": {},
   "outputs": [
    {
     "data": {
      "image/png": "[encoded data removed]",
      "text/plain": [
       "<Figure size 720x432 with 1 Axes>"
      ]
     },
     "metadata": {
      "needs_background": "light"
     },
     "output_type": "display_data"
    }
   ],
   "source": [
    "city_active = ultimate_train.groupby(['city','active'])['avg_dist'].count()\n",
    "city_active.plot(kind = 'bar', title='Users by Cityand Active Status', figsize=(10,6))\n",
    "plt.show()"
   ]
  },
  {
   "cell_type": "code",
   "execution_count": 118,
   "metadata": {},
   "outputs": [
    {
     "data": {
      "text/html": [
       "<div>\n",
       "<style scoped>\n",
       "    .dataframe tbody tr th:only-of-type {\n",
       "        vertical-align: middle;\n",
       "    }\n",
       "\n",
       "    .dataframe tbody tr th {\n",
       "        vertical-align: top;\n",
       "    }\n",
       "\n",
       "    .dataframe thead th {\n",
       "        text-align: right;\n",
       "    }\n",
       "</style>\n",
       "<table border=\"1\" class=\"dataframe\">\n",
       "  <thead>\n",
       "    <tr style=\"text-align: right;\">\n",
       "      <th></th>\n",
       "      <th>inactive</th>\n",
       "      <th>active</th>\n",
       "      <th>pct_retained</th>\n",
       "    </tr>\n",
       "    <tr>\n",
       "      <th>city</th>\n",
       "      <th></th>\n",
       "      <th></th>\n",
       "      <th></th>\n",
       "    </tr>\n",
       "  </thead>\n",
       "  <tbody>\n",
       "    <tr>\n",
       "      <th>Astapor</th>\n",
       "      <td>8179</td>\n",
       "      <td>2853</td>\n",
       "      <td>0.258611</td>\n",
       "    </tr>\n",
       "    <tr>\n",
       "      <th>King's Landing</th>\n",
       "      <td>2520</td>\n",
       "      <td>4339</td>\n",
       "      <td>0.632600</td>\n",
       "    </tr>\n",
       "    <tr>\n",
       "      <th>Winterfell</th>\n",
       "      <td>10143</td>\n",
       "      <td>5466</td>\n",
       "      <td>0.350183</td>\n",
       "    </tr>\n",
       "  </tbody>\n",
       "</table>\n",
       "</div>"
      ],
      "text/plain": [
       "                inactive  active  pct_retained\n",
       "city                                          \n",
       "Astapor             8179    2853      0.258611\n",
       "King's Landing      2520    4339      0.632600\n",
       "Winterfell         10143    5466      0.350183"
      ]
     },
     "execution_count": 118,
     "metadata": {},
     "output_type": "execute_result"
    }
   ],
   "source": [
    "city_active = city_active.unstack()\n",
    "city_active.columns = ['inactive', 'active']\n",
    "city_active['pct_retained'] = city_active.active / (city_active.active + city_active.inactive)\n",
    "city_active"
   ]
  },
  {
   "cell_type": "code",
   "execution_count": 59,
   "metadata": {},
   "outputs": [
    {
     "data": {
      "text/plain": [
       "<seaborn.axisgrid.FacetGrid at 0x1ac3298a7f0>"
      ]
     },
     "execution_count": 59,
     "metadata": {},
     "output_type": "execute_result"
    },
    {
     "data": {
      "image/png": "[encoded data removed]",
      "text/plain": [
       "<Figure size 360x360 with 1 Axes>"
      ]
     },
     "metadata": {
      "needs_background": "light"
     },
     "output_type": "display_data"
    }
   ],
   "source": [
    "sns.catplot(x='active', y='avg_dist', data=ultimate_train)"
   ]
  },
  {
   "cell_type": "code",
   "execution_count": 62,
   "metadata": {},
   "outputs": [
    {
     "data": {
      "text/plain": [
       "active\n",
       "0    6.231335\n",
       "1    5.111653\n",
       "Name: avg_dist, dtype: float64"
      ]
     },
     "execution_count": 62,
     "metadata": {},
     "output_type": "execute_result"
    }
   ],
   "source": [
    "ultimate_train.groupby('active')['avg_dist'].mean()"
   ]
  },
  {
   "cell_type": "code",
   "execution_count": 63,
   "metadata": {},
   "outputs": [
    {
     "data": {
      "text/plain": [
       "active\n",
       "0    6.222086\n",
       "1    4.709922\n",
       "Name: avg_dist, dtype: float64"
      ]
     },
     "execution_count": 63,
     "metadata": {},
     "output_type": "execute_result"
    }
   ],
   "source": [
    "ultimate_train.groupby('active')['avg_dist'].std()"
   ]
  },
  {
   "cell_type": "code",
   "execution_count": 64,
   "metadata": {},
   "outputs": [
    {
     "data": {
      "text/plain": [
       "<matplotlib.legend.Legend at 0x1ac3af7bda0>"
      ]
     },
     "execution_count": 64,
     "metadata": {},
     "output_type": "execute_result"
    },
    {
     "data": {
      "image/png": "[encoded data removed]",
      "text/plain": [
       "<Figure size 720x432 with 1 Axes>"
      ]
     },
     "metadata": {
      "needs_background": "light"
     },
     "output_type": "display_data"
    }
   ],
   "source": [
    "# plot normed distributions of active vs inactive based on avg_dist\n",
    "fig, ax = plt.subplots(figsize=(10,6))\n",
    "sns.distplot(np.random.normal(5.11, 4.71, 1000), hist=False, label='active', ax=ax)\n",
    "sns.distplot(np.random.normal(6.23, 6.22, 1000), hist=False, label='inactive', ax=ax)\n",
    "ax.set_title('Sampled Average Distance by Active Status', fontsize=14)\n",
    "ax.set_xlabel('Average Distance')\n",
    "ax.set_ylabel('Probability')\n",
    "plt.legend()"
   ]
  },
  {
   "cell_type": "code",
   "execution_count": 73,
   "metadata": {},
   "outputs": [
    {
     "data": {
      "text/plain": [
       "active\n",
       "0    0.297908\n",
       "1    0.507979\n",
       "Name: ultimate_black_user, dtype: float64"
      ]
     },
     "execution_count": 73,
     "metadata": {},
     "output_type": "execute_result"
    }
   ],
   "source": [
    "ultimate_train.groupby('active')['ultimate_black_user'].sum() / ultimate_train.groupby('active')['ultimate_black_user'].count()"
   ]
  },
  {
   "cell_type": "markdown",
   "metadata": {},
   "source": [
    "#### Insights\n",
    "* 37.79% of users have been retained\n",
    "* iPhone users (45.13%) are retained at a rate twice as high as Android users (20.96%)\n",
    "* Winterfell experienced the highest surge rate\n",
    "* King's Landing (63.3%) had the highest retention percentage followed by Winterfell (35.0%) and Astapor (25.9%)\n",
    "* Users with average surge rates above 4.5 are unlikely to be retained\n",
    "* Ultimate Black Users were more likely to be retained (50.80% vs 29.79%)"
   ]
  },
  {
   "cell_type": "markdown",
   "metadata": {},
   "source": [
    "### 3.2 Predictive Model\n",
    "Since we are not dealing with an overly imbalanced dataset, we will first validate our model performance using accuracy on the test set that was set aside. In order to differentiate model performance in later models, we will also calculate a confusion matrix and assess precision and recall scores. "
   ]
  },
  {
   "cell_type": "code",
   "execution_count": 103,
   "metadata": {},
   "outputs": [],
   "source": [
    "# one-hot encoding for categorical features\n",
    "ultimate_train = pd.get_dummies(ultimate_train, columns=['city','phone','ultimate_black_user'])\n",
    "ultimate_test = pd.get_dummies(ultimate_test, columns=['city','phone','ultimate_black_user'])"
   ]
  },
  {
   "cell_type": "code",
   "execution_count": 69,
   "metadata": {},
   "outputs": [
    {
     "data": {
      "text/html": [
       "<div>\n",
       "<style scoped>\n",
       "    .dataframe tbody tr th:only-of-type {\n",
       "        vertical-align: middle;\n",
       "    }\n",
       "\n",
       "    .dataframe tbody tr th {\n",
       "        vertical-align: top;\n",
       "    }\n",
       "\n",
       "    .dataframe thead th {\n",
       "        text-align: right;\n",
       "    }\n",
       "</style>\n",
       "<table border=\"1\" class=\"dataframe\">\n",
       "  <thead>\n",
       "    <tr style=\"text-align: right;\">\n",
       "      <th></th>\n",
       "      <th>avg_dist</th>\n",
       "      <th>avg_rating_by_driver</th>\n",
       "      <th>avg_rating_of_driver</th>\n",
       "      <th>avg_surge</th>\n",
       "      <th>city</th>\n",
       "      <th>last_trip_date</th>\n",
       "      <th>phone</th>\n",
       "      <th>signup_date</th>\n",
       "      <th>surge_pct</th>\n",
       "      <th>trips_in_first_30_days</th>\n",
       "      <th>ultimate_black_user</th>\n",
       "      <th>weekday_pct</th>\n",
       "      <th>active</th>\n",
       "    </tr>\n",
       "  </thead>\n",
       "  <tbody>\n",
       "    <tr>\n",
       "      <th>33553</th>\n",
       "      <td>3.42</td>\n",
       "      <td>4.7</td>\n",
       "      <td>3.8</td>\n",
       "      <td>1.00</td>\n",
       "      <td>Winterfell</td>\n",
       "      <td>2014-06-21</td>\n",
       "      <td>iPhone</td>\n",
       "      <td>2014-01-10</td>\n",
       "      <td>0.0</td>\n",
       "      <td>1</td>\n",
       "      <td>True</td>\n",
       "      <td>60.0</td>\n",
       "      <td>1</td>\n",
       "    </tr>\n",
       "    <tr>\n",
       "      <th>9427</th>\n",
       "      <td>3.21</td>\n",
       "      <td>5.0</td>\n",
       "      <td>4.8</td>\n",
       "      <td>1.00</td>\n",
       "      <td>Astapor</td>\n",
       "      <td>2014-06-17</td>\n",
       "      <td>iPhone</td>\n",
       "      <td>2014-01-15</td>\n",
       "      <td>0.0</td>\n",
       "      <td>0</td>\n",
       "      <td>True</td>\n",
       "      <td>75.0</td>\n",
       "      <td>1</td>\n",
       "    </tr>\n",
       "    <tr>\n",
       "      <th>199</th>\n",
       "      <td>4.58</td>\n",
       "      <td>5.0</td>\n",
       "      <td>5.0</td>\n",
       "      <td>1.00</td>\n",
       "      <td>Winterfell</td>\n",
       "      <td>2014-05-16</td>\n",
       "      <td>iPhone</td>\n",
       "      <td>2014-01-16</td>\n",
       "      <td>0.0</td>\n",
       "      <td>0</td>\n",
       "      <td>False</td>\n",
       "      <td>100.0</td>\n",
       "      <td>0</td>\n",
       "    </tr>\n",
       "    <tr>\n",
       "      <th>12447</th>\n",
       "      <td>2.94</td>\n",
       "      <td>5.0</td>\n",
       "      <td>5.0</td>\n",
       "      <td>1.50</td>\n",
       "      <td>Astapor</td>\n",
       "      <td>2014-02-02</td>\n",
       "      <td>Android</td>\n",
       "      <td>2014-01-27</td>\n",
       "      <td>50.0</td>\n",
       "      <td>2</td>\n",
       "      <td>False</td>\n",
       "      <td>0.0</td>\n",
       "      <td>0</td>\n",
       "    </tr>\n",
       "    <tr>\n",
       "      <th>39489</th>\n",
       "      <td>2.74</td>\n",
       "      <td>4.8</td>\n",
       "      <td>4.8</td>\n",
       "      <td>1.03</td>\n",
       "      <td>Astapor</td>\n",
       "      <td>2014-05-27</td>\n",
       "      <td>Android</td>\n",
       "      <td>2014-01-05</td>\n",
       "      <td>11.1</td>\n",
       "      <td>0</td>\n",
       "      <td>False</td>\n",
       "      <td>55.6</td>\n",
       "      <td>0</td>\n",
       "    </tr>\n",
       "  </tbody>\n",
       "</table>\n",
       "</div>"
      ],
      "text/plain": [
       "       avg_dist  avg_rating_by_driver  avg_rating_of_driver  avg_surge  \\\n",
       "33553      3.42                   4.7                   3.8       1.00   \n",
       "9427       3.21                   5.0                   4.8       1.00   \n",
       "199        4.58                   5.0                   5.0       1.00   \n",
       "12447      2.94                   5.0                   5.0       1.50   \n",
       "39489      2.74                   4.8                   4.8       1.03   \n",
       "\n",
       "             city last_trip_date    phone signup_date  surge_pct  \\\n",
       "33553  Winterfell     2014-06-21   iPhone  2014-01-10        0.0   \n",
       "9427      Astapor     2014-06-17   iPhone  2014-01-15        0.0   \n",
       "199    Winterfell     2014-05-16   iPhone  2014-01-16        0.0   \n",
       "12447     Astapor     2014-02-02  Android  2014-01-27       50.0   \n",
       "39489     Astapor     2014-05-27  Android  2014-01-05       11.1   \n",
       "\n",
       "       trips_in_first_30_days  ultimate_black_user  weekday_pct  active  \n",
       "33553                       1                 True         60.0       1  \n",
       "9427                        0                 True         75.0       1  \n",
       "199                         0                False        100.0       0  \n",
       "12447                       2                False          0.0       0  \n",
       "39489                       0                False         55.6       0  "
      ]
     },
     "execution_count": 69,
     "metadata": {},
     "output_type": "execute_result"
    }
   ],
   "source": [
    "ultimate_train.head()"
   ]
  },
  {
   "cell_type": "code",
   "execution_count": 104,
   "metadata": {},
   "outputs": [],
   "source": [
    "# create training data label and feature arrays\n",
    "y_train = ultimate_train.active.values\n",
    "X_train = ultimate_train.drop(['last_trip_date', 'active'], axis=1).values\n",
    "\n",
    "# create test data label and feature arrays\n",
    "y_test = ultimate_test.active.values\n",
    "X_test = ultimate_test.drop(['last_trip_date', 'active'], axis=1).values"
   ]
  },
  {
   "cell_type": "markdown",
   "metadata": {},
   "source": [
    "#### Logistic Regression\n",
    "Logistic regression will be used as our baseline model as it is computationally inexpensive. "
   ]
  },
  {
   "cell_type": "code",
   "execution_count": 124,
   "metadata": {},
   "outputs": [
    {
     "name": "stdout",
     "output_type": "stream",
     "text": [
      "0.6275151515151515\n",
      "0.6275151515151515\n"
     ]
    }
   ],
   "source": [
    "# instantiate classifier\n",
    "clf = LogisticRegression(solver='liblinear')\n",
    "\n",
    "# Fit the model on the trainng data.\n",
    "clf.fit(X_train, y_train)\n",
    "\n",
    "# Print the accuracy from the testing data.\n",
    "print(clf.score(X_test, y_test))"
   ]
  },
  {
   "cell_type": "markdown",
   "metadata": {},
   "source": [
    "Next, we will compare a few ensemble methods as they will likely improve model performace. After computing a baseline score, grid search with cross-validation will be used to optimize hyperparamet tuning."
   ]
  },
  {
   "cell_type": "markdown",
   "metadata": {},
   "source": [
    "#### AdaBoost\n",
    "We will start with the first of the successful ensemble methods as a baseline. "
   ]
  },
  {
   "cell_type": "code",
   "execution_count": 136,
   "metadata": {},
   "outputs": [
    {
     "data": {
      "text/plain": [
       "0.7853939393939394"
      ]
     },
     "execution_count": 136,
     "metadata": {},
     "output_type": "execute_result"
    }
   ],
   "source": [
    "# instantiate classifier\n",
    "ada = AdaBoostClassifier(random_state=42)\n",
    "\n",
    "# fit the model\n",
    "ada.fit(X_train, y_train)\n",
    "\n",
    "# print the accuracy score\n",
    "ada.score(X_test, y_test)"
   ]
  },
  {
   "cell_type": "code",
   "execution_count": 140,
   "metadata": {},
   "outputs": [
    {
     "name": "stdout",
     "output_type": "stream",
     "text": [
      "Best score:0.7816119402985074\n",
      "AdaBoostClassifier(algorithm='SAMME.R', base_estimator=None,\n",
      "          learning_rate=1.0, n_estimators=250, random_state=42)\n"
     ]
    }
   ],
   "source": [
    "# grid search for hyperparameter tuning\n",
    "ada_param_grids = {'n_estimators':[5, 100, 250],\n",
    "               'learning_rate':[0.01, 0.1, 1.0]\n",
    "               }\n",
    "ada_cv = GridSearchCV(ada, param_grid=ada_param_grids, cv=5)\n",
    "ada_cv.fit(X_train,y_train)\n",
    "\n",
    "#print the best model accuracy\n",
    "print('Best score:{}'.format(ada_cv.best_score_))\n",
    "\n",
    "# print the best model hyperparameter inputs\n",
    "print(ada_cv.best_estimator_)"
   ]
  },
  {
   "cell_type": "code",
   "execution_count": 139,
   "metadata": {},
   "outputs": [
    {
     "data": {
      "text/plain": [
       "0.7868484848484848"
      ]
     },
     "execution_count": 139,
     "metadata": {},
     "output_type": "execute_result"
    }
   ],
   "source": [
    "# instantiate new model\n",
    "ada2 = AdaBoostClassifier(n_estimators=250, random_state=42)\n",
    "\n",
    "# fit the model\n",
    "ada2.fit(X_train, y_train)\n",
    "\n",
    "# print accuracy\n",
    "ada2.score(X_test, y_test)"
   ]
  },
  {
   "cell_type": "code",
   "execution_count": 145,
   "metadata": {},
   "outputs": [
    {
     "name": "stdout",
     "output_type": "stream",
     "text": [
      "              precision    recall  f1-score   support\n",
      "\n",
      "           0       0.81      0.87      0.84     10354\n",
      "           1       0.75      0.65      0.69      6146\n",
      "\n",
      "   micro avg       0.79      0.79      0.79     16500\n",
      "   macro avg       0.78      0.76      0.77     16500\n",
      "weighted avg       0.78      0.79      0.78     16500\n",
      "\n"
     ]
    }
   ],
   "source": [
    "# print classification report\n",
    "ada2_preds = ada2.predict(X_test)\n",
    "print(classification_report(y_test, ada2_preds))"
   ]
  },
  {
   "cell_type": "code",
   "execution_count": 144,
   "metadata": {},
   "outputs": [
    {
     "data": {
      "image/png": "[encoded data removed]",
      "text/plain": [
       "<Figure size 576x396 with 1 Axes>"
      ]
     },
     "metadata": {},
     "output_type": "display_data"
    }
   ],
   "source": [
    "# create confusion matrix\n",
    "ada_model = AdaBoostClassifier(n_estimators=250, random_state=42)\n",
    "ada_cm = ConfusionMatrix(ada_model)\n",
    "ada_cm.fit(X_train, y_train)\n",
    "ada_cm.score(X_test, y_test)\n",
    "ada_cm.poof()"
   ]
  },
  {
   "cell_type": "markdown",
   "metadata": {},
   "source": [
    "#### Gradient Boosting\n",
    "Next, we will move to gradient boosting as we are likely to see improved results."
   ]
  },
  {
   "cell_type": "code",
   "execution_count": 132,
   "metadata": {},
   "outputs": [
    {
     "data": {
      "text/plain": [
       "0.7856363636363637"
      ]
     },
     "execution_count": 132,
     "metadata": {},
     "output_type": "execute_result"
    }
   ],
   "source": [
    "# instantiate the classifier\n",
    "gbc = GradientBoostingClassifier(random_state=42).fit(X_train, y_train)\n",
    "\n",
    "# print the accuracy score\n",
    "gbc.score(X_test, y_test)"
   ]
  },
  {
   "cell_type": "code",
   "execution_count": 129,
   "metadata": {},
   "outputs": [
    {
     "data": {
      "text/plain": [
       "GridSearchCV(cv=5, error_score='raise-deprecating',\n",
       "       estimator=GradientBoostingClassifier(criterion='friedman_mse', init=None,\n",
       "              learning_rate=0.1, loss='deviance', max_depth=3,\n",
       "              max_features=None, max_leaf_nodes=None,\n",
       "              min_impurity_decrease=0.0, min_impurity_split=None,\n",
       "              min_samples_leaf=1, min_sampl...      subsample=1.0, tol=0.0001, validation_fraction=0.1,\n",
       "              verbose=0, warm_start=False),\n",
       "       fit_params=None, iid='warn', n_jobs=None,\n",
       "       param_grid={'max_depth': [1, 5, 10, 15], 'n_estimators': [10, 100, 250], 'subsample': [0.001, 0.01, 0.1, 1.0], 'learning_rate': [0.001, 0.01, 0.1]},\n",
       "       pre_dispatch='2*n_jobs', refit=True, return_train_score='warn',\n",
       "       scoring=None, verbose=0)"
      ]
     },
     "execution_count": 129,
     "metadata": {},
     "output_type": "execute_result"
    }
   ],
   "source": [
    "# Grid search hyperparameters\n",
    "param_grids = {'max_depth':[3,10,15],\n",
    "               'n_estimators':[10, 100, 250],\n",
    "               'subsample':[0.01, 0.1, 1.0],\n",
    "               'learning_rate':[0.001, 0.01, 0.1]\n",
    "               }\n",
    "gbc_cv = GridSearchCV(gbc, param_grid=param_grids, cv = 5)\n",
    "gbc_cv.fit(X_train,y_train)"
   ]
  },
  {
   "cell_type": "code",
   "execution_count": 130,
   "metadata": {},
   "outputs": [
    {
     "name": "stdout",
     "output_type": "stream",
     "text": [
      "Best score:0.7886865671641791\n",
      "GradientBoostingClassifier(criterion='friedman_mse', init=None,\n",
      "              learning_rate=0.1, loss='deviance', max_depth=5,\n",
      "              max_features=None, max_leaf_nodes=None,\n",
      "              min_impurity_decrease=0.0, min_impurity_split=None,\n",
      "              min_samples_leaf=1, min_samples_split=2,\n",
      "              min_weight_fraction_leaf=0.0, n_estimators=250,\n",
      "              n_iter_no_change=None, presort='auto', random_state=None,\n",
      "              subsample=1.0, tol=0.0001, validation_fraction=0.1,\n",
      "              verbose=0, warm_start=False)\n"
     ]
    }
   ],
   "source": [
    "# print the best accuracy score from the grid search models\n",
    "print('Best score:{}'.format(gbc_cv.best_score_))\n",
    "\n",
    "# print the hyperparameter inputs for the best model\n",
    "print(gbc_cv.best_estimator_)"
   ]
  },
  {
   "cell_type": "code",
   "execution_count": 131,
   "metadata": {},
   "outputs": [
    {
     "name": "stdout",
     "output_type": "stream",
     "text": [
      "Best score:0.7894328358208955\n",
      "GradientBoostingClassifier(criterion='friedman_mse', init=None,\n",
      "              learning_rate=0.1, loss='deviance', max_depth=3,\n",
      "              max_features=None, max_leaf_nodes=None,\n",
      "              min_impurity_decrease=0.0, min_impurity_split=None,\n",
      "              min_samples_leaf=1, min_samples_split=2,\n",
      "              min_weight_fraction_leaf=0.0, n_estimators=500,\n",
      "              n_iter_no_change=None, presort='auto', random_state=None,\n",
      "              subsample=1.0, tol=0.0001, validation_fraction=0.1,\n",
      "              verbose=0, warm_start=False)\n"
     ]
    }
   ],
   "source": [
    "# continue hyperparameter tuning \n",
    "gbc_cv = GridSearchCV(gbc, param_grid={'max_depth':[1,3,5], 'n_estimators':[250, 350, 500]}, cv = 5)\n",
    "gbc_cv.fit(X_train,y_train)\n",
    "print('Best score:{}'.format(gbc_cv.best_score_))\n",
    "print(gbc_cv.best_estimator_)"
   ]
  },
  {
   "cell_type": "code",
   "execution_count": 167,
   "metadata": {},
   "outputs": [
    {
     "data": {
      "text/plain": [
       "0.792060606060606"
      ]
     },
     "execution_count": 167,
     "metadata": {},
     "output_type": "execute_result"
    }
   ],
   "source": [
    "# final tested gradient boosting model\n",
    "gbc2 = GradientBoostingClassifier(n_estimators=1000, random_state=42).fit(X_train, y_train)\n",
    "gbc2.score(X_test, y_test)"
   ]
  },
  {
   "cell_type": "code",
   "execution_count": 142,
   "metadata": {},
   "outputs": [
    {
     "name": "stdout",
     "output_type": "stream",
     "text": [
      "              precision    recall  f1-score   support\n",
      "\n",
      "           0       0.81      0.86      0.84     10354\n",
      "           1       0.75      0.67      0.71      6146\n",
      "\n",
      "   micro avg       0.79      0.79      0.79     16500\n",
      "   macro avg       0.78      0.77      0.77     16500\n",
      "weighted avg       0.79      0.79      0.79     16500\n",
      "\n"
     ]
    }
   ],
   "source": [
    "# print classification report\n",
    "gbc2_preds = gbc2.predict(X_test)\n",
    "print(classification_report(y_test, gbc2_preds))"
   ]
  },
  {
   "cell_type": "code",
   "execution_count": 143,
   "metadata": {},
   "outputs": [
    {
     "data": {
      "image/png": "[encoded data removed]",
      "text/plain": [
       "<Figure size 576x396 with 1 Axes>"
      ]
     },
     "metadata": {},
     "output_type": "display_data"
    }
   ],
   "source": [
    "# create confusion matrix\n",
    "model = GradientBoostingClassifier(n_estimators=500, random_state=42).fit(X_train, y_train)\n",
    "cm = ConfusionMatrix(model)\n",
    "cm.fit(X_train, y_train)\n",
    "cm.score(X_test, y_test)\n",
    "cm.poof()"
   ]
  },
  {
   "cell_type": "markdown",
   "metadata": {},
   "source": [
    "#### XGBoost\n",
    "We will build upon gradient boosting with extreme gradient boosting (XGBoost), which, in addition to potential improved model performance, also has the benefit of increased execution speed (if the model needed to be scaled). "
   ]
  },
  {
   "cell_type": "code",
   "execution_count": 164,
   "metadata": {},
   "outputs": [
    {
     "name": "stdout",
     "output_type": "stream",
     "text": [
      "              precision    recall  f1-score   support\n",
      "\n",
      "           0       0.82      0.86      0.84     10354\n",
      "           1       0.74      0.67      0.71      6146\n",
      "\n",
      "   micro avg       0.79      0.79      0.79     16500\n",
      "   macro avg       0.78      0.77      0.77     16500\n",
      "weighted avg       0.79      0.79      0.79     16500\n",
      "\n"
     ]
    }
   ],
   "source": [
    "# instantiate the model\n",
    "matrix = xgb.DMatrix(data=X_train,label=y_train)\n",
    "xgb_reg = xgb.XGBClassifier(n_estimators=1000, random_state=42).fit(X_train, y_train)\n",
    "\n",
    "# make predictions on test set\n",
    "xgb_preds = xgb_reg.predict(X_test)\n",
    "\n",
    "# print classification report\n",
    "print(classification_report(y_test, xgb_preds))"
   ]
  },
  {
   "cell_type": "code",
   "execution_count": 165,
   "metadata": {},
   "outputs": [
    {
     "data": {
      "text/plain": [
       "0.7922424242424242"
      ]
     },
     "execution_count": 165,
     "metadata": {},
     "output_type": "execute_result"
    }
   ],
   "source": [
    "# print XGBoost accuracy\n",
    "accuracy_score(y_test, xgb_preds)"
   ]
  },
  {
   "cell_type": "code",
   "execution_count": 170,
   "metadata": {},
   "outputs": [
    {
     "data": {
      "text/plain": [
       "GridSearchCV(cv=5, error_score='raise-deprecating',\n",
       "       estimator=XGBClassifier(base_score=0.5, booster='gbtree', colsample_bylevel=1,\n",
       "       colsample_bytree=1, gamma=0, learning_rate=0.1, max_delta_step=0,\n",
       "       max_depth=3, min_child_weight=1, missing=None, n_estimators=100,\n",
       "       n_jobs=1, nthread=None, num_parallel_trees=-1,\n",
       "       objective='binary:logistic', random_state=42, reg_alpha=0,\n",
       "       reg_lambda=1, scale_pos_weight=1, seed=None, silent=True,\n",
       "       subsample=1),\n",
       "       fit_params=None, iid='warn', n_jobs=None,\n",
       "       param_grid={'max_depth': [3, 10, 15], 'n_estimators': [750, 1000, 1250], 'subsample': [0.5, 1.0]},\n",
       "       pre_dispatch='2*n_jobs', refit=True, return_train_score='warn',\n",
       "       scoring=None, verbose=0)"
      ]
     },
     "execution_count": 170,
     "metadata": {},
     "output_type": "execute_result"
    }
   ],
   "source": [
    "# compute grid search\n",
    "xgb_param_grids = {'max_depth':[3,10,15],\n",
    "               'n_estimators':[750, 1000, 1250],\n",
    "               'subsample':[0.5, 1.0]\n",
    "               }\n",
    "matrix = xgb.DMatrix(data=X_train,label=y_train)\n",
    "xgb_reg = xgb.XGBClassifier(num_parallel_trees=-1, random_state=42)\n",
    "xgb_cv = GridSearchCV(xgb_reg, param_grid=xgb_param_grids, cv = 5)\n",
    "xgb_cv.fit(X_train,y_train)"
   ]
  },
  {
   "cell_type": "code",
   "execution_count": 171,
   "metadata": {},
   "outputs": [
    {
     "name": "stdout",
     "output_type": "stream",
     "text": [
      "Best score:0.7893134328358209\n",
      "XGBClassifier(base_score=0.5, booster='gbtree', colsample_bylevel=1,\n",
      "       colsample_bytree=1, gamma=0, learning_rate=0.1, max_delta_step=0,\n",
      "       max_depth=3, min_child_weight=1, missing=None, n_estimators=1250,\n",
      "       n_jobs=1, nthread=None, num_parallel_trees=-1,\n",
      "       objective='binary:logistic', random_state=42, reg_alpha=0,\n",
      "       reg_lambda=1, scale_pos_weight=1, seed=None, silent=True,\n",
      "       subsample=1.0)\n"
     ]
    }
   ],
   "source": [
    "# print best model accuracy and parameters\n",
    "print('Best score:{}'.format(xgb_cv.best_score_))\n",
    "print(xgb_cv.best_estimator_)"
   ]
  },
  {
   "cell_type": "code",
   "execution_count": 173,
   "metadata": {},
   "outputs": [
    {
     "name": "stdout",
     "output_type": "stream",
     "text": [
      "0.7921818181818182\n",
      "              precision    recall  f1-score   support\n",
      "\n",
      "           0       0.82      0.86      0.84     10354\n",
      "           1       0.75      0.67      0.71      6146\n",
      "\n",
      "   micro avg       0.79      0.79      0.79     16500\n",
      "   macro avg       0.78      0.77      0.77     16500\n",
      "weighted avg       0.79      0.79      0.79     16500\n",
      "\n"
     ]
    }
   ],
   "source": [
    "# instantiate the model\n",
    "matrix = xgb.DMatrix(data=X_train,label=y_train)\n",
    "xgb_reg = xgb.XGBClassifier(n_estimators=1250, random_state=42).fit(X_train, y_train)\n",
    "\n",
    "# make predictions on test set\n",
    "xgb_preds = xgb_reg.predict(X_test)\n",
    "\n",
    "# print XGBoost accuracy\n",
    "print(accuracy_score(y_test, xgb_preds))\n",
    "\n",
    "# print classification report\n",
    "print(classification_report(y_test, xgb_preds))"
   ]
  },
  {
   "cell_type": "code",
   "execution_count": 175,
   "metadata": {},
   "outputs": [
    {
     "data": {
      "image/png": "[encoded data removed]",
      "text/plain": [
       "<Figure size 576x396 with 1 Axes>"
      ]
     },
     "metadata": {},
     "output_type": "display_data"
    }
   ],
   "source": [
    "xgb_model = xgb.XGBClassifier(n_estimators=1250, random_state=42)\n",
    "xgb_cm = ConfusionMatrix(xgb_model)\n",
    "xgb_cm.fit(X_train, y_train)\n",
    "xgb_cm.score(X_test, y_test)\n",
    "xgb_cm.poof()"
   ]
  },
  {
   "cell_type": "markdown",
   "metadata": {},
   "source": [
    "#### Conclusion\n",
    "As expected, XGBoost produced the best model when validated using accuracy (79.2%), precision (82% of retainment), and recall (67% attrition). Precision and recall are of particular interest in validating our model as they give a sense of how well the model is able to provide us with relevant results. The model is able to recall 86% of retained users and 67% of inactive users with a precision of 82% and 75% respectively. This model slightly sacrifices the accuracy of predicting retained users at the expense of more accurately predicting inactive users. Ultimate Technologies could use this model to find trends in attrition by extracting feature importance from the model and using hypothesis testing to confirm correlation. The company could then use the model to 1) identify those customers that were likely to become inactive and provide them with incentive to remain active, and 2) find ways to improve the overall service and retention rate.\n",
    "\n",
    "Moving forward, we might be able to further improve the model by taking advantage of XGBoost's regularization feature. This could help produce a more accurate model by reducing overfitting to the training data. "
   ]
  },
  {
   "cell_type": "code",
   "execution_count": null,
   "metadata": {},
   "outputs": [],
   "source": []
  }
 ],
 "metadata": {
  "kernelspec": {
   "display_name": "ultimate",
   "language": "python",
   "name": "ultimate"
  },
  "language_info": {
   "codemirror_mode": {
    "name": "ipython",
    "version": 3
   },
   "file_extension": ".py",
   "mimetype": "text/x-python",
   "name": "python",
   "nbconvert_exporter": "python",
   "pygments_lexer": "ipython3",
   "version": "3.7.1"
  }
 },
 "nbformat": 4,
 "nbformat_minor": 2
}
